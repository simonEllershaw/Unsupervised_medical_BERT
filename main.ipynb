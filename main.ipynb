{
 "cells": [
  {
   "cell_type": "markdown",
   "metadata": {},
   "source": [
    "# Advanced Machine Learning in Healthcare Coursework\n",
    "## Finetuning BERT on the MTSamples Corpus\n",
    "Student Candidate Number: KRQV5"
   ]
  },
  {
   "cell_type": "markdown",
   "metadata": {},
   "source": [
    "## Preprocessing\n",
    "\n",
    "Adapted from this blog post https://towardsdatascience.com/masked-language-modelling-with-bert-7d49793e5d2c"
   ]
  },
  {
   "cell_type": "markdown",
   "metadata": {},
   "source": [
    "### Split files into train, val, test sets"
   ]
  },
  {
   "cell_type": "code",
   "execution_count": 39,
   "metadata": {
    "tags": []
   },
   "outputs": [],
   "source": [
    "import os\n",
    "import random\n",
    "\n",
    "#https://towardsdatascience.com/masked-language-modelling-with-bert-7d49793e5d2c\n",
    "\n",
    "random.seed(13)\n",
    "plaintext_directory = os.path.join(\"amlh_nlp_dataset\", \"amlh_nlp_dataset\", \"plaintext_data\")\n",
    "plaintext_fnames = [fname for fname in os.listdir(plaintext_directory) if fname.endswith(\".txt\")]\n",
    "\n",
    "random.shuffle(plaintext_fnames)\n",
    "val_index = int(0.2*len(plaintext_fnames))\n",
    "test_index = val_index + int(0.2*len(plaintext_fnames))\n",
    "fnames_val = plaintext_fnames[:val_index]\n",
    "fnames_test = plaintext_fnames[val_index:test_index]\n",
    "fnames_train = plaintext_fnames[test_index:]"
   ]
  },
  {
   "cell_type": "markdown",
   "metadata": {},
   "source": [
    "Sanity check output"
   ]
  },
  {
   "cell_type": "code",
   "execution_count": 40,
   "metadata": {},
   "outputs": [
    {
     "name": "stdout",
     "output_type": "stream",
     "text": [
      "297 98 98\n",
      "['3930_Discharge Summary.txt', '3360_General Medicine.txt', '1570_Radiology.txt', '3513_Gastroenterology.txt', '2838_Neurology.txt']\n"
     ]
    }
   ],
   "source": [
    "print(len(fnames_train), len(fnames_val), len(fnames_test))\n",
    "print(fnames_train[:5])"
   ]
  },
  {
   "cell_type": "markdown",
   "metadata": {},
   "source": [
    "### Extract annotated sentences"
   ]
  },
  {
   "cell_type": "markdown",
   "metadata": {},
   "source": [
    "Helper functions"
   ]
  },
  {
   "cell_type": "code",
   "execution_count": 41,
   "metadata": {},
   "outputs": [],
   "source": [
    "import nltk\n",
    "\n",
    "def get_occurance_of_word_in_string(word, string, word_start_idx):\n",
    "    # Recursively find what nth occurance of the word at word_start_idx is\n",
    "    first_word_idx = string.find(word)\n",
    "    # Base case\n",
    "    if(first_word_idx == word_start_idx):\n",
    "        return 1\n",
    "    return 1 + get_occurance_of_word_in_string(word, string[first_word_idx+1:], word_start_idx-first_word_idx-1)\n",
    "    \n",
    "def get_n_occurance_words_sentence(list_of_sentences, word, n_occurance):\n",
    "    num_times_word_prev_seen = 0\n",
    "    for sentence in list_of_sentences:\n",
    "        # For each sentence count number of times target word appears\n",
    "        num_word_occurances = sentence.count(word)\n",
    "        # If target word appears for nth time in sentence find it's position and return sentence and idx\n",
    "        if num_word_occurances + num_times_word_prev_seen >= n_occurance:\n",
    "            occurances_to_mask = n_occurance - num_times_word_prev_seen -1\n",
    "            anno_start_idx_in_sentence = sentence.replace(word, word.upper(), occurances_to_mask).find(word) \n",
    "            return sentence, anno_start_idx_in_sentence\n",
    "        # If not move to next sentence with word count updated\n",
    "        num_times_word_prev_seen += num_word_occurances\n",
    "\n",
    "# Helper functions to convert string to int labels and vice versa\n",
    "def label_to_int(label):\n",
    "    return 1 if label == \"Disease_Syndrome\" else 0\n",
    "\n",
    "def int_to_label(intLabel):\n",
    "    return \"Disease_Syndrome\" if intLabel == 1 else \"Other\"\n",
    "\n",
    "def extract_text_from_annotations(annotations, plaintext_directory):\n",
    "    # For each annotated sentence get these features\n",
    "    extracts = {\"text\": [], \"idxs\":[], \"labels\":[], \"anno\":[]}\n",
    "    for _, anno in annotations.iterrows():\n",
    "        # Get data from df\n",
    "        anno_filepath = os.path.join(plaintext_directory, anno.file)\n",
    "        anno_length = anno.end - anno.start\n",
    "        anno_text_lower = anno.text.lower()\n",
    "        with open(anno_filepath, 'r', encoding=\"utf8\") as plaintext_file:\n",
    "            # Preprocess text to lowercase, strip \\n and tidy up whitespace\n",
    "            plaintext = plaintext_file.read().lower()\n",
    "            word_occurance = get_occurance_of_word_in_string(anno_text_lower, plaintext, anno.start)\n",
    "            text_preprocessed = plaintext.replace('\\n', \" \").replace(\"   \", \" \").replace(\"  \", \" \")\n",
    "            # Split text into sentences\n",
    "            list_of_sentences = nltk.sent_tokenize(text_preprocessed)\n",
    "            anno_sentence, start_idx = get_n_occurance_words_sentence(list_of_sentences, anno_text_lower, word_occurance)\n",
    "            # Check annotation matches the original\n",
    "            if(anno_text_lower != anno_sentence[start_idx: start_idx+anno_length]):\n",
    "                print(anno.text.lower(), anno_sentence[start_idx: start_idx+anno_length], anno_sentence)\n",
    "            # Save annotation to dict\n",
    "            extracts[\"text\"] += [anno_sentence]\n",
    "            extracts[\"idxs\"] += [[start_idx, start_idx+anno_length]]\n",
    "            extracts[\"labels\"] += [anno[\"class\"]]\n",
    "            extracts[\"anno\"] += [anno_sentence[start_idx: start_idx+anno_length]]\n",
    "    return extracts"
   ]
  },
  {
   "cell_type": "markdown",
   "metadata": {},
   "source": [
    "Do work"
   ]
  },
  {
   "cell_type": "code",
   "execution_count": 42,
   "metadata": {},
   "outputs": [],
   "source": [
    "import pandas as pd\n",
    "\n",
    "# Get each splits annotations\n",
    "annotations = pd.read_csv(os.path.join(\"amlh_nlp_dataset\", \"amlh_nlp_dataset\",\"amlh_coursework_annotated.csv\"))\n",
    "annotations_train = annotations[annotations.file.isin(fnames_train)]\n",
    "annotations_val = annotations[annotations.file.isin(fnames_val)]\n",
    "annotations_test = annotations[annotations.file.isin(fnames_test)]\n",
    "\n",
    "# Get annotated sentences\n",
    "inputs_train = extract_text_from_annotations(annotations_train, plaintext_directory)\n",
    "inputs_val = extract_text_from_annotations(annotations_val, plaintext_directory)\n",
    "inputs_test = extract_text_from_annotations(annotations_test, plaintext_directory)"
   ]
  },
  {
   "cell_type": "markdown",
   "metadata": {},
   "source": [
    "Sanity Check"
   ]
  },
  {
   "cell_type": "code",
   "execution_count": 43,
   "metadata": {},
   "outputs": [
    {
     "name": "stdout",
     "output_type": "stream",
     "text": [
      "dict_keys(['text', 'idxs', 'labels', 'anno'])\n",
      "[9624, 9624, 9624, 9624]\n",
      "[2933, 2933, 2933, 2933]\n",
      "[3099, 3099, 3099, 3099]\n",
      "{'text': 'she was given a lab sheet to have a cbc with diff as well as a cmp to be drawn prior to her appointment with dr. x. she is instructed to follow up with dr. y if her condition changes regarding her colon cancer.', 'idxs': [197, 209], 'labels': 'Disease_Syndrome', 'anno': 'colon cancer'}\n"
     ]
    }
   ],
   "source": [
    "print(inputs_train.keys())\n",
    "print([len(feature) for feature in inputs_train.values()])\n",
    "print([len(feature) for feature in inputs_val.values()])\n",
    "print([len(feature) for feature in inputs_test.values()])\n",
    "print({key: feature[0] for key, feature in inputs_train.items()})"
   ]
  },
  {
   "cell_type": "markdown",
   "metadata": {},
   "source": [
    "### Tokenise text"
   ]
  },
  {
   "cell_type": "code",
   "execution_count": 44,
   "metadata": {
    "tags": []
   },
   "outputs": [],
   "source": [
    "from transformers import BertTokenizerFast\n",
    "import torch\n",
    "\n",
    "tokenizer = BertTokenizerFast.from_pretrained('bert-base-uncased')\n",
    "max_token_length = 256\n",
    "tokens_train = tokenizer(inputs_train[\"text\"], return_tensors='pt', padding=\"max_length\", truncation = True, max_length=max_token_length, return_offsets_mapping=True)\n",
    "tokens_val = tokenizer(inputs_val[\"text\"], return_tensors='pt', padding='max_length', truncation = True, max_length=max_token_length, return_offsets_mapping=True)\n",
    "tokens_test = tokenizer(inputs_test[\"text\"], return_tensors='pt', padding='max_length', truncation = True, max_length=max_token_length, return_offsets_mapping=True)\n",
    "\n",
    "inputs_train = {**inputs_train, **tokens_train}\n",
    "inputs_val = {**inputs_val, **tokens_val}\n",
    "inputs_test = {**inputs_test, **tokens_test}"
   ]
  },
  {
   "cell_type": "markdown",
   "metadata": {},
   "source": [
    "Sanity check"
   ]
  },
  {
   "cell_type": "code",
   "execution_count": 45,
   "metadata": {},
   "outputs": [
    {
     "name": "stdout",
     "output_type": "stream",
     "text": [
      "[9624, 9624, 9624, 9624, 9624, 9624, 9624, 9624]\n",
      "[2933, 2933, 2933, 2933, 2933, 2933, 2933, 2933]\n",
      "[3099, 3099, 3099, 3099, 3099, 3099, 3099, 3099]\n",
      "{'input_ids': tensor([  101,  2016,  2001,  2445,  1037,  6845,  7123,  2000,  2031,  1037,\n",
      "        13581,  2007,  4487,  4246,  2004,  2092,  2004,  1037,  4642,  2361,\n",
      "         2000,  2022,  4567,  3188,  2000,  2014,  6098,  2007,  2852,  1012,\n",
      "         1060,  1012,  2016,  2003, 10290,  2000,  3582,  2039,  2007,  2852,\n",
      "         1012,  1061,  2065,  2014,  4650,  3431,  4953,  2014, 16844,  4456,\n",
      "         1012,   102,     0,     0,     0,     0,     0,     0,     0,     0,\n",
      "            0,     0,     0,     0,     0,     0,     0,     0,     0,     0,\n",
      "            0,     0,     0,     0,     0,     0,     0,     0,     0,     0,\n",
      "            0,     0,     0,     0,     0,     0,     0,     0,     0,     0,\n",
      "            0,     0,     0,     0,     0,     0,     0,     0,     0,     0,\n",
      "            0,     0,     0,     0,     0,     0,     0,     0,     0,     0,\n",
      "            0,     0,     0,     0,     0,     0,     0,     0,     0,     0,\n",
      "            0,     0,     0,     0,     0,     0,     0,     0,     0,     0,\n",
      "            0,     0,     0,     0,     0,     0,     0,     0,     0,     0,\n",
      "            0,     0,     0,     0,     0,     0,     0,     0,     0,     0,\n",
      "            0,     0,     0,     0,     0,     0,     0,     0,     0,     0,\n",
      "            0,     0,     0,     0,     0,     0,     0,     0,     0,     0,\n",
      "            0,     0,     0,     0,     0,     0,     0,     0,     0,     0,\n",
      "            0,     0,     0,     0,     0,     0,     0,     0,     0,     0,\n",
      "            0,     0,     0,     0,     0,     0,     0,     0,     0,     0,\n",
      "            0,     0,     0,     0,     0,     0,     0,     0,     0,     0,\n",
      "            0,     0,     0,     0,     0,     0,     0,     0,     0,     0,\n",
      "            0,     0,     0,     0,     0,     0,     0,     0,     0,     0,\n",
      "            0,     0,     0,     0,     0,     0,     0,     0,     0,     0,\n",
      "            0,     0,     0,     0,     0,     0,     0,     0,     0,     0,\n",
      "            0,     0,     0,     0,     0,     0]), 'token_type_ids': tensor([0, 0, 0, 0, 0, 0, 0, 0, 0, 0, 0, 0, 0, 0, 0, 0, 0, 0, 0, 0, 0, 0, 0, 0,\n",
      "        0, 0, 0, 0, 0, 0, 0, 0, 0, 0, 0, 0, 0, 0, 0, 0, 0, 0, 0, 0, 0, 0, 0, 0,\n",
      "        0, 0, 0, 0, 0, 0, 0, 0, 0, 0, 0, 0, 0, 0, 0, 0, 0, 0, 0, 0, 0, 0, 0, 0,\n",
      "        0, 0, 0, 0, 0, 0, 0, 0, 0, 0, 0, 0, 0, 0, 0, 0, 0, 0, 0, 0, 0, 0, 0, 0,\n",
      "        0, 0, 0, 0, 0, 0, 0, 0, 0, 0, 0, 0, 0, 0, 0, 0, 0, 0, 0, 0, 0, 0, 0, 0,\n",
      "        0, 0, 0, 0, 0, 0, 0, 0, 0, 0, 0, 0, 0, 0, 0, 0, 0, 0, 0, 0, 0, 0, 0, 0,\n",
      "        0, 0, 0, 0, 0, 0, 0, 0, 0, 0, 0, 0, 0, 0, 0, 0, 0, 0, 0, 0, 0, 0, 0, 0,\n",
      "        0, 0, 0, 0, 0, 0, 0, 0, 0, 0, 0, 0, 0, 0, 0, 0, 0, 0, 0, 0, 0, 0, 0, 0,\n",
      "        0, 0, 0, 0, 0, 0, 0, 0, 0, 0, 0, 0, 0, 0, 0, 0, 0, 0, 0, 0, 0, 0, 0, 0,\n",
      "        0, 0, 0, 0, 0, 0, 0, 0, 0, 0, 0, 0, 0, 0, 0, 0, 0, 0, 0, 0, 0, 0, 0, 0,\n",
      "        0, 0, 0, 0, 0, 0, 0, 0, 0, 0, 0, 0, 0, 0, 0, 0]), 'attention_mask': tensor([1, 1, 1, 1, 1, 1, 1, 1, 1, 1, 1, 1, 1, 1, 1, 1, 1, 1, 1, 1, 1, 1, 1, 1,\n",
      "        1, 1, 1, 1, 1, 1, 1, 1, 1, 1, 1, 1, 1, 1, 1, 1, 1, 1, 1, 1, 1, 1, 1, 1,\n",
      "        1, 1, 1, 1, 0, 0, 0, 0, 0, 0, 0, 0, 0, 0, 0, 0, 0, 0, 0, 0, 0, 0, 0, 0,\n",
      "        0, 0, 0, 0, 0, 0, 0, 0, 0, 0, 0, 0, 0, 0, 0, 0, 0, 0, 0, 0, 0, 0, 0, 0,\n",
      "        0, 0, 0, 0, 0, 0, 0, 0, 0, 0, 0, 0, 0, 0, 0, 0, 0, 0, 0, 0, 0, 0, 0, 0,\n",
      "        0, 0, 0, 0, 0, 0, 0, 0, 0, 0, 0, 0, 0, 0, 0, 0, 0, 0, 0, 0, 0, 0, 0, 0,\n",
      "        0, 0, 0, 0, 0, 0, 0, 0, 0, 0, 0, 0, 0, 0, 0, 0, 0, 0, 0, 0, 0, 0, 0, 0,\n",
      "        0, 0, 0, 0, 0, 0, 0, 0, 0, 0, 0, 0, 0, 0, 0, 0, 0, 0, 0, 0, 0, 0, 0, 0,\n",
      "        0, 0, 0, 0, 0, 0, 0, 0, 0, 0, 0, 0, 0, 0, 0, 0, 0, 0, 0, 0, 0, 0, 0, 0,\n",
      "        0, 0, 0, 0, 0, 0, 0, 0, 0, 0, 0, 0, 0, 0, 0, 0, 0, 0, 0, 0, 0, 0, 0, 0,\n",
      "        0, 0, 0, 0, 0, 0, 0, 0, 0, 0, 0, 0, 0, 0, 0, 0]), 'offset_mapping': tensor([[  0,   0],\n",
      "        [  0,   3],\n",
      "        [  4,   7],\n",
      "        [  8,  13],\n",
      "        [ 14,  15],\n",
      "        [ 16,  19],\n",
      "        [ 20,  25],\n",
      "        [ 26,  28],\n",
      "        [ 29,  33],\n",
      "        [ 34,  35],\n",
      "        [ 36,  39],\n",
      "        [ 40,  44],\n",
      "        [ 45,  47],\n",
      "        [ 47,  49],\n",
      "        [ 50,  52],\n",
      "        [ 53,  57],\n",
      "        [ 58,  60],\n",
      "        [ 61,  62],\n",
      "        [ 63,  65],\n",
      "        [ 65,  66],\n",
      "        [ 67,  69],\n",
      "        [ 70,  72],\n",
      "        [ 73,  78],\n",
      "        [ 79,  84],\n",
      "        [ 85,  87],\n",
      "        [ 88,  91],\n",
      "        [ 92, 103],\n",
      "        [104, 108],\n",
      "        [109, 111],\n",
      "        [111, 112],\n",
      "        [113, 114],\n",
      "        [114, 115],\n",
      "        [116, 119],\n",
      "        [120, 122],\n",
      "        [123, 133],\n",
      "        [134, 136],\n",
      "        [137, 143],\n",
      "        [144, 146],\n",
      "        [147, 151],\n",
      "        [152, 154],\n",
      "        [154, 155],\n",
      "        [156, 157],\n",
      "        [158, 160],\n",
      "        [161, 164],\n",
      "        [165, 174],\n",
      "        [175, 182],\n",
      "        [183, 192],\n",
      "        [193, 196],\n",
      "        [197, 202],\n",
      "        [203, 209],\n",
      "        [209, 210],\n",
      "        [  0,   0],\n",
      "        [  0,   0],\n",
      "        [  0,   0],\n",
      "        [  0,   0],\n",
      "        [  0,   0],\n",
      "        [  0,   0],\n",
      "        [  0,   0],\n",
      "        [  0,   0],\n",
      "        [  0,   0],\n",
      "        [  0,   0],\n",
      "        [  0,   0],\n",
      "        [  0,   0],\n",
      "        [  0,   0],\n",
      "        [  0,   0],\n",
      "        [  0,   0],\n",
      "        [  0,   0],\n",
      "        [  0,   0],\n",
      "        [  0,   0],\n",
      "        [  0,   0],\n",
      "        [  0,   0],\n",
      "        [  0,   0],\n",
      "        [  0,   0],\n",
      "        [  0,   0],\n",
      "        [  0,   0],\n",
      "        [  0,   0],\n",
      "        [  0,   0],\n",
      "        [  0,   0],\n",
      "        [  0,   0],\n",
      "        [  0,   0],\n",
      "        [  0,   0],\n",
      "        [  0,   0],\n",
      "        [  0,   0],\n",
      "        [  0,   0],\n",
      "        [  0,   0],\n",
      "        [  0,   0],\n",
      "        [  0,   0],\n",
      "        [  0,   0],\n",
      "        [  0,   0],\n",
      "        [  0,   0],\n",
      "        [  0,   0],\n",
      "        [  0,   0],\n",
      "        [  0,   0],\n",
      "        [  0,   0],\n",
      "        [  0,   0],\n",
      "        [  0,   0],\n",
      "        [  0,   0],\n",
      "        [  0,   0],\n",
      "        [  0,   0],\n",
      "        [  0,   0],\n",
      "        [  0,   0],\n",
      "        [  0,   0],\n",
      "        [  0,   0],\n",
      "        [  0,   0],\n",
      "        [  0,   0],\n",
      "        [  0,   0],\n",
      "        [  0,   0],\n",
      "        [  0,   0],\n",
      "        [  0,   0],\n",
      "        [  0,   0],\n",
      "        [  0,   0],\n",
      "        [  0,   0],\n",
      "        [  0,   0],\n",
      "        [  0,   0],\n",
      "        [  0,   0],\n",
      "        [  0,   0],\n",
      "        [  0,   0],\n",
      "        [  0,   0],\n",
      "        [  0,   0],\n",
      "        [  0,   0],\n",
      "        [  0,   0],\n",
      "        [  0,   0],\n",
      "        [  0,   0],\n",
      "        [  0,   0],\n",
      "        [  0,   0],\n",
      "        [  0,   0],\n",
      "        [  0,   0],\n",
      "        [  0,   0],\n",
      "        [  0,   0],\n",
      "        [  0,   0],\n",
      "        [  0,   0],\n",
      "        [  0,   0],\n",
      "        [  0,   0],\n",
      "        [  0,   0],\n",
      "        [  0,   0],\n",
      "        [  0,   0],\n",
      "        [  0,   0],\n",
      "        [  0,   0],\n",
      "        [  0,   0],\n",
      "        [  0,   0],\n",
      "        [  0,   0],\n",
      "        [  0,   0],\n",
      "        [  0,   0],\n",
      "        [  0,   0],\n",
      "        [  0,   0],\n",
      "        [  0,   0],\n",
      "        [  0,   0],\n",
      "        [  0,   0],\n",
      "        [  0,   0],\n",
      "        [  0,   0],\n",
      "        [  0,   0],\n",
      "        [  0,   0],\n",
      "        [  0,   0],\n",
      "        [  0,   0],\n",
      "        [  0,   0],\n",
      "        [  0,   0],\n",
      "        [  0,   0],\n",
      "        [  0,   0],\n",
      "        [  0,   0],\n",
      "        [  0,   0],\n",
      "        [  0,   0],\n",
      "        [  0,   0],\n",
      "        [  0,   0],\n",
      "        [  0,   0],\n",
      "        [  0,   0],\n",
      "        [  0,   0],\n",
      "        [  0,   0],\n",
      "        [  0,   0],\n",
      "        [  0,   0],\n",
      "        [  0,   0],\n",
      "        [  0,   0],\n",
      "        [  0,   0],\n",
      "        [  0,   0],\n",
      "        [  0,   0],\n",
      "        [  0,   0],\n",
      "        [  0,   0],\n",
      "        [  0,   0],\n",
      "        [  0,   0],\n",
      "        [  0,   0],\n",
      "        [  0,   0],\n",
      "        [  0,   0],\n",
      "        [  0,   0],\n",
      "        [  0,   0],\n",
      "        [  0,   0],\n",
      "        [  0,   0],\n",
      "        [  0,   0],\n",
      "        [  0,   0],\n",
      "        [  0,   0],\n",
      "        [  0,   0],\n",
      "        [  0,   0],\n",
      "        [  0,   0],\n",
      "        [  0,   0],\n",
      "        [  0,   0],\n",
      "        [  0,   0],\n",
      "        [  0,   0],\n",
      "        [  0,   0],\n",
      "        [  0,   0],\n",
      "        [  0,   0],\n",
      "        [  0,   0],\n",
      "        [  0,   0],\n",
      "        [  0,   0],\n",
      "        [  0,   0],\n",
      "        [  0,   0],\n",
      "        [  0,   0],\n",
      "        [  0,   0],\n",
      "        [  0,   0],\n",
      "        [  0,   0],\n",
      "        [  0,   0],\n",
      "        [  0,   0],\n",
      "        [  0,   0],\n",
      "        [  0,   0],\n",
      "        [  0,   0],\n",
      "        [  0,   0],\n",
      "        [  0,   0],\n",
      "        [  0,   0],\n",
      "        [  0,   0],\n",
      "        [  0,   0],\n",
      "        [  0,   0],\n",
      "        [  0,   0],\n",
      "        [  0,   0],\n",
      "        [  0,   0],\n",
      "        [  0,   0],\n",
      "        [  0,   0],\n",
      "        [  0,   0],\n",
      "        [  0,   0],\n",
      "        [  0,   0],\n",
      "        [  0,   0],\n",
      "        [  0,   0],\n",
      "        [  0,   0],\n",
      "        [  0,   0],\n",
      "        [  0,   0],\n",
      "        [  0,   0],\n",
      "        [  0,   0],\n",
      "        [  0,   0],\n",
      "        [  0,   0],\n",
      "        [  0,   0],\n",
      "        [  0,   0],\n",
      "        [  0,   0],\n",
      "        [  0,   0],\n",
      "        [  0,   0],\n",
      "        [  0,   0],\n",
      "        [  0,   0],\n",
      "        [  0,   0],\n",
      "        [  0,   0],\n",
      "        [  0,   0],\n",
      "        [  0,   0],\n",
      "        [  0,   0],\n",
      "        [  0,   0],\n",
      "        [  0,   0],\n",
      "        [  0,   0],\n",
      "        [  0,   0],\n",
      "        [  0,   0],\n",
      "        [  0,   0],\n",
      "        [  0,   0],\n",
      "        [  0,   0],\n",
      "        [  0,   0]])}\n"
     ]
    }
   ],
   "source": [
    "print([len(feature) for feature in inputs_train.values()])\n",
    "print([len(feature) for feature in inputs_val.values()])\n",
    "print([len(feature) for feature in inputs_test.values()])\n",
    "print({key: feature[0] for key, feature in tokens_train.items()})"
   ]
  },
  {
   "cell_type": "markdown",
   "metadata": {},
   "source": [
    "## Map tokens to orginal char index\n",
    "\n",
    "Offset mapping is a list of the start and end char idxs for each token. So here we iterate through to find the tokens which match the original char annotation"
   ]
  },
  {
   "cell_type": "code",
   "execution_count": 46,
   "metadata": {
    "tags": []
   },
   "outputs": [],
   "source": [
    "import numpy as np\n",
    "\n",
    "def get_tokens_of_interest_idxs(offset_mapping_list, idxs_list, text, annos):\n",
    "    toi_idxs = []\n",
    "    for i, (offset_mapping, idxs, text, anno) in enumerate(zip(offset_mapping_list, idxs_list, text, annos)):\n",
    "        try:\n",
    "            token_start = np.where(offset_mapping[:, 0]==idxs[0])[0][0]\n",
    "            token_end = np.where(offset_mapping[:, 1]==idxs[1])[0][0]\n",
    "            toi_idxs.append([token_start, token_end+1])\n",
    "        except:\n",
    "            # Incorrect annoation of cannot as can\n",
    "            if text[idxs[0]:idxs[1]] == \"can\":\n",
    "                toi_idxs.append([token_start, token_start+1])\n",
    "                idxs[1] += 3\n",
    "            else:\n",
    "                print(text)\n",
    "    return toi_idxs\n",
    "\n",
    "inputs_train[\"toi_idxs\"] = get_tokens_of_interest_idxs(inputs_train[\"offset_mapping\"], inputs_train[\"idxs\"], inputs_train[\"text\"], inputs_train[\"anno\"])\n",
    "inputs_val[\"toi_idxs\"] = get_tokens_of_interest_idxs(inputs_val[\"offset_mapping\"], inputs_val[\"idxs\"], inputs_val[\"text\"], inputs_val[\"anno\"])\n",
    "inputs_test[\"toi_idxs\"] = get_tokens_of_interest_idxs(inputs_test[\"offset_mapping\"], inputs_test[\"idxs\"], inputs_test[\"text\"], inputs_test[\"anno\"])"
   ]
  },
  {
   "cell_type": "markdown",
   "metadata": {},
   "source": [
    "Sanity check"
   ]
  },
  {
   "cell_type": "code",
   "execution_count": 47,
   "metadata": {
    "scrolled": true
   },
   "outputs": [
    {
     "name": "stdout",
     "output_type": "stream",
     "text": [
      "dict_keys(['text', 'idxs', 'labels', 'anno', 'input_ids', 'token_type_ids', 'attention_mask', 'offset_mapping', 'toi_idxs'])\n",
      "[9624, 9624, 9624, 9624, 9624, 9624, 9624, 9624, 9624]\n",
      "[2933, 2933, 2933, 2933, 2933, 2933, 2933, 2933, 2933]\n",
      "[3099, 3099, 3099, 3099, 3099, 3099, 3099, 3099, 3099]\n",
      "colon cancer\n",
      "colon cancer\n"
     ]
    }
   ],
   "source": [
    "print(inputs_train.keys())\n",
    "print([len(feature) for feature in inputs_train.values()])\n",
    "print([len(feature) for feature in inputs_val.values()])\n",
    "print([len(feature) for feature in inputs_test.values()])\n",
    "print(tokenizer.decode(inputs_train[\"input_ids\"][0][inputs_train[\"toi_idxs\"][0][0]:inputs_train[\"toi_idxs\"][0][1]]))\n",
    "print(inputs_train[\"anno\"][0])"
   ]
  },
  {
   "cell_type": "markdown",
   "metadata": {},
   "source": [
    "## Create NER Labels"
   ]
  },
  {
   "cell_type": "code",
   "execution_count": 48,
   "metadata": {},
   "outputs": [],
   "source": [
    "def generate_NER_labels(toi_idxs, labels, max_token_length):\n",
    "    print(len(toi_idxs), len(labels))\n",
    "    # By default ignore all tokens\n",
    "    ner_labels = torch.ones(len(toi_idxs), max_token_length, dtype=torch.long) * -100\n",
    "    # For tokens of interest change to label index\n",
    "    for idx, (toi_idx) in enumerate(toi_idxs):\n",
    "        ner_labels[idx, toi_idx[0]: toi_idx[1]] = label_to_int(labels[idx])\n",
    "    return ner_labels"
   ]
  },
  {
   "cell_type": "code",
   "execution_count": 49,
   "metadata": {},
   "outputs": [
    {
     "name": "stdout",
     "output_type": "stream",
     "text": [
      "9624 9624\n",
      "2933 2933\n",
      "3099 3099\n"
     ]
    }
   ],
   "source": [
    "inputs_train[\"ner_labels\"] = generate_NER_labels(inputs_train[\"toi_idxs\"], inputs_train[\"labels\"], max_token_length)\n",
    "inputs_val[\"ner_labels\"] = generate_NER_labels(inputs_val[\"toi_idxs\"], inputs_val[\"labels\"], max_token_length)\n",
    "inputs_test[\"ner_labels\"] = generate_NER_labels(inputs_test[\"toi_idxs\"], inputs_test[\"labels\"], max_token_length)"
   ]
  },
  {
   "cell_type": "code",
   "execution_count": 50,
   "metadata": {},
   "outputs": [
    {
     "name": "stdout",
     "output_type": "stream",
     "text": [
      "dict_keys(['text', 'idxs', 'labels', 'anno', 'input_ids', 'token_type_ids', 'attention_mask', 'offset_mapping', 'toi_idxs', 'ner_labels'])\n",
      "[9624, 9624, 9624, 9624, 9624, 9624, 9624, 9624, 9624, 9624]\n",
      "[2933, 2933, 2933, 2933, 2933, 2933, 2933, 2933, 2933, 2933]\n",
      "[3099, 3099, 3099, 3099, 3099, 3099, 3099, 3099, 3099, 3099]\n",
      "Disease_Syndrome [48, 50]\n",
      "tensor([-100, -100, -100, -100, -100, -100, -100, -100, -100, -100, -100, -100,\n",
      "        -100, -100, -100, -100, -100, -100, -100, -100, -100, -100, -100, -100,\n",
      "        -100, -100, -100, -100, -100, -100, -100, -100, -100, -100, -100, -100,\n",
      "        -100, -100, -100, -100, -100, -100, -100, -100, -100, -100, -100, -100,\n",
      "           1,    1, -100, -100, -100, -100, -100, -100, -100, -100, -100, -100,\n",
      "        -100, -100, -100, -100, -100, -100, -100, -100, -100, -100, -100, -100,\n",
      "        -100, -100, -100, -100, -100, -100, -100, -100, -100, -100, -100, -100,\n",
      "        -100, -100, -100, -100, -100, -100, -100, -100, -100, -100, -100, -100,\n",
      "        -100, -100, -100, -100, -100, -100, -100, -100, -100, -100, -100, -100,\n",
      "        -100, -100, -100, -100, -100, -100, -100, -100, -100, -100, -100, -100,\n",
      "        -100, -100, -100, -100, -100, -100, -100, -100, -100, -100, -100, -100,\n",
      "        -100, -100, -100, -100, -100, -100, -100, -100, -100, -100, -100, -100,\n",
      "        -100, -100, -100, -100, -100, -100, -100, -100, -100, -100, -100, -100,\n",
      "        -100, -100, -100, -100, -100, -100, -100, -100, -100, -100, -100, -100,\n",
      "        -100, -100, -100, -100, -100, -100, -100, -100, -100, -100, -100, -100,\n",
      "        -100, -100, -100, -100, -100, -100, -100, -100, -100, -100, -100, -100,\n",
      "        -100, -100, -100, -100, -100, -100, -100, -100, -100, -100, -100, -100,\n",
      "        -100, -100, -100, -100, -100, -100, -100, -100, -100, -100, -100, -100,\n",
      "        -100, -100, -100, -100, -100, -100, -100, -100, -100, -100, -100, -100,\n",
      "        -100, -100, -100, -100, -100, -100, -100, -100, -100, -100, -100, -100,\n",
      "        -100, -100, -100, -100, -100, -100, -100, -100, -100, -100, -100, -100,\n",
      "        -100, -100, -100, -100])\n"
     ]
    }
   ],
   "source": [
    "print(inputs_train.keys())\n",
    "print([len(feature) for feature in inputs_train.values()])\n",
    "print([len(feature) for feature in inputs_val.values()])\n",
    "print([len(feature) for feature in inputs_test.values()])\n",
    "print(inputs_train[\"labels\"][0], inputs_train[\"toi_idxs\"][0])\n",
    "print(inputs_train[\"ner_labels\"][0])"
   ]
  },
  {
   "cell_type": "markdown",
   "metadata": {},
   "source": [
    "## Create masked labels"
   ]
  },
  {
   "cell_type": "code",
   "execution_count": 51,
   "metadata": {},
   "outputs": [],
   "source": [
    "import copy\n",
    "def add_masked_labels_to_inputs(inputs):\n",
    "    inputs['gt_tokens'] = inputs[\"input_ids\"].detach().clone()\n",
    "    # create random array of floats with equal dimensions to input_ids tensor\n",
    "    rand = torch.rand(inputs[\"input_ids\"].shape)\n",
    "    # create mask array excluding masking special tokens\n",
    "    mask_arr = (rand < 0.15) * (inputs[\"input_ids\"]!= 101) * \\\n",
    "            (inputs[\"input_ids\"] != 102) * (inputs[\"input_ids\"] != 0)\n",
    "    # Extract indicies to be masked\n",
    "    selection = []\n",
    "    for i in range(inputs[\"input_ids\"].shape[0]):\n",
    "        selection.append(\n",
    "            torch.flatten(mask_arr[i].nonzero()).tolist()\n",
    "        )\n",
    "\n",
    "    # Mask them\n",
    "    for i in range(inputs[\"input_ids\"].shape[0]):\n",
    "        inputs[\"input_ids\"][i, selection[i]] = 103\n",
    "    return inputs\n",
    "\n",
    "inputs_train = add_masked_labels_to_inputs(inputs_train)\n",
    "inputs_val = add_masked_labels_to_inputs(inputs_val)\n",
    "inputs_test = add_masked_labels_to_inputs(inputs_test)"
   ]
  },
  {
   "cell_type": "markdown",
   "metadata": {},
   "source": [
    "Sanity check"
   ]
  },
  {
   "cell_type": "code",
   "execution_count": 53,
   "metadata": {},
   "outputs": [
    {
     "name": "stdout",
     "output_type": "stream",
     "text": [
      "dict_keys(['text', 'idxs', 'labels', 'anno', 'input_ids', 'token_type_ids', 'attention_mask', 'offset_mapping', 'toi_idxs', 'ner_labels', 'gt_tokens'])\n",
      "[9624, 9624, 9624, 9624, 9624, 9624, 9624, 9624, 9624, 9624, 9624]\n",
      "[2933, 2933, 2933, 2933, 2933, 2933, 2933, 2933, 2933, 2933, 2933]\n",
      "[3099, 3099, 3099, 3099, 3099, 3099, 3099, 3099, 3099, 3099, 3099]\n",
      "[CLS] she was given a lab sheet to have a cbc with diff as well as a cmp to be drawn prior to her appointment with dr. x. [MASK] is instructed to follow up with dr [MASK] y if [MASK] [MASK] [MASK] regarding her colon cancer [MASK] [SEP] [PAD] [PAD] [PAD] [PAD] [PAD] [PAD] [PAD] [PAD] [PAD] [PAD] [PAD] [PAD] [PAD] [PAD] [PAD] [PAD] [PAD] [PAD] [PAD] [PAD] [PAD] [PAD] [PAD] [PAD] [PAD] [PAD] [PAD] [PAD] [PAD] [PAD] [PAD] [PAD] [PAD] [PAD] [PAD] [PAD] [PAD] [PAD] [PAD] [PAD] [PAD] [PAD] [PAD] [PAD] [PAD] [PAD] [PAD] [PAD] [PAD] [PAD] [PAD] [PAD] [PAD] [PAD] [PAD] [PAD] [PAD] [PAD] [PAD] [PAD] [PAD] [PAD] [PAD] [PAD] [PAD] [PAD] [PAD] [PAD] [PAD] [PAD] [PAD] [PAD] [PAD] [PAD] [PAD] [PAD] [PAD] [PAD] [PAD] [PAD] [PAD] [PAD] [PAD] [PAD] [PAD] [PAD] [PAD] [PAD] [PAD] [PAD] [PAD] [PAD] [PAD] [PAD] [PAD] [PAD] [PAD] [PAD] [PAD] [PAD] [PAD] [PAD] [PAD] [PAD] [PAD] [PAD] [PAD] [PAD] [PAD] [PAD] [PAD] [PAD] [PAD] [PAD] [PAD] [PAD] [PAD] [PAD] [PAD] [PAD] [PAD] [PAD] [PAD] [PAD] [PAD] [PAD] [PAD] [PAD] [PAD] [PAD] [PAD] [PAD] [PAD] [PAD] [PAD] [PAD] [PAD] [PAD] [PAD] [PAD] [PAD] [PAD] [PAD] [PAD] [PAD] [PAD] [PAD] [PAD] [PAD] [PAD] [PAD] [PAD] [PAD] [PAD] [PAD] [PAD] [PAD] [PAD] [PAD] [PAD] [PAD] [PAD] [PAD] [PAD] [PAD] [PAD] [PAD] [PAD] [PAD] [PAD] [PAD] [PAD] [PAD] [PAD] [PAD] [PAD] [PAD] [PAD] [PAD] [PAD] [PAD] [PAD] [PAD] [PAD] [PAD] [PAD] [PAD] [PAD] [PAD] [PAD] [PAD] [PAD] [PAD] [PAD] [PAD] [PAD] [PAD] [PAD] [PAD] [PAD] [PAD] [PAD] [PAD] [PAD]\n",
      "[CLS] she was given a lab sheet to have a cbc with diff as well as a cmp to be drawn prior to her appointment with dr. x. she is instructed to follow up with dr. y if her condition changes regarding her colon cancer. [SEP] [PAD] [PAD] [PAD] [PAD] [PAD] [PAD] [PAD] [PAD] [PAD] [PAD] [PAD] [PAD] [PAD] [PAD] [PAD] [PAD] [PAD] [PAD] [PAD] [PAD] [PAD] [PAD] [PAD] [PAD] [PAD] [PAD] [PAD] [PAD] [PAD] [PAD] [PAD] [PAD] [PAD] [PAD] [PAD] [PAD] [PAD] [PAD] [PAD] [PAD] [PAD] [PAD] [PAD] [PAD] [PAD] [PAD] [PAD] [PAD] [PAD] [PAD] [PAD] [PAD] [PAD] [PAD] [PAD] [PAD] [PAD] [PAD] [PAD] [PAD] [PAD] [PAD] [PAD] [PAD] [PAD] [PAD] [PAD] [PAD] [PAD] [PAD] [PAD] [PAD] [PAD] [PAD] [PAD] [PAD] [PAD] [PAD] [PAD] [PAD] [PAD] [PAD] [PAD] [PAD] [PAD] [PAD] [PAD] [PAD] [PAD] [PAD] [PAD] [PAD] [PAD] [PAD] [PAD] [PAD] [PAD] [PAD] [PAD] [PAD] [PAD] [PAD] [PAD] [PAD] [PAD] [PAD] [PAD] [PAD] [PAD] [PAD] [PAD] [PAD] [PAD] [PAD] [PAD] [PAD] [PAD] [PAD] [PAD] [PAD] [PAD] [PAD] [PAD] [PAD] [PAD] [PAD] [PAD] [PAD] [PAD] [PAD] [PAD] [PAD] [PAD] [PAD] [PAD] [PAD] [PAD] [PAD] [PAD] [PAD] [PAD] [PAD] [PAD] [PAD] [PAD] [PAD] [PAD] [PAD] [PAD] [PAD] [PAD] [PAD] [PAD] [PAD] [PAD] [PAD] [PAD] [PAD] [PAD] [PAD] [PAD] [PAD] [PAD] [PAD] [PAD] [PAD] [PAD] [PAD] [PAD] [PAD] [PAD] [PAD] [PAD] [PAD] [PAD] [PAD] [PAD] [PAD] [PAD] [PAD] [PAD] [PAD] [PAD] [PAD] [PAD] [PAD] [PAD] [PAD] [PAD] [PAD] [PAD] [PAD] [PAD] [PAD] [PAD] [PAD] [PAD] [PAD] [PAD] [PAD] [PAD] [PAD] [PAD] [PAD]\n"
     ]
    }
   ],
   "source": [
    "print(inputs_train.keys())\n",
    "print([len(feature) for feature in inputs_train.values()])\n",
    "print([len(feature) for feature in inputs_val.values()])\n",
    "print([len(feature) for feature in inputs_test.values()])\n",
    "idx = 0\n",
    "print(tokenizer.decode(inputs_train[\"input_ids\"][0]))\n",
    "print(tokenizer.decode(inputs_train[\"gt_tokens\"][0]))"
   ]
  },
  {
   "cell_type": "markdown",
   "metadata": {},
   "source": [
    "### Load into Pytorch Datasets and Dataframes"
   ]
  },
  {
   "cell_type": "code",
   "execution_count": 54,
   "metadata": {},
   "outputs": [],
   "source": [
    "class MT_NERSamplesDataset(torch.utils.data.Dataset):\n",
    "    def __init__(self, extracts):\n",
    "        self.extracts = extracts\n",
    "    def __getitem__(self, idx):\n",
    "        return {key: value[idx] for key, value in self.extracts.items()}\n",
    "    def __len__(self):\n",
    "        return len(self.extracts[\"input_ids\"])\n",
    "    # Methods to print string rep of a sample\n",
    "    def get_phrase(sample):\n",
    "        text = sample[\"text\"]\n",
    "        idxs = sample[\"idxs\"]\n",
    "        return text[idxs[0]:idxs[1]]\n",
    "    def get_decode_tokens(sample, tokenizer):\n",
    "        input_ids = sample[\"input_ids\"]\n",
    "        toi_idxs = sample[\"toi_idxs\"]\n",
    "        return tokenizer.decode(sample[\"input_ids\"])\n",
    "    def sample_to_string(sample, tokenizer):\n",
    "        string = \"Label: \"+ sample[\"labels\"] + \",\"\n",
    "        string += \" Orginal anno: \"+ sample[\"anno\"] + \",\"\n",
    "        string += \" Indexed anno: \"+ MT_NERSamplesDataset.get_phrase(sample) + \",\"\n",
    "        string += \" Tokenised anno: \"+ MT_NERSamplesDataset.get_decode_tokens(sample, tokenizer) + \",\"\n",
    "        string += \" Text: \"+ sample[\"text\"]\n",
    "        return string"
   ]
  },
  {
   "cell_type": "code",
   "execution_count": 55,
   "metadata": {
    "scrolled": true,
    "tags": []
   },
   "outputs": [],
   "source": [
    "datasets = {\"train\": MT_NERSamplesDataset(inputs_train), \"val\": MT_NERSamplesDataset(inputs_val), \"test\": MT_NERSamplesDataset(inputs_test)}\n",
    "dataloaders = {key: torch.utils.data.DataLoader(dataset, batch_size=8) for key, dataset in datasets.items()}\n",
    "dataloaders[\"train\"] = torch.utils.data.DataLoader(datasets[\"train\"], batch_size=8, shuffle=True)"
   ]
  },
  {
   "cell_type": "markdown",
   "metadata": {},
   "source": [
    "Sanity check output"
   ]
  },
  {
   "cell_type": "code",
   "execution_count": 56,
   "metadata": {},
   "outputs": [
    {
     "name": "stdout",
     "output_type": "stream",
     "text": [
      "[9624, 2933, 3099]\n",
      "[1203, 367, 388]\n",
      "dict_keys(['text', 'idxs', 'labels', 'anno', 'input_ids', 'token_type_ids', 'attention_mask', 'offset_mapping', 'toi_idxs', 'ner_labels', 'gt_tokens'])\n",
      "Label: Disease_Syndrome, Orginal anno: colon cancer, Indexed anno: colon cancer, Tokenised anno: [CLS] she was given a lab sheet to have a cbc with diff as well as a cmp to be drawn prior to her appointment with dr. x. [MASK] is instructed to follow up with dr [MASK] y if [MASK] [MASK] [MASK] regarding her colon cancer [MASK] [SEP] [PAD] [PAD] [PAD] [PAD] [PAD] [PAD] [PAD] [PAD] [PAD] [PAD] [PAD] [PAD] [PAD] [PAD] [PAD] [PAD] [PAD] [PAD] [PAD] [PAD] [PAD] [PAD] [PAD] [PAD] [PAD] [PAD] [PAD] [PAD] [PAD] [PAD] [PAD] [PAD] [PAD] [PAD] [PAD] [PAD] [PAD] [PAD] [PAD] [PAD] [PAD] [PAD] [PAD] [PAD] [PAD] [PAD] [PAD] [PAD] [PAD] [PAD] [PAD] [PAD] [PAD] [PAD] [PAD] [PAD] [PAD] [PAD] [PAD] [PAD] [PAD] [PAD] [PAD] [PAD] [PAD] [PAD] [PAD] [PAD] [PAD] [PAD] [PAD] [PAD] [PAD] [PAD] [PAD] [PAD] [PAD] [PAD] [PAD] [PAD] [PAD] [PAD] [PAD] [PAD] [PAD] [PAD] [PAD] [PAD] [PAD] [PAD] [PAD] [PAD] [PAD] [PAD] [PAD] [PAD] [PAD] [PAD] [PAD] [PAD] [PAD] [PAD] [PAD] [PAD] [PAD] [PAD] [PAD] [PAD] [PAD] [PAD] [PAD] [PAD] [PAD] [PAD] [PAD] [PAD] [PAD] [PAD] [PAD] [PAD] [PAD] [PAD] [PAD] [PAD] [PAD] [PAD] [PAD] [PAD] [PAD] [PAD] [PAD] [PAD] [PAD] [PAD] [PAD] [PAD] [PAD] [PAD] [PAD] [PAD] [PAD] [PAD] [PAD] [PAD] [PAD] [PAD] [PAD] [PAD] [PAD] [PAD] [PAD] [PAD] [PAD] [PAD] [PAD] [PAD] [PAD] [PAD] [PAD] [PAD] [PAD] [PAD] [PAD] [PAD] [PAD] [PAD] [PAD] [PAD] [PAD] [PAD] [PAD] [PAD] [PAD] [PAD] [PAD] [PAD] [PAD] [PAD] [PAD] [PAD] [PAD] [PAD] [PAD] [PAD] [PAD] [PAD] [PAD] [PAD] [PAD] [PAD] [PAD] [PAD] [PAD] [PAD] [PAD] [PAD] [PAD] [PAD] [PAD] [PAD] [PAD] [PAD] [PAD] [PAD], Text: she was given a lab sheet to have a cbc with diff as well as a cmp to be drawn prior to her appointment with dr. x. she is instructed to follow up with dr. y if her condition changes regarding her colon cancer.\n"
     ]
    }
   ],
   "source": [
    "print([len(dataset) for dataset in datasets.values()])\n",
    "print([len(dataloader) for dataloader in dataloaders.values()])\n",
    "sample = datasets[\"train\"][0]\n",
    "print(sample.keys())\n",
    "print(MT_NERSamplesDataset.sample_to_string(sample, tokenizer))"
   ]
  },
  {
   "cell_type": "markdown",
   "metadata": {},
   "source": [
    "## Unsupervised Training"
   ]
  },
  {
   "cell_type": "markdown",
   "metadata": {
    "tags": []
   },
   "source": [
    "Training loop"
   ]
  },
  {
   "cell_type": "code",
   "execution_count": 57,
   "metadata": {},
   "outputs": [],
   "source": [
    "from tqdm import tqdm\n",
    "import copy\n",
    "\n",
    "def train_model(model, dataloaders, optim, label_key, device):\n",
    "    # Init training variables\n",
    "    num_epochs = 3\n",
    "    loss_log = {\"train\":[], \"val\":[]}\n",
    "    optim.zero_grad()\n",
    "    best_model_state_dict = copy.deepcopy(model.state_dict())\n",
    "    best_loss = float(\"inf\")\n",
    "    num_batches = len(dataloaders[\"train\"]) + len(dataloaders[\"val\"])\n",
    "    num_steps = num_epochs*(len(dataloaders[\"train\"])+len(dataloaders[\"val\"]))\n",
    "    \n",
    "    with tqdm(total=num_steps) as pbar:\n",
    "        for epoch in range(num_epochs):\n",
    "            for phase in [\"train\", \"val\"]:\n",
    "                pbar.set_description(f'Epoch {epoch}, Phase {phase}')\n",
    "                running_loss = 0.0\n",
    "                model = model.train() if phase == 'train' else model.eval()\n",
    "                \n",
    "                for batch in dataloaders[phase]:\n",
    "                    input_ids = batch[\"input_ids\"].to(device)\n",
    "                    attention_mask = batch[\"attention_mask\"].to(device)\n",
    "                    labels = batch[label_key].to(device)\n",
    "                    with torch.set_grad_enabled(phase == 'train'):\n",
    "                        outputs = model(input_ids, attention_mask=attention_mask,\n",
    "                                    labels=labels)\n",
    "                        loss = outputs.loss\n",
    "                        if phase == 'train':\n",
    "                            loss.backward()\n",
    "                            optim.step()\n",
    "                            optim.zero_grad()\n",
    "                    pbar.update(1)\n",
    "                    running_loss += loss.item()\n",
    "                # Log losses and update saved model    \n",
    "                epoch_loss = running_loss / len(dataloaders[phase])\n",
    "                if phase == 'val' and epoch_loss<best_loss:\n",
    "                    best_loss = epoch_loss\n",
    "                    best_model_state_dict = copy.deepcopy(model.state_dict())\n",
    "                loss_log[phase].append(epoch_loss)\n",
    "                pbar.set_postfix(loss=epoch_loss)                \n",
    "    # Reload best model\n",
    "    model.load_state_dict(best_model_state_dict)\n",
    "    return model, loss_log"
   ]
  },
  {
   "cell_type": "markdown",
   "metadata": {},
   "source": [
    "### Hyperparmeter Search\n",
    "In line with the finetuning method outlined in the original BERT paper"
   ]
  },
  {
   "cell_type": "code",
   "execution_count": 19,
   "metadata": {},
   "outputs": [
    {
     "name": "stderr",
     "output_type": "stream",
     "text": [
      "Some weights of the model checkpoint at bert-base-uncased were not used when initializing BertForMaskedLM: ['cls.seq_relationship.weight', 'cls.seq_relationship.bias']\n",
      "- This IS expected if you are initializing BertForMaskedLM from the checkpoint of a model trained on another task or with another architecture (e.g. initializing a BertForSequenceClassification model from a BertForPreTraining model).\n",
      "- This IS NOT expected if you are initializing BertForMaskedLM from the checkpoint of a model that you expect to be exactly identical (initializing a BertForSequenceClassification model from a BertForSequenceClassification model).\n",
      "Epoch 2, Phase val: 100%|█████████████████████████████████████████| 4710/4710 [18:49<00:00,  4.17it/s, loss=0.0308]\n",
      "Some weights of the model checkpoint at bert-base-uncased were not used when initializing BertForMaskedLM: ['cls.seq_relationship.weight', 'cls.seq_relationship.bias']\n",
      "- This IS expected if you are initializing BertForMaskedLM from the checkpoint of a model trained on another task or with another architecture (e.g. initializing a BertForSequenceClassification model from a BertForPreTraining model).\n",
      "- This IS NOT expected if you are initializing BertForMaskedLM from the checkpoint of a model that you expect to be exactly identical (initializing a BertForSequenceClassification model from a BertForSequenceClassification model).\n",
      "Epoch 2, Phase val: 100%|█████████████████████████████████████████| 4710/4710 [19:01<00:00,  4.13it/s, loss=0.0311]\n",
      "Some weights of the model checkpoint at bert-base-uncased were not used when initializing BertForMaskedLM: ['cls.seq_relationship.weight', 'cls.seq_relationship.bias']\n",
      "- This IS expected if you are initializing BertForMaskedLM from the checkpoint of a model trained on another task or with another architecture (e.g. initializing a BertForSequenceClassification model from a BertForPreTraining model).\n",
      "- This IS NOT expected if you are initializing BertForMaskedLM from the checkpoint of a model that you expect to be exactly identical (initializing a BertForSequenceClassification model from a BertForSequenceClassification model).\n",
      "Epoch 2, Phase val: 100%|█████████████████████████████████████████| 4710/4710 [18:53<00:00,  4.15it/s, loss=0.0322]\n",
      "Some weights of the model checkpoint at bert-base-uncased were not used when initializing BertForMaskedLM: ['cls.seq_relationship.weight', 'cls.seq_relationship.bias']\n",
      "- This IS expected if you are initializing BertForMaskedLM from the checkpoint of a model trained on another task or with another architecture (e.g. initializing a BertForSequenceClassification model from a BertForPreTraining model).\n",
      "- This IS NOT expected if you are initializing BertForMaskedLM from the checkpoint of a model that you expect to be exactly identical (initializing a BertForSequenceClassification model from a BertForSequenceClassification model).\n",
      "Epoch 2, Phase val: 100%|█████████████████████████████████████████| 4710/4710 [20:51<00:00,  3.76it/s, loss=0.0332]\n"
     ]
    }
   ],
   "source": [
    "from transformers import AdamW, BertForMaskedLM\n",
    "\n",
    "hyperparam_losses = {}\n",
    "\n",
    "for lr in range(2, 6):\n",
    "    model = BertForMaskedLM.from_pretrained('bert-base-uncased')\n",
    "    model.to(device)\n",
    "    # initialize optimizer\n",
    "    optim = AdamW(model.parameters(), lr=lr*10**-5)\n",
    "    model, loss_log = train_model(model, dataloaders, optim, \"gt_tokens\")\n",
    "    hyperparam_losses[lr] = loss_log\n",
    "    model_file = os.path.join(f\"models_lr_{lr}\")\n",
    "    model.save_pretrained(model_file)"
   ]
  },
  {
   "cell_type": "code",
   "execution_count": 20,
   "metadata": {},
   "outputs": [
    {
     "data": {
      "text/plain": [
       "<matplotlib.legend.Legend at 0x22aca4cb9d0>"
      ]
     },
     "execution_count": 20,
     "metadata": {},
     "output_type": "execute_result"
    },
    {
     "data": {
      "image/png": "[encoded data removed]",
      "text/plain": [
       "<Figure size 432x288 with 2 Axes>"
      ]
     },
     "metadata": {
      "needs_background": "light"
     },
     "output_type": "display_data"
    }
   ],
   "source": [
    "import matplotlib.pyplot as plt\n",
    "\n",
    "fig, axs = plt.subplots(1, 2)\n",
    "for lr, losses in hyperparam_losses.items():\n",
    "    axs[0].plot(losses[\"train\"], label=f\"lr={lr}e-5\")\n",
    "    axs[1].plot(losses[\"val\"], label=f\"lr={lr}e-5\")\n",
    "\n",
    "axs[0].legend()\n",
    "axs[1].legend()"
   ]
  },
  {
   "cell_type": "markdown",
   "metadata": {},
   "source": [
    "Load best model (found to be lr 2*10-5)"
   ]
  },
  {
   "cell_type": "code",
   "execution_count": 56,
   "metadata": {},
   "outputs": [
    {
     "name": "stderr",
     "output_type": "stream",
     "text": [
      "Some weights of the model checkpoint at bert-base-uncased were not used when initializing BertForMaskedLM: ['cls.seq_relationship.weight', 'cls.seq_relationship.bias']\n",
      "- This IS expected if you are initializing BertForMaskedLM from the checkpoint of a model trained on another task or with another architecture (e.g. initializing a BertForSequenceClassification model from a BertForPreTraining model).\n",
      "- This IS NOT expected if you are initializing BertForMaskedLM from the checkpoint of a model that you expect to be exactly identical (initializing a BertForSequenceClassification model from a BertForSequenceClassification model).\n"
     ]
    }
   ],
   "source": [
    "from transformers import BertForMaskedLM\n",
    "device = torch.device('cuda') if torch.cuda.is_available() else torch.device('cpu')\n",
    "model = BertForMaskedLM.from_pretrained('bert-base-uncased')\n",
    "model = model.from_pretrained(\"models_lr_2\")"
   ]
  },
  {
   "cell_type": "markdown",
   "metadata": {},
   "source": [
    "Example output"
   ]
  },
  {
   "cell_type": "code",
   "execution_count": 57,
   "metadata": {
    "scrolled": true
   },
   "outputs": [
    {
     "name": "stdout",
     "output_type": "stream",
     "text": [
      "torch.Size([8, 256])\n",
      "[CLS] reason for consultation : recurrent abscesses in the thigh, as well as the pubic area for at least about 2 cm. [SEP] [PAD] [PAD] [PAD] [PAD] [PAD] [PAD] [PAD] [PAD] [PAD] [PAD] [PAD] [PAD] [PAD] [PAD] [PAD] [PAD] [PAD] [PAD] [PAD] [PAD] [PAD] [PAD] [PAD] [PAD] [PAD] [PAD] [PAD] [PAD] [PAD] [PAD] [PAD] [PAD] [PAD] [PAD] [PAD] [PAD] [PAD] [PAD] [PAD] [PAD] [PAD] [PAD] [PAD] [PAD] [PAD] [PAD] [PAD] [PAD] [PAD] [PAD] [PAD] [PAD] [PAD] [PAD] [PAD] [PAD] [PAD] [PAD] [PAD] [PAD] [PAD] [PAD] [PAD] [PAD] [PAD] [PAD] [PAD] [PAD] [PAD] [PAD] [PAD] [PAD] [PAD] [PAD] [PAD] [PAD] [PAD] [PAD] [PAD] [PAD] [PAD] [PAD] [PAD] [PAD] [PAD] [PAD] [PAD] [PAD] [PAD] [PAD] [PAD] [PAD] [PAD] [PAD] [PAD] [PAD] [PAD] [PAD] [PAD] [PAD] [PAD] [PAD] [PAD] [PAD] [PAD] [PAD] [PAD] [PAD] [PAD] [PAD] [PAD] [PAD] [PAD] [PAD] [PAD] [PAD] [PAD] [PAD] [PAD] [PAD] [PAD] [PAD] [PAD] [PAD] [PAD] [PAD] [PAD] [PAD] [PAD] [PAD] [PAD] [PAD] [PAD] [PAD] [PAD] [PAD] [PAD] [PAD] [PAD] [PAD] [PAD] [PAD] [PAD] [PAD] [PAD] [PAD] [PAD] [PAD] [PAD] [PAD] [PAD] [PAD] [PAD] [PAD] [PAD] [PAD] [PAD] [PAD] [PAD] [PAD] [PAD] [PAD] [PAD] [PAD] [PAD] [PAD] [PAD] [PAD] [PAD] [PAD] [PAD] [PAD] [PAD] [PAD] [PAD] [PAD] [PAD] [PAD] [PAD] [PAD] [PAD] [PAD] [PAD] [PAD] [PAD] [PAD] [PAD] [PAD] [PAD] [PAD] [PAD] [PAD] [PAD] [PAD] [PAD] [PAD] [PAD] [PAD] [PAD] [PAD] [PAD] [PAD] [PAD] [PAD] [PAD] [PAD] [PAD] [PAD] [PAD] [PAD] [PAD] [PAD] [PAD] [PAD] [PAD] [PAD] [PAD] [PAD] [PAD] [PAD] [PAD] [PAD] [PAD] [PAD] [PAD] [PAD] [PAD]\n",
      "[CLS] reason for consultation : recurrent abscesses in the thigh, as well as the pubic area for at least about 2 years. [SEP] [PAD] [PAD] [PAD] [PAD] [PAD] [PAD] [PAD] [PAD] [PAD] [PAD] [PAD] [PAD] [PAD] [PAD] [PAD] [PAD] [PAD] [PAD] [PAD] [PAD] [PAD] [PAD] [PAD] [PAD] [PAD] [PAD] [PAD] [PAD] [PAD] [PAD] [PAD] [PAD] [PAD] [PAD] [PAD] [PAD] [PAD] [PAD] [PAD] [PAD] [PAD] [PAD] [PAD] [PAD] [PAD] [PAD] [PAD] [PAD] [PAD] [PAD] [PAD] [PAD] [PAD] [PAD] [PAD] [PAD] [PAD] [PAD] [PAD] [PAD] [PAD] [PAD] [PAD] [PAD] [PAD] [PAD] [PAD] [PAD] [PAD] [PAD] [PAD] [PAD] [PAD] [PAD] [PAD] [PAD] [PAD] [PAD] [PAD] [PAD] [PAD] [PAD] [PAD] [PAD] [PAD] [PAD] [PAD] [PAD] [PAD] [PAD] [PAD] [PAD] [PAD] [PAD] [PAD] [PAD] [PAD] [PAD] [PAD] [PAD] [PAD] [PAD] [PAD] [PAD] [PAD] [PAD] [PAD] [PAD] [PAD] [PAD] [PAD] [PAD] [PAD] [PAD] [PAD] [PAD] [PAD] [PAD] [PAD] [PAD] [PAD] [PAD] [PAD] [PAD] [PAD] [PAD] [PAD] [PAD] [PAD] [PAD] [PAD] [PAD] [PAD] [PAD] [PAD] [PAD] [PAD] [PAD] [PAD] [PAD] [PAD] [PAD] [PAD] [PAD] [PAD] [PAD] [PAD] [PAD] [PAD] [PAD] [PAD] [PAD] [PAD] [PAD] [PAD] [PAD] [PAD] [PAD] [PAD] [PAD] [PAD] [PAD] [PAD] [PAD] [PAD] [PAD] [PAD] [PAD] [PAD] [PAD] [PAD] [PAD] [PAD] [PAD] [PAD] [PAD] [PAD] [PAD] [PAD] [PAD] [PAD] [PAD] [PAD] [PAD] [PAD] [PAD] [PAD] [PAD] [PAD] [PAD] [PAD] [PAD] [PAD] [PAD] [PAD] [PAD] [PAD] [PAD] [PAD] [PAD] [PAD] [PAD] [PAD] [PAD] [PAD] [PAD] [PAD] [PAD] [PAD] [PAD] [PAD] [PAD] [PAD] [PAD] [PAD] [PAD] [PAD] [PAD] [PAD] [PAD] [PAD] [PAD] [PAD] [PAD] [PAD] [PAD] [PAD]\n",
      "[CLS] reason for consultation : recurrent abscesses in [MASK] thigh, as [MASK] as [MASK] pubic area [MASK] at least about 2 [MASK]. [SEP] [PAD] [PAD] [PAD] [PAD] [PAD] [PAD] [PAD] [PAD] [PAD] [PAD] [PAD] [PAD] [PAD] [PAD] [PAD] [PAD] [PAD] [PAD] [PAD] [PAD] [PAD] [PAD] [PAD] [PAD] [PAD] [PAD] [PAD] [PAD] [PAD] [PAD] [PAD] [PAD] [PAD] [PAD] [PAD] [PAD] [PAD] [PAD] [PAD] [PAD] [PAD] [PAD] [PAD] [PAD] [PAD] [PAD] [PAD] [PAD] [PAD] [PAD] [PAD] [PAD] [PAD] [PAD] [PAD] [PAD] [PAD] [PAD] [PAD] [PAD] [PAD] [PAD] [PAD] [PAD] [PAD] [PAD] [PAD] [PAD] [PAD] [PAD] [PAD] [PAD] [PAD] [PAD] [PAD] [PAD] [PAD] [PAD] [PAD] [PAD] [PAD] [PAD] [PAD] [PAD] [PAD] [PAD] [PAD] [PAD] [PAD] [PAD] [PAD] [PAD] [PAD] [PAD] [PAD] [PAD] [PAD] [PAD] [PAD] [PAD] [PAD] [PAD] [PAD] [PAD] [PAD] [PAD] [PAD] [PAD] [PAD] [PAD] [PAD] [PAD] [PAD] [PAD] [PAD] [PAD] [PAD] [PAD] [PAD] [PAD] [PAD] [PAD] [PAD] [PAD] [PAD] [PAD] [PAD] [PAD] [PAD] [PAD] [PAD] [PAD] [PAD] [PAD] [PAD] [PAD] [PAD] [PAD] [PAD] [PAD] [PAD] [PAD] [PAD] [PAD] [PAD] [PAD] [PAD] [PAD] [PAD] [PAD] [PAD] [PAD] [PAD] [PAD] [PAD] [PAD] [PAD] [PAD] [PAD] [PAD] [PAD] [PAD] [PAD] [PAD] [PAD] [PAD] [PAD] [PAD] [PAD] [PAD] [PAD] [PAD] [PAD] [PAD] [PAD] [PAD] [PAD] [PAD] [PAD] [PAD] [PAD] [PAD] [PAD] [PAD] [PAD] [PAD] [PAD] [PAD] [PAD] [PAD] [PAD] [PAD] [PAD] [PAD] [PAD] [PAD] [PAD] [PAD] [PAD] [PAD] [PAD] [PAD] [PAD] [PAD] [PAD] [PAD] [PAD] [PAD] [PAD] [PAD] [PAD] [PAD] [PAD] [PAD] [PAD] [PAD] [PAD] [PAD] [PAD] [PAD] [PAD] [PAD] [PAD] [PAD] [PAD] [PAD] [PAD]\n"
     ]
    }
   ],
   "source": [
    "batch = next(iter(dataloaders[\"test\"]))\n",
    "model.to(device)\n",
    "input_ids = batch[\"input_ids\"].to(device)\n",
    "attention_mask = batch[\"attention_mask\"].to(device)\n",
    "gt_tokens = batch[\"gt_tokens\"]\n",
    "anno = batch[\"anno\"]\n",
    "with torch.set_grad_enabled(False):\n",
    "    outputs = model(input_ids, attention_mask=attention_mask)\n",
    "_, preds = torch.max(outputs.logits, 2)\n",
    "print(preds.size())\n",
    "idx = 0\n",
    "print(tokenizer.decode(preds[idx]))\n",
    "print(tokenizer.decode(gt_tokens[idx]))\n",
    "print(tokenizer.decode(input_ids[idx]))"
   ]
  },
  {
   "cell_type": "markdown",
   "metadata": {},
   "source": [
    "## Clustering\n",
    "### Get final hidden layer representations\n",
    "Helper functions"
   ]
  },
  {
   "cell_type": "code",
   "execution_count": 58,
   "metadata": {
    "tags": []
   },
   "outputs": [],
   "source": [
    "def get_hidden_layer_reps(model, dataloader, device, max_token_length, layer):\n",
    "    hidden_layer_reps = torch.zeros(len(dataloader.dataset), max_token_length, model.config.hidden_size)\n",
    "    idx = 0\n",
    "    for batch in dataloader:\n",
    "        input_ids = batch[\"gt_tokens\"].to(device)\n",
    "        attention_mask = batch[\"attention_mask\"].to(device)\n",
    "        with torch.set_grad_enabled(False):\n",
    "            outputs = model(input_ids, attention_mask=attention_mask, output_hidden_states=True)\n",
    "        batch_size = input_ids.size(0)\n",
    "        hidden_layer_reps[idx:idx+batch_size] = outputs.hidden_states[layer]\n",
    "        idx += batch_size\n",
    "    return hidden_layer_reps.cpu()\n",
    "\n",
    "def get_av_hidden_layer_rep_for_toi_layer(hidden_layer_reps, toi_idxs):\n",
    "    av_hidden_layer_rep_toi = torch.zeros(hidden_layer_reps.size(0), hidden_layer_reps.size(2))\n",
    "    for i, (hidden_layer_rep, toi_idx) in enumerate(zip(hidden_layer_reps, toi_idxs)):\n",
    "        # Extract hidden layer reps of interest\n",
    "        hidden_layer_rep_oi = hidden_layer_rep[toi_idx[0]:toi_idx[1]]\n",
    "        # Average them as normally word > 1 token\n",
    "        av_hidden_layer_rep_toi[i] = hidden_layer_rep_oi.mean(dim=0)\n",
    "    return av_hidden_layer_rep_toi"
   ]
  },
  {
   "cell_type": "markdown",
   "metadata": {},
   "source": [
    "Do work"
   ]
  },
  {
   "cell_type": "code",
   "execution_count": 59,
   "metadata": {},
   "outputs": [
    {
     "data": {
      "text/plain": [
       "BertForMaskedLM(\n",
       "  (bert): BertModel(\n",
       "    (embeddings): BertEmbeddings(\n",
       "      (word_embeddings): Embedding(30522, 768, padding_idx=0)\n",
       "      (position_embeddings): Embedding(512, 768)\n",
       "      (token_type_embeddings): Embedding(2, 768)\n",
       "      (LayerNorm): LayerNorm((768,), eps=1e-12, elementwise_affine=True)\n",
       "      (dropout): Dropout(p=0.1, inplace=False)\n",
       "    )\n",
       "    (encoder): BertEncoder(\n",
       "      (layer): ModuleList(\n",
       "        (0): BertLayer(\n",
       "          (attention): BertAttention(\n",
       "            (self): BertSelfAttention(\n",
       "              (query): Linear(in_features=768, out_features=768, bias=True)\n",
       "              (key): Linear(in_features=768, out_features=768, bias=True)\n",
       "              (value): Linear(in_features=768, out_features=768, bias=True)\n",
       "              (dropout): Dropout(p=0.1, inplace=False)\n",
       "            )\n",
       "            (output): BertSelfOutput(\n",
       "              (dense): Linear(in_features=768, out_features=768, bias=True)\n",
       "              (LayerNorm): LayerNorm((768,), eps=1e-12, elementwise_affine=True)\n",
       "              (dropout): Dropout(p=0.1, inplace=False)\n",
       "            )\n",
       "          )\n",
       "          (intermediate): BertIntermediate(\n",
       "            (dense): Linear(in_features=768, out_features=3072, bias=True)\n",
       "          )\n",
       "          (output): BertOutput(\n",
       "            (dense): Linear(in_features=3072, out_features=768, bias=True)\n",
       "            (LayerNorm): LayerNorm((768,), eps=1e-12, elementwise_affine=True)\n",
       "            (dropout): Dropout(p=0.1, inplace=False)\n",
       "          )\n",
       "        )\n",
       "        (1): BertLayer(\n",
       "          (attention): BertAttention(\n",
       "            (self): BertSelfAttention(\n",
       "              (query): Linear(in_features=768, out_features=768, bias=True)\n",
       "              (key): Linear(in_features=768, out_features=768, bias=True)\n",
       "              (value): Linear(in_features=768, out_features=768, bias=True)\n",
       "              (dropout): Dropout(p=0.1, inplace=False)\n",
       "            )\n",
       "            (output): BertSelfOutput(\n",
       "              (dense): Linear(in_features=768, out_features=768, bias=True)\n",
       "              (LayerNorm): LayerNorm((768,), eps=1e-12, elementwise_affine=True)\n",
       "              (dropout): Dropout(p=0.1, inplace=False)\n",
       "            )\n",
       "          )\n",
       "          (intermediate): BertIntermediate(\n",
       "            (dense): Linear(in_features=768, out_features=3072, bias=True)\n",
       "          )\n",
       "          (output): BertOutput(\n",
       "            (dense): Linear(in_features=3072, out_features=768, bias=True)\n",
       "            (LayerNorm): LayerNorm((768,), eps=1e-12, elementwise_affine=True)\n",
       "            (dropout): Dropout(p=0.1, inplace=False)\n",
       "          )\n",
       "        )\n",
       "        (2): BertLayer(\n",
       "          (attention): BertAttention(\n",
       "            (self): BertSelfAttention(\n",
       "              (query): Linear(in_features=768, out_features=768, bias=True)\n",
       "              (key): Linear(in_features=768, out_features=768, bias=True)\n",
       "              (value): Linear(in_features=768, out_features=768, bias=True)\n",
       "              (dropout): Dropout(p=0.1, inplace=False)\n",
       "            )\n",
       "            (output): BertSelfOutput(\n",
       "              (dense): Linear(in_features=768, out_features=768, bias=True)\n",
       "              (LayerNorm): LayerNorm((768,), eps=1e-12, elementwise_affine=True)\n",
       "              (dropout): Dropout(p=0.1, inplace=False)\n",
       "            )\n",
       "          )\n",
       "          (intermediate): BertIntermediate(\n",
       "            (dense): Linear(in_features=768, out_features=3072, bias=True)\n",
       "          )\n",
       "          (output): BertOutput(\n",
       "            (dense): Linear(in_features=3072, out_features=768, bias=True)\n",
       "            (LayerNorm): LayerNorm((768,), eps=1e-12, elementwise_affine=True)\n",
       "            (dropout): Dropout(p=0.1, inplace=False)\n",
       "          )\n",
       "        )\n",
       "        (3): BertLayer(\n",
       "          (attention): BertAttention(\n",
       "            (self): BertSelfAttention(\n",
       "              (query): Linear(in_features=768, out_features=768, bias=True)\n",
       "              (key): Linear(in_features=768, out_features=768, bias=True)\n",
       "              (value): Linear(in_features=768, out_features=768, bias=True)\n",
       "              (dropout): Dropout(p=0.1, inplace=False)\n",
       "            )\n",
       "            (output): BertSelfOutput(\n",
       "              (dense): Linear(in_features=768, out_features=768, bias=True)\n",
       "              (LayerNorm): LayerNorm((768,), eps=1e-12, elementwise_affine=True)\n",
       "              (dropout): Dropout(p=0.1, inplace=False)\n",
       "            )\n",
       "          )\n",
       "          (intermediate): BertIntermediate(\n",
       "            (dense): Linear(in_features=768, out_features=3072, bias=True)\n",
       "          )\n",
       "          (output): BertOutput(\n",
       "            (dense): Linear(in_features=3072, out_features=768, bias=True)\n",
       "            (LayerNorm): LayerNorm((768,), eps=1e-12, elementwise_affine=True)\n",
       "            (dropout): Dropout(p=0.1, inplace=False)\n",
       "          )\n",
       "        )\n",
       "        (4): BertLayer(\n",
       "          (attention): BertAttention(\n",
       "            (self): BertSelfAttention(\n",
       "              (query): Linear(in_features=768, out_features=768, bias=True)\n",
       "              (key): Linear(in_features=768, out_features=768, bias=True)\n",
       "              (value): Linear(in_features=768, out_features=768, bias=True)\n",
       "              (dropout): Dropout(p=0.1, inplace=False)\n",
       "            )\n",
       "            (output): BertSelfOutput(\n",
       "              (dense): Linear(in_features=768, out_features=768, bias=True)\n",
       "              (LayerNorm): LayerNorm((768,), eps=1e-12, elementwise_affine=True)\n",
       "              (dropout): Dropout(p=0.1, inplace=False)\n",
       "            )\n",
       "          )\n",
       "          (intermediate): BertIntermediate(\n",
       "            (dense): Linear(in_features=768, out_features=3072, bias=True)\n",
       "          )\n",
       "          (output): BertOutput(\n",
       "            (dense): Linear(in_features=3072, out_features=768, bias=True)\n",
       "            (LayerNorm): LayerNorm((768,), eps=1e-12, elementwise_affine=True)\n",
       "            (dropout): Dropout(p=0.1, inplace=False)\n",
       "          )\n",
       "        )\n",
       "        (5): BertLayer(\n",
       "          (attention): BertAttention(\n",
       "            (self): BertSelfAttention(\n",
       "              (query): Linear(in_features=768, out_features=768, bias=True)\n",
       "              (key): Linear(in_features=768, out_features=768, bias=True)\n",
       "              (value): Linear(in_features=768, out_features=768, bias=True)\n",
       "              (dropout): Dropout(p=0.1, inplace=False)\n",
       "            )\n",
       "            (output): BertSelfOutput(\n",
       "              (dense): Linear(in_features=768, out_features=768, bias=True)\n",
       "              (LayerNorm): LayerNorm((768,), eps=1e-12, elementwise_affine=True)\n",
       "              (dropout): Dropout(p=0.1, inplace=False)\n",
       "            )\n",
       "          )\n",
       "          (intermediate): BertIntermediate(\n",
       "            (dense): Linear(in_features=768, out_features=3072, bias=True)\n",
       "          )\n",
       "          (output): BertOutput(\n",
       "            (dense): Linear(in_features=3072, out_features=768, bias=True)\n",
       "            (LayerNorm): LayerNorm((768,), eps=1e-12, elementwise_affine=True)\n",
       "            (dropout): Dropout(p=0.1, inplace=False)\n",
       "          )\n",
       "        )\n",
       "        (6): BertLayer(\n",
       "          (attention): BertAttention(\n",
       "            (self): BertSelfAttention(\n",
       "              (query): Linear(in_features=768, out_features=768, bias=True)\n",
       "              (key): Linear(in_features=768, out_features=768, bias=True)\n",
       "              (value): Linear(in_features=768, out_features=768, bias=True)\n",
       "              (dropout): Dropout(p=0.1, inplace=False)\n",
       "            )\n",
       "            (output): BertSelfOutput(\n",
       "              (dense): Linear(in_features=768, out_features=768, bias=True)\n",
       "              (LayerNorm): LayerNorm((768,), eps=1e-12, elementwise_affine=True)\n",
       "              (dropout): Dropout(p=0.1, inplace=False)\n",
       "            )\n",
       "          )\n",
       "          (intermediate): BertIntermediate(\n",
       "            (dense): Linear(in_features=768, out_features=3072, bias=True)\n",
       "          )\n",
       "          (output): BertOutput(\n",
       "            (dense): Linear(in_features=3072, out_features=768, bias=True)\n",
       "            (LayerNorm): LayerNorm((768,), eps=1e-12, elementwise_affine=True)\n",
       "            (dropout): Dropout(p=0.1, inplace=False)\n",
       "          )\n",
       "        )\n",
       "        (7): BertLayer(\n",
       "          (attention): BertAttention(\n",
       "            (self): BertSelfAttention(\n",
       "              (query): Linear(in_features=768, out_features=768, bias=True)\n",
       "              (key): Linear(in_features=768, out_features=768, bias=True)\n",
       "              (value): Linear(in_features=768, out_features=768, bias=True)\n",
       "              (dropout): Dropout(p=0.1, inplace=False)\n",
       "            )\n",
       "            (output): BertSelfOutput(\n",
       "              (dense): Linear(in_features=768, out_features=768, bias=True)\n",
       "              (LayerNorm): LayerNorm((768,), eps=1e-12, elementwise_affine=True)\n",
       "              (dropout): Dropout(p=0.1, inplace=False)\n",
       "            )\n",
       "          )\n",
       "          (intermediate): BertIntermediate(\n",
       "            (dense): Linear(in_features=768, out_features=3072, bias=True)\n",
       "          )\n",
       "          (output): BertOutput(\n",
       "            (dense): Linear(in_features=3072, out_features=768, bias=True)\n",
       "            (LayerNorm): LayerNorm((768,), eps=1e-12, elementwise_affine=True)\n",
       "            (dropout): Dropout(p=0.1, inplace=False)\n",
       "          )\n",
       "        )\n",
       "        (8): BertLayer(\n",
       "          (attention): BertAttention(\n",
       "            (self): BertSelfAttention(\n",
       "              (query): Linear(in_features=768, out_features=768, bias=True)\n",
       "              (key): Linear(in_features=768, out_features=768, bias=True)\n",
       "              (value): Linear(in_features=768, out_features=768, bias=True)\n",
       "              (dropout): Dropout(p=0.1, inplace=False)\n",
       "            )\n",
       "            (output): BertSelfOutput(\n",
       "              (dense): Linear(in_features=768, out_features=768, bias=True)\n",
       "              (LayerNorm): LayerNorm((768,), eps=1e-12, elementwise_affine=True)\n",
       "              (dropout): Dropout(p=0.1, inplace=False)\n",
       "            )\n",
       "          )\n",
       "          (intermediate): BertIntermediate(\n",
       "            (dense): Linear(in_features=768, out_features=3072, bias=True)\n",
       "          )\n",
       "          (output): BertOutput(\n",
       "            (dense): Linear(in_features=3072, out_features=768, bias=True)\n",
       "            (LayerNorm): LayerNorm((768,), eps=1e-12, elementwise_affine=True)\n",
       "            (dropout): Dropout(p=0.1, inplace=False)\n",
       "          )\n",
       "        )\n",
       "        (9): BertLayer(\n",
       "          (attention): BertAttention(\n",
       "            (self): BertSelfAttention(\n",
       "              (query): Linear(in_features=768, out_features=768, bias=True)\n",
       "              (key): Linear(in_features=768, out_features=768, bias=True)\n",
       "              (value): Linear(in_features=768, out_features=768, bias=True)\n",
       "              (dropout): Dropout(p=0.1, inplace=False)\n",
       "            )\n",
       "            (output): BertSelfOutput(\n",
       "              (dense): Linear(in_features=768, out_features=768, bias=True)\n",
       "              (LayerNorm): LayerNorm((768,), eps=1e-12, elementwise_affine=True)\n",
       "              (dropout): Dropout(p=0.1, inplace=False)\n",
       "            )\n",
       "          )\n",
       "          (intermediate): BertIntermediate(\n",
       "            (dense): Linear(in_features=768, out_features=3072, bias=True)\n",
       "          )\n",
       "          (output): BertOutput(\n",
       "            (dense): Linear(in_features=3072, out_features=768, bias=True)\n",
       "            (LayerNorm): LayerNorm((768,), eps=1e-12, elementwise_affine=True)\n",
       "            (dropout): Dropout(p=0.1, inplace=False)\n",
       "          )\n",
       "        )\n",
       "        (10): BertLayer(\n",
       "          (attention): BertAttention(\n",
       "            (self): BertSelfAttention(\n",
       "              (query): Linear(in_features=768, out_features=768, bias=True)\n",
       "              (key): Linear(in_features=768, out_features=768, bias=True)\n",
       "              (value): Linear(in_features=768, out_features=768, bias=True)\n",
       "              (dropout): Dropout(p=0.1, inplace=False)\n",
       "            )\n",
       "            (output): BertSelfOutput(\n",
       "              (dense): Linear(in_features=768, out_features=768, bias=True)\n",
       "              (LayerNorm): LayerNorm((768,), eps=1e-12, elementwise_affine=True)\n",
       "              (dropout): Dropout(p=0.1, inplace=False)\n",
       "            )\n",
       "          )\n",
       "          (intermediate): BertIntermediate(\n",
       "            (dense): Linear(in_features=768, out_features=3072, bias=True)\n",
       "          )\n",
       "          (output): BertOutput(\n",
       "            (dense): Linear(in_features=3072, out_features=768, bias=True)\n",
       "            (LayerNorm): LayerNorm((768,), eps=1e-12, elementwise_affine=True)\n",
       "            (dropout): Dropout(p=0.1, inplace=False)\n",
       "          )\n",
       "        )\n",
       "        (11): BertLayer(\n",
       "          (attention): BertAttention(\n",
       "            (self): BertSelfAttention(\n",
       "              (query): Linear(in_features=768, out_features=768, bias=True)\n",
       "              (key): Linear(in_features=768, out_features=768, bias=True)\n",
       "              (value): Linear(in_features=768, out_features=768, bias=True)\n",
       "              (dropout): Dropout(p=0.1, inplace=False)\n",
       "            )\n",
       "            (output): BertSelfOutput(\n",
       "              (dense): Linear(in_features=768, out_features=768, bias=True)\n",
       "              (LayerNorm): LayerNorm((768,), eps=1e-12, elementwise_affine=True)\n",
       "              (dropout): Dropout(p=0.1, inplace=False)\n",
       "            )\n",
       "          )\n",
       "          (intermediate): BertIntermediate(\n",
       "            (dense): Linear(in_features=768, out_features=3072, bias=True)\n",
       "          )\n",
       "          (output): BertOutput(\n",
       "            (dense): Linear(in_features=3072, out_features=768, bias=True)\n",
       "            (LayerNorm): LayerNorm((768,), eps=1e-12, elementwise_affine=True)\n",
       "            (dropout): Dropout(p=0.1, inplace=False)\n",
       "          )\n",
       "        )\n",
       "      )\n",
       "    )\n",
       "  )\n",
       "  (cls): BertOnlyMLMHead(\n",
       "    (predictions): BertLMPredictionHead(\n",
       "      (transform): BertPredictionHeadTransform(\n",
       "        (dense): Linear(in_features=768, out_features=768, bias=True)\n",
       "        (LayerNorm): LayerNorm((768,), eps=1e-12, elementwise_affine=True)\n",
       "      )\n",
       "      (decoder): Linear(in_features=768, out_features=30522, bias=True)\n",
       "    )\n",
       "  )\n",
       ")"
      ]
     },
     "execution_count": 59,
     "metadata": {},
     "output_type": "execute_result"
    }
   ],
   "source": [
    "model.to(device)\n",
    "dataloaders[\"train\"] = torch.utils.data.DataLoader(datasets[\"train\"], batch_size=8, shuffle=False)\n",
    "model.eval()\n",
    "hidden_final_layer_train = get_hidden_layer_reps(model, dataloaders[\"train\"], device, max_token_length, -1)\n",
    "hidden_final_layer_toi_train = get_av_hidden_layer_rep_for_toi_layer(hidden_final_layer_train, inputs_train[\"toi_idxs\"])\n",
    "\n",
    "hidden_final_layer_test = get_hidden_layer_reps(model, dataloaders[\"test\"], device, max_token_length, -1)\n",
    "hidden_final_layer_toi_test = get_av_hidden_layer_rep_for_toi_layer(hidden_final_layer_test, inputs_test[\"toi_idxs\"])\n",
    "model.to(\"cpu\")"
   ]
  },
  {
   "cell_type": "markdown",
   "metadata": {},
   "source": [
    "### Kmeans clustering"
   ]
  },
  {
   "cell_type": "code",
   "execution_count": 60,
   "metadata": {},
   "outputs": [],
   "source": [
    "import matplotlib.pyplot as plt\n",
    "from sklearn.cluster import KMeans\n",
    "from sklearn.preprocessing import StandardScaler\n",
    "from sklearn.pipeline import make_pipeline\n",
    "\n",
    "# Scale then cluster\n",
    "scaler = StandardScaler().fit(hidden_final_layer_toi_train)\n",
    "scaled_data_train = scaler.transform(hidden_final_layer_toi_train)\n",
    "kmeans = KMeans(init=\"k-means++\", n_clusters=2, n_init=20).fit(scaled_data_train)"
   ]
  },
  {
   "cell_type": "code",
   "execution_count": 62,
   "metadata": {},
   "outputs": [
    {
     "name": "stdout",
     "output_type": "stream",
     "text": [
      "              precision    recall  f1-score   support\n",
      "\n",
      "           0       0.80      0.94      0.86      1407\n",
      "           1       0.94      0.80      0.87      1692\n",
      "\n",
      "    accuracy                           0.86      3099\n",
      "   macro avg       0.87      0.87      0.86      3099\n",
      "weighted avg       0.88      0.86      0.86      3099\n",
      "\n",
      "[[1325   82]\n",
      " [ 339 1353]]\n"
     ]
    },
    {
     "data": {
      "text/plain": [
       "Text(0.5, 15.0, 'SemEHR Label')"
      ]
     },
     "execution_count": 62,
     "metadata": {},
     "output_type": "execute_result"
    },
    {
     "data": {
      "image/png": "[encoded data removed]",
      "text/plain": [
       "<Figure size 432x288 with 2 Axes>"
      ]
     },
     "metadata": {
      "needs_background": "light"
     },
     "output_type": "display_data"
    }
   ],
   "source": [
    "import seaborn as sns\n",
    "from sklearn.metrics import accuracy_score, plot_confusion_matrix, confusion_matrix, classification_report\n",
    "\n",
    "gt = np.array([label_to_int(label) for label in inputs_test[\"labels\"]])\n",
    "\n",
    "# Make predictions on test set\n",
    "scaled_data_test = scaler.transform(hidden_final_layer_toi_test)\n",
    "k_pred_test = kmeans.predict(scaled_data_test)\n",
    "# Dont know which cluster is which so switch if accuracy less than chance\n",
    "if accuracy_score(gt, k_pred_test) < 0.5:\n",
    "    k_pred_test = np.where(k_pred_test==1, 0, 1)\n",
    "\n",
    "# Get metrics\n",
    "print(classification_report(gt, k_pred_test))\n",
    "cm = confusion_matrix(gt, k_pred_test)\n",
    "print(cm)\n",
    "sns.heatmap(cm, annot=True, fmt='g')\n",
    "plt.ylabel(\"Unsupervised Prediction\")\n",
    "plt.xlabel(\"SemEHR Label\")"
   ]
  },
  {
   "cell_type": "markdown",
   "metadata": {},
   "source": [
    "PCA decomposition of the clusterting. Adapted from https://scikit-learn.org/stable/auto_examples/cluster/plot_kmeans_digits.html"
   ]
  },
  {
   "cell_type": "code",
   "execution_count": 128,
   "metadata": {},
   "outputs": [
    {
     "data": {
      "image/png": "[encoded data removed]",
      "text/plain": [
       "<Figure size 432x288 with 1 Axes>"
      ]
     },
     "metadata": {},
     "output_type": "display_data"
    }
   ],
   "source": [
    "from sklearn.decomposition import PCA\n",
    "\n",
    "\n",
    "pca = PCA(n_components=2).fit(scaled_data_test)\n",
    "reduced_data_test = pca.transform(scaled_data_test)\n",
    "colours = ['k' if label == 1 else \"w\" for label in gt]\n",
    "\n",
    "# Step size of the mesh. Decrease to increase the quality of the VQ.\n",
    "h = .1     # point in the mesh [x_min, x_max]x[y_min, y_max].\n",
    "\n",
    "# Plot the decision boundary. For that, we will assign a color to each\n",
    "x_min, x_max = reduced_data_test[:, 0].min() - 1, reduced_data_test[:, 0].max() + 1\n",
    "y_min, y_max = reduced_data_test[:, 1].min() - 1, reduced_data_test[:, 1].max() + 1\n",
    "xx, yy = np.meshgrid(np.arange(x_min, x_max, h), np.arange(y_min, y_max, h))\n",
    "\n",
    "# Obtain labels for each point in mesh. Use last trained model.\n",
    "Z = kmeans.predict(pca.inverse_transform(np.c_[(xx.ravel()), yy.ravel()]))\n",
    "\n",
    "# Put the result into a color plot\n",
    "Z = Z.reshape(xx.shape)\n",
    "plt.figure(1)\n",
    "plt.clf()\n",
    "plt.imshow(Z, interpolation=\"nearest\",\n",
    "           extent=(xx.min(), xx.max(), yy.min(), yy.max()),\n",
    "           cmap=plt.cm.Paired, aspect=\"auto\", origin=\"lower\")\n",
    "\n",
    "\n",
    "# disease_test= np.array([data for data, label in zip(reduced_data_train, labels) if label == \"Disease_Syndrome\"])\n",
    "\n",
    "plt.scatter(reduced_data_test[:, 0], reduced_data_test[:, 1], s=2, c = colours)\n",
    "\n",
    "# Plot the centroids as a white X\n",
    "centroids = pca.transform(kmeans.cluster_centers_)\n",
    "plt.scatter(centroids[:, 0], centroids[:, 1], marker=\"x\", s=169, linewidths=3,\n",
    "            color=\"r\", zorder=10)\n",
    "plt.xlim(x_min, x_max)\n",
    "plt.ylim(y_min, y_max)\n",
    "plt.xticks(())\n",
    "plt.yticks(())\n",
    "plt.show()"
   ]
  },
  {
   "cell_type": "markdown",
   "metadata": {},
   "source": [
    "Get list of positive SemEHR labels with max distance from diease syndrome centroid"
   ]
  },
  {
   "cell_type": "code",
   "execution_count": 158,
   "metadata": {},
   "outputs": [
    {
     "data": {
      "text/html": [
       "<div>\n",
       "<style scoped>\n",
       "    .dataframe tbody tr th:only-of-type {\n",
       "        vertical-align: middle;\n",
       "    }\n",
       "\n",
       "    .dataframe tbody tr th {\n",
       "        vertical-align: top;\n",
       "    }\n",
       "\n",
       "    .dataframe thead th {\n",
       "        text-align: right;\n",
       "    }\n",
       "</style>\n",
       "<table border=\"1\" class=\"dataframe\">\n",
       "  <thead>\n",
       "    <tr style=\"text-align: right;\">\n",
       "      <th></th>\n",
       "      <th>anno</th>\n",
       "      <th>distance</th>\n",
       "    </tr>\n",
       "  </thead>\n",
       "  <tbody>\n",
       "    <tr>\n",
       "      <th>301</th>\n",
       "      <td>cross</td>\n",
       "      <td>40.922421</td>\n",
       "    </tr>\n",
       "    <tr>\n",
       "      <th>24</th>\n",
       "      <td>ludwig</td>\n",
       "      <td>39.485924</td>\n",
       "    </tr>\n",
       "    <tr>\n",
       "      <th>128</th>\n",
       "      <td>cad</td>\n",
       "      <td>39.475945</td>\n",
       "    </tr>\n",
       "    <tr>\n",
       "      <th>91</th>\n",
       "      <td>barlow</td>\n",
       "      <td>39.379154</td>\n",
       "    </tr>\n",
       "    <tr>\n",
       "      <th>21</th>\n",
       "      <td>roth</td>\n",
       "      <td>38.801650</td>\n",
       "    </tr>\n",
       "    <tr>\n",
       "      <th>20</th>\n",
       "      <td>roth</td>\n",
       "      <td>38.550009</td>\n",
       "    </tr>\n",
       "    <tr>\n",
       "      <th>302</th>\n",
       "      <td>cross</td>\n",
       "      <td>38.229595</td>\n",
       "    </tr>\n",
       "    <tr>\n",
       "      <th>298</th>\n",
       "      <td>tia</td>\n",
       "      <td>37.670741</td>\n",
       "    </tr>\n",
       "    <tr>\n",
       "      <th>242</th>\n",
       "      <td>cortex</td>\n",
       "      <td>37.276733</td>\n",
       "    </tr>\n",
       "    <tr>\n",
       "      <th>65</th>\n",
       "      <td>catch</td>\n",
       "      <td>37.090974</td>\n",
       "    </tr>\n",
       "  </tbody>\n",
       "</table>\n",
       "</div>"
      ],
      "text/plain": [
       "       anno   distance\n",
       "301   cross  40.922421\n",
       "24   ludwig  39.485924\n",
       "128     cad  39.475945\n",
       "91   barlow  39.379154\n",
       "21     roth  38.801650\n",
       "20     roth  38.550009\n",
       "302   cross  38.229595\n",
       "298     tia  37.670741\n",
       "242  cortex  37.276733\n",
       "65    catch  37.090974"
      ]
     },
     "execution_count": 158,
     "metadata": {},
     "output_type": "execute_result"
    }
   ],
   "source": [
    "false_positives = {\"anno\":[], \"distance\":[]}\n",
    "for idx, (label, pred) in enumerate(zip(gt, k_pred_test)):\n",
    "    if label == 1 and pred == 0:\n",
    "        false_positives[\"anno\"].append(datasets[\"test\"][idx][\"anno\"])\n",
    "        false_positives[\"distance\"].append(k_trans[idx][1])\n",
    "        \n",
    "false_positives_df = pd.DataFrame.from_dict(false_positives)\n",
    "false_positives_df.sort_values('distance', ascending=False).head(10)"
   ]
  },
  {
   "cell_type": "markdown",
   "metadata": {},
   "source": [
    "## Supervised Training\n",
    "LR hyperparamter search"
   ]
  },
  {
   "cell_type": "code",
   "execution_count": 25,
   "metadata": {
    "scrolled": true
   },
   "outputs": [
    {
     "name": "stderr",
     "output_type": "stream",
     "text": [
      "Some weights of the model checkpoint at bert-base-uncased were not used when initializing BertForTokenClassification: ['cls.seq_relationship.bias', 'cls.predictions.transform.LayerNorm.bias', 'cls.predictions.bias', 'cls.predictions.transform.LayerNorm.weight', 'cls.predictions.transform.dense.weight', 'cls.seq_relationship.weight', 'cls.predictions.transform.dense.bias', 'cls.predictions.decoder.weight']\n",
      "- This IS expected if you are initializing BertForTokenClassification from the checkpoint of a model trained on another task or with another architecture (e.g. initializing a BertForSequenceClassification model from a BertForPreTraining model).\n",
      "- This IS NOT expected if you are initializing BertForTokenClassification from the checkpoint of a model that you expect to be exactly identical (initializing a BertForSequenceClassification model from a BertForSequenceClassification model).\n",
      "Some weights of BertForTokenClassification were not initialized from the model checkpoint at bert-base-uncased and are newly initialized: ['classifier.bias', 'classifier.weight']\n",
      "You should probably TRAIN this model on a down-stream task to be able to use it for predictions and inference.\n",
      "Epoch 2, Phase val: 100%|█| 4710/4710 [15:12<00:00,  5.\n",
      "Some weights of the model checkpoint at bert-base-uncased were not used when initializing BertForTokenClassification: ['cls.seq_relationship.bias', 'cls.predictions.transform.LayerNorm.bias', 'cls.predictions.bias', 'cls.predictions.transform.LayerNorm.weight', 'cls.predictions.transform.dense.weight', 'cls.seq_relationship.weight', 'cls.predictions.transform.dense.bias', 'cls.predictions.decoder.weight']\n",
      "- This IS expected if you are initializing BertForTokenClassification from the checkpoint of a model trained on another task or with another architecture (e.g. initializing a BertForSequenceClassification model from a BertForPreTraining model).\n",
      "- This IS NOT expected if you are initializing BertForTokenClassification from the checkpoint of a model that you expect to be exactly identical (initializing a BertForSequenceClassification model from a BertForSequenceClassification model).\n",
      "Some weights of BertForTokenClassification were not initialized from the model checkpoint at bert-base-uncased and are newly initialized: ['classifier.bias', 'classifier.weight']\n",
      "You should probably TRAIN this model on a down-stream task to be able to use it for predictions and inference.\n",
      "Epoch 2, Phase val: 100%|█| 4710/4710 [15:20<00:00,  5.\n",
      "Some weights of the model checkpoint at bert-base-uncased were not used when initializing BertForTokenClassification: ['cls.seq_relationship.bias', 'cls.predictions.transform.LayerNorm.bias', 'cls.predictions.bias', 'cls.predictions.transform.LayerNorm.weight', 'cls.predictions.transform.dense.weight', 'cls.seq_relationship.weight', 'cls.predictions.transform.dense.bias', 'cls.predictions.decoder.weight']\n",
      "- This IS expected if you are initializing BertForTokenClassification from the checkpoint of a model trained on another task or with another architecture (e.g. initializing a BertForSequenceClassification model from a BertForPreTraining model).\n",
      "- This IS NOT expected if you are initializing BertForTokenClassification from the checkpoint of a model that you expect to be exactly identical (initializing a BertForSequenceClassification model from a BertForSequenceClassification model).\n",
      "Some weights of BertForTokenClassification were not initialized from the model checkpoint at bert-base-uncased and are newly initialized: ['classifier.bias', 'classifier.weight']\n",
      "You should probably TRAIN this model on a down-stream task to be able to use it for predictions and inference.\n",
      "Epoch 2, Phase val: 100%|█| 4710/4710 [15:20<00:00,  5.\n",
      "Some weights of the model checkpoint at bert-base-uncased were not used when initializing BertForTokenClassification: ['cls.seq_relationship.bias', 'cls.predictions.transform.LayerNorm.bias', 'cls.predictions.bias', 'cls.predictions.transform.LayerNorm.weight', 'cls.predictions.transform.dense.weight', 'cls.seq_relationship.weight', 'cls.predictions.transform.dense.bias', 'cls.predictions.decoder.weight']\n",
      "- This IS expected if you are initializing BertForTokenClassification from the checkpoint of a model trained on another task or with another architecture (e.g. initializing a BertForSequenceClassification model from a BertForPreTraining model).\n",
      "- This IS NOT expected if you are initializing BertForTokenClassification from the checkpoint of a model that you expect to be exactly identical (initializing a BertForSequenceClassification model from a BertForSequenceClassification model).\n",
      "Some weights of BertForTokenClassification were not initialized from the model checkpoint at bert-base-uncased and are newly initialized: ['classifier.bias', 'classifier.weight']\n",
      "You should probably TRAIN this model on a down-stream task to be able to use it for predictions and inference.\n",
      "Epoch 2, Phase val: 100%|█| 4710/4710 [15:25<00:00,  5.\n"
     ]
    }
   ],
   "source": [
    "from transformers import AdamW, BertForTokenClassification\n",
    "hyperparam_losses = {}\n",
    "for lr in range(2, 6):\n",
    "    device = torch.device('cuda') if torch.cuda.is_available() else torch.device('cpu')\n",
    "    model = BertForTokenClassification.from_pretrained('bert-base-uncased')\n",
    "    model.to(device)\n",
    "    # initialize optimizer\n",
    "    optim = AdamW(model.parameters(), lr=lr*10**-5)\n",
    "    model, loss_log = train_model(model, dataloaders, optim, \"ner_labels\", device)\n",
    "    hyperparam_losses[lr] = loss_log\n",
    "    model_file = os.path.join(f\"models_supervised_lr_{lr}\")\n",
    "    model.save_pretrained(model_file)"
   ]
  },
  {
   "cell_type": "markdown",
   "metadata": {},
   "source": [
    "Plot losses"
   ]
  },
  {
   "cell_type": "code",
   "execution_count": 64,
   "metadata": {},
   "outputs": [
    {
     "data": {
      "text/plain": [
       "<matplotlib.legend.Legend at 0x23f9eea8e80>"
      ]
     },
     "execution_count": 64,
     "metadata": {},
     "output_type": "execute_result"
    },
    {
     "data": {
      "image/png": "[encoded data removed]",
      "text/plain": [
       "<Figure size 432x288 with 2 Axes>"
      ]
     },
     "metadata": {
      "needs_background": "light"
     },
     "output_type": "display_data"
    }
   ],
   "source": [
    "import matplotlib.pyplot as plt\n",
    "\n",
    "fig, axs = plt.subplots(1, 2)\n",
    "for lr, losses in hyperparam_losses.items():\n",
    "    axs[0].plot(losses[\"train\"], label=f\"lr={lr}e-5\")\n",
    "    axs[1].plot(losses[\"val\"], label=f\"lr={lr}e-5\")\n",
    "\n",
    "axs[0].legend()\n",
    "axs[1].legend()"
   ]
  },
  {
   "cell_type": "markdown",
   "metadata": {},
   "source": [
    "Load best model"
   ]
  },
  {
   "cell_type": "code",
   "execution_count": 100,
   "metadata": {},
   "outputs": [],
   "source": [
    "from transformers import BertForTokenClassification\n",
    "device = torch.device('cuda') if torch.cuda.is_available() else torch.device('cpu')\n",
    "model = BertForTokenClassification.from_pretrained(\"models_supervised_lr_3\").to(device)"
   ]
  },
  {
   "cell_type": "markdown",
   "metadata": {},
   "source": [
    "Make predicitions"
   ]
  },
  {
   "cell_type": "code",
   "execution_count": 108,
   "metadata": {},
   "outputs": [],
   "source": [
    "torch.set_grad_enabled(False)\n",
    "# prob_log = torch.zeros(dataloader[\"test\"]) \n",
    "pred_log = torch.zeros(len(dataloaders[\"test\"].dataset)) \n",
    "prob_log = torch.zeros(len(dataloaders[\"test\"].dataset))\n",
    "batch_idx = 0\n",
    "\n",
    "for batch in dataloaders[\"test\"]:\n",
    "    input_ids = batch[\"input_ids\"].to(device)\n",
    "    attention_mask = batch[\"attention_mask\"].to(device)\n",
    "    with torch.set_grad_enabled(False):\n",
    "        outputs = model(input_ids, attention_mask=attention_mask)\n",
    "        probs = torch.nn.Softmax(2)(outputs.logits)\n",
    "    for idx, prob in enumerate(probs):\n",
    "        toi_start = toi_idxs[0][idx]\n",
    "        toi_end = toi_idxs[1][idx]\n",
    "        prob_oi = prob[toi_start:toi_end]\n",
    "        mean_prob_oi = torch.mean(prob_oi, dim=0)\n",
    "        prob_log[batch_idx+idx] = mean_prob_oi[1].item()\n",
    "        _, pred_log[batch_idx+idx] = torch.max(mean_prob_oi, dim=0)\n",
    "    batch_idx += len(input_ids)"
   ]
  },
  {
   "cell_type": "markdown",
   "metadata": {},
   "source": [
    "Output metrics"
   ]
  },
  {
   "cell_type": "code",
   "execution_count": 109,
   "metadata": {},
   "outputs": [
    {
     "name": "stdout",
     "output_type": "stream",
     "text": [
      "1692\n",
      "              precision    recall  f1-score   support\n",
      "\n",
      "           0       0.76      0.54      0.63      1407\n",
      "           1       0.69      0.86      0.77      1692\n",
      "\n",
      "    accuracy                           0.72      3099\n",
      "   macro avg       0.73      0.70      0.70      3099\n",
      "weighted avg       0.72      0.72      0.71      3099\n",
      "\n",
      "[[ 766  641]\n",
      " [ 241 1451]]\n"
     ]
    },
    {
     "data": {
      "text/plain": [
       "Text(0.5, 15.0, 'SemEHR Label')"
      ]
     },
     "execution_count": 109,
     "metadata": {},
     "output_type": "execute_result"
    },
    {
     "data": {
      "image/png": "[encoded data removed]",
      "text/plain": [
       "<Figure size 432x288 with 2 Axes>"
      ]
     },
     "metadata": {
      "needs_background": "light"
     },
     "output_type": "display_data"
    }
   ],
   "source": [
    "import seaborn as sns\n",
    "from sklearn.metrics import accuracy_score, plot_confusion_matrix, confusion_matrix, classification_report\n",
    "gt = np.array([label_to_int(label) for label in inputs_test[\"labels\"]])\n",
    "print(sum(gt))\n",
    "print(classification_report(gt, pred_log))\n",
    "cm = confusion_matrix(gt, pred_log)\n",
    "print(cm)\n",
    "sns.heatmap(cm, annot=True, fmt='g')\n",
    "plt.ylabel(\"Unsupervised Prediction\")\n",
    "plt.xlabel(\"SemEHR Label\")"
   ]
  },
  {
   "cell_type": "code",
   "execution_count": 120,
   "metadata": {},
   "outputs": [
    {
     "data": {
      "text/html": [
       "<div>\n",
       "<style scoped>\n",
       "    .dataframe tbody tr th:only-of-type {\n",
       "        vertical-align: middle;\n",
       "    }\n",
       "\n",
       "    .dataframe tbody tr th {\n",
       "        vertical-align: top;\n",
       "    }\n",
       "\n",
       "    .dataframe thead th {\n",
       "        text-align: right;\n",
       "    }\n",
       "</style>\n",
       "<table border=\"1\" class=\"dataframe\">\n",
       "  <thead>\n",
       "    <tr style=\"text-align: right;\">\n",
       "      <th></th>\n",
       "      <th>anno</th>\n",
       "      <th>distance</th>\n",
       "    </tr>\n",
       "  </thead>\n",
       "  <tbody>\n",
       "    <tr>\n",
       "      <th>135</th>\n",
       "      <td>cyanosis</td>\n",
       "      <td>tensor(0.9962)</td>\n",
       "    </tr>\n",
       "    <tr>\n",
       "      <th>44</th>\n",
       "      <td>meningismus</td>\n",
       "      <td>tensor(0.9943)</td>\n",
       "    </tr>\n",
       "    <tr>\n",
       "      <th>121</th>\n",
       "      <td>edema</td>\n",
       "      <td>tensor(0.9939)</td>\n",
       "    </tr>\n",
       "    <tr>\n",
       "      <th>178</th>\n",
       "      <td>dysesthesia</td>\n",
       "      <td>tensor(0.9930)</td>\n",
       "    </tr>\n",
       "    <tr>\n",
       "      <th>41</th>\n",
       "      <td>bile leak</td>\n",
       "      <td>tensor(0.9910)</td>\n",
       "    </tr>\n",
       "    <tr>\n",
       "      <th>15</th>\n",
       "      <td>dysuria</td>\n",
       "      <td>tensor(0.9909)</td>\n",
       "    </tr>\n",
       "    <tr>\n",
       "      <th>217</th>\n",
       "      <td>numbness</td>\n",
       "      <td>tensor(0.9902)</td>\n",
       "    </tr>\n",
       "    <tr>\n",
       "      <th>148</th>\n",
       "      <td>degenerative changes</td>\n",
       "      <td>tensor(0.9894)</td>\n",
       "    </tr>\n",
       "    <tr>\n",
       "      <th>103</th>\n",
       "      <td>dry</td>\n",
       "      <td>tensor(0.9894)</td>\n",
       "    </tr>\n",
       "    <tr>\n",
       "      <th>139</th>\n",
       "      <td>lichenification</td>\n",
       "      <td>tensor(0.9892)</td>\n",
       "    </tr>\n",
       "  </tbody>\n",
       "</table>\n",
       "</div>"
      ],
      "text/plain": [
       "                     anno        distance\n",
       "135              cyanosis  tensor(0.9962)\n",
       "44            meningismus  tensor(0.9943)\n",
       "121                 edema  tensor(0.9939)\n",
       "178           dysesthesia  tensor(0.9930)\n",
       "41              bile leak  tensor(0.9910)\n",
       "15                dysuria  tensor(0.9909)\n",
       "217              numbness  tensor(0.9902)\n",
       "148  degenerative changes  tensor(0.9894)\n",
       "103                   dry  tensor(0.9894)\n",
       "139       lichenification  tensor(0.9892)"
      ]
     },
     "execution_count": 120,
     "metadata": {},
     "output_type": "execute_result"
    }
   ],
   "source": [
    "false_positives = {\"anno\":[], \"distance\":[]}\n",
    "for idx, (label, pred) in enumerate(zip(gt, pred_log)):\n",
    "    if label == 1 and pred == 0:\n",
    "        false_positives[\"anno\"].append(datasets[\"test\"][idx][\"anno\"])\n",
    "        false_positives[\"distance\"].append(1-prob_log[idx])\n",
    "        \n",
    "false_positives_df = pd.DataFrame.from_dict(false_positives)\n",
    "false_positives_df.sort_values('distance', ascending=False).head(10)"
   ]
  },
  {
   "cell_type": "code",
   "execution_count": null,
   "metadata": {},
   "outputs": [],
   "source": []
  }
 ],
 "metadata": {
  "kernelspec": {
   "display_name": "NLP",
   "language": "python",
   "name": "nlp"
  },
  "language_info": {
   "codemirror_mode": {
    "name": "ipython",
    "version": 3
   },
   "file_extension": ".py",
   "mimetype": "text/x-python",
   "name": "python",
   "nbconvert_exporter": "python",
   "pygments_lexer": "ipython3",
   "version": "3.9.2"
  }
 },
 "nbformat": 4,
 "nbformat_minor": 2
}
