{
 "cells": [
  {
   "cell_type": "markdown",
   "metadata": {},
   "source": [
    "Split plaintext files into test train and validation"
   ]
  },
  {
   "cell_type": "code",
   "execution_count": 1,
   "metadata": {
    "tags": []
   },
   "outputs": [
    {
     "name": "stdout",
     "output_type": "stream",
     "text": [
      "346 49 98\n"
     ]
    }
   ],
   "source": [
    "import os\n",
    "import random\n",
    "\n",
    "random.seed(13)\n",
    "plaintext_directory = os.path.join(\"amlh_nlp_dataset\", \"amlh_nlp_dataset\", \"plaintext_data\")\n",
    "plaintext_fnames = [fname for fname in os.listdir(plaintext_directory) if fname.endswith(\".txt\")]\n",
    "\n",
    "random.shuffle(plaintext_fnames)\n",
    "val_index = int(0.1*len(plaintext_fnames))\n",
    "test_index = val_index + int(0.2*len(plaintext_fnames))\n",
    "fnames_val = plaintext_fnames[:val_index]\n",
    "fnames_test = plaintext_fnames[val_index:test_index]\n",
    "fnames_train = plaintext_fnames[test_index:]\n",
    "print(len(fnames_train), len(fnames_val), len(fnames_test))"
   ]
  },
  {
   "cell_type": "code",
   "execution_count": 2,
   "metadata": {},
   "outputs": [],
   "source": [
    "def preprocess_text(text):\n",
    "    text = text.replace(\"\\n \", \"\\n\").replace(\"\\n\\n\", \" \").replace(\":\", \" \").replace(\"  \", \" \").lower()\n",
    "    return text\n",
    "\n",
    "def extract_centred_string(text, center_idx, length):\n",
    "    lower_bound = max(0, center_idx - int(length/2))\n",
    "    upper_bound = min(len(text), center_idx + int(length/2))\n",
    "    center_idx = int(length/2) if lower_bound > 0 else center_idx\n",
    "    return text[lower_bound:upper_bound], center_idx\n",
    "\n",
    "def read_in_and_preprocess_plaintext(plaintext_directory, fnames, window_size, n_samples=10):\n",
    "    text = []\n",
    "    for fname in fnames:\n",
    "        filepath = os.path.join(plaintext_directory, fname)\n",
    "        with open(filepath, 'r', encoding=\"utf8\") as plaintext_file:\n",
    "            # Read in file and strip extraneous whitespace\n",
    "            plaintext = plaintext_file.read()\n",
    "            plaintext = preprocess_text(plaintext)\n",
    "            for _ in range(n_samples):\n",
    "                central_idx = random.randint(0, len(plaintext))\n",
    "                extract, _ = extract_centred_string(plaintext, central_idx, window_size)\n",
    "                text = text + [extract]\n",
    "                \n",
    "    return text\n"
   ]
  },
  {
   "cell_type": "code",
   "execution_count": 3,
   "metadata": {
    "tags": []
   },
   "outputs": [
    {
     "name": "stdout",
     "output_type": "stream",
     "text": [
      "3460 490 980\n",
      "harp dissection was carried down in the subcutaneous tissues and bovie electrocautery was used to reach the skull. a burr hole was placed down low using a craniotome. a craniotomy was turned and then enlarged as a craniectomy to at least 4 cm in diameter. \n"
     ]
    }
   ],
   "source": [
    "window_size = 256\n",
    "text_train = read_in_and_preprocess_plaintext(plaintext_directory, fnames_train, window_size)\n",
    "text_val = read_in_and_preprocess_plaintext(plaintext_directory, fnames_val, window_size)\n",
    "text_test = read_in_and_preprocess_plaintext(plaintext_directory, fnames_test, window_size)\n",
    "\n",
    "print(len(text_train), len(text_val), len(text_test))\n",
    "print(text_train[0])"
   ]
  },
  {
   "cell_type": "markdown",
   "metadata": {},
   "source": [
    "Tokenise use Bert-Tokeniser"
   ]
  },
  {
   "cell_type": "code",
   "execution_count": 4,
   "metadata": {
    "tags": []
   },
   "outputs": [
    {
     "name": "stdout",
     "output_type": "stream",
     "text": [
      "torch.Size([3460, 128]) torch.Size([490, 128]) torch.Size([980, 128])\n",
      "tensor([  101, 14601,  4487, 11393,  7542,  2001,  3344,  2091,  1999,  1996,\n",
      "         4942, 12690, 17191, 14095,  1998,  8945, 13469, 16175,  3540, 19901,\n",
      "         2100,  2001,  2109,  2000,  3362,  1996,  7412,  1012,  1037, 22715,\n",
      "         4920,  2001,  2872,  2091,  2659,  2478,  1037, 13675,  7088, 11439,\n",
      "         4168,  1012,  1037, 13675,  7088, 11439,  8029,  2001,  2357,  1998,\n",
      "         2059, 11792,  2004,  1037, 13675,  7088, 22471, 16940,  2000,  2012,\n",
      "         2560,  1018,  4642,  1999,  6705,  1012,   102,     0,     0,     0,\n",
      "            0,     0,     0,     0,     0,     0,     0,     0,     0,     0,\n",
      "            0,     0,     0,     0,     0,     0,     0,     0,     0,     0,\n",
      "            0,     0,     0,     0,     0,     0,     0,     0,     0,     0,\n",
      "            0,     0,     0,     0,     0,     0,     0,     0,     0,     0,\n",
      "            0,     0,     0,     0,     0,     0,     0,     0,     0,     0,\n",
      "            0,     0,     0,     0,     0,     0,     0,     0])\n"
     ]
    }
   ],
   "source": [
    "from transformers import BertTokenizerFast, BertForMaskedLM\n",
    "import torch\n",
    "max_token_length = 128\n",
    "tokenizer = BertTokenizerFast.from_pretrained('bert-base-uncased')\n",
    "inputs_train = tokenizer(text_train, return_tensors='pt', padding='max_length', max_length=max_token_length)\n",
    "inputs_val = tokenizer(text_val, return_tensors='pt', padding='max_length', max_length=max_token_length)\n",
    "inputs_test = tokenizer(text_test, return_tensors='pt', padding='max_length', max_length=max_token_length)\n",
    "\n",
    "print(inputs_train.input_ids.size(), inputs_val.input_ids.size(), inputs_test.input_ids.size())\n",
    "print(inputs_train.input_ids[0])"
   ]
  },
  {
   "cell_type": "markdown",
   "metadata": {},
   "source": [
    "Create masked labels"
   ]
  },
  {
   "cell_type": "code",
   "execution_count": 5,
   "metadata": {},
   "outputs": [],
   "source": [
    "def add_masked_labels_to_inputs(inputs):\n",
    "    inputs['labels'] = inputs.input_ids.detach().clone()\n",
    "    # create random array of floats with equal dimensions to input_ids tensor\n",
    "    rand = torch.rand(inputs.input_ids.shape)\n",
    "    # create mask array excluding masking special tokens\n",
    "    mask_arr = (rand < 0.15) * (inputs.input_ids != 101) * \\\n",
    "            (inputs.input_ids != 102) * (inputs.input_ids != 0)\n",
    "    # Extract indicies to be masked\n",
    "    selection = []\n",
    "    for i in range(inputs.input_ids.shape[0]):\n",
    "        selection.append(\n",
    "            torch.flatten(mask_arr[i].nonzero()).tolist()\n",
    "        )\n",
    "    # Mask them\n",
    "    for i in range(inputs.input_ids.shape[0]):\n",
    "        inputs.input_ids[i, selection[i]] = 103\n",
    "    return inputs"
   ]
  },
  {
   "cell_type": "code",
   "execution_count": 6,
   "metadata": {},
   "outputs": [],
   "source": [
    "inputs_train = add_masked_labels_to_inputs(inputs_train)\n",
    "inputs_val = add_masked_labels_to_inputs(inputs_val)\n",
    "inputs_val = add_masked_labels_to_inputs(inputs_test)"
   ]
  },
  {
   "cell_type": "code",
   "execution_count": 7,
   "metadata": {},
   "outputs": [
    {
     "name": "stdout",
     "output_type": "stream",
     "text": [
      "torch.Size([3460, 128]) torch.Size([980, 128]) torch.Size([980, 128])\n",
      "tensor([  101, 14601,  4487, 11393,  7542,  2001,  3344,  2091,  1999,  1996,\n",
      "         4942, 12690, 17191, 14095,  1998,  8945, 13469, 16175,  3540, 19901,\n",
      "         2100,  2001,  2109,  2000,  3362,  1996,  7412,  1012,  1037, 22715,\n",
      "         4920,  2001,  2872,  2091,  2659,  2478,  1037, 13675,  7088, 11439,\n",
      "         4168,  1012,  1037, 13675,  7088, 11439,  8029,  2001,  2357,  1998,\n",
      "         2059, 11792,  2004,  1037, 13675,  7088, 22471, 16940,  2000,  2012,\n",
      "         2560,  1018,  4642,  1999,  6705,  1012,   102,     0,     0,     0,\n",
      "            0,     0,     0,     0,     0,     0,     0,     0,     0,     0,\n",
      "            0,     0,     0,     0,     0,     0,     0,     0,     0,     0,\n",
      "            0,     0,     0,     0,     0,     0,     0,     0,     0,     0,\n",
      "            0,     0,     0,     0,     0,     0,     0,     0,     0,     0,\n",
      "            0,     0,     0,     0,     0,     0,     0,     0,     0,     0,\n",
      "            0,     0,     0,     0,     0,     0,     0,     0])\n"
     ]
    }
   ],
   "source": [
    "print(inputs_train.labels.size(), inputs_val.labels.size(), inputs_test.labels.size())\n",
    "print(inputs_train.labels[0])"
   ]
  },
  {
   "cell_type": "markdown",
   "metadata": {},
   "source": [
    "Load into datasets and dataloaders"
   ]
  },
  {
   "cell_type": "code",
   "execution_count": 8,
   "metadata": {},
   "outputs": [],
   "source": [
    "class MTSamplesDataset(torch.utils.data.Dataset):\n",
    "    def __init__(self, encodings):\n",
    "        self.encodings = encodings\n",
    "    def __getitem__(self, idx):\n",
    "        return self.encodings.input_ids[idx], self.encodings.attention_mask[idx], self.encodings.labels[idx]\n",
    "    def __len__(self):\n",
    "        return len(self.encodings.input_ids)"
   ]
  },
  {
   "cell_type": "code",
   "execution_count": 9,
   "metadata": {},
   "outputs": [
    {
     "name": "stdout",
     "output_type": "stream",
     "text": [
      "[3460, 980, 980]\n",
      "[433, 123, 123]\n"
     ]
    }
   ],
   "source": [
    "datasets = {\"train\": MTSamplesDataset(inputs_train), \"val\": MTSamplesDataset(inputs_val), \"test\": MTSamplesDataset(inputs_test)}\n",
    "dataloaders = {key: torch.utils.data.DataLoader(dataset, batch_size=8) for key, dataset in datasets.items()}\n",
    "dataloaders[\"train\"].shuffle = True\n",
    "\n",
    "print([len(dataset) for dataset in datasets.values()])\n",
    "print([len(dataloader) for dataloader in dataloaders.values()])"
   ]
  },
  {
   "cell_type": "markdown",
   "metadata": {},
   "source": [
    "Load model and optimiser"
   ]
  },
  {
   "cell_type": "code",
   "execution_count": 10,
   "metadata": {},
   "outputs": [
    {
     "name": "stderr",
     "output_type": "stream",
     "text": [
      "Some weights of the model checkpoint at bert-base-uncased were not used when initializing BertForMaskedLM: ['cls.seq_relationship.bias', 'cls.seq_relationship.weight']\n",
      "- This IS expected if you are initializing BertForMaskedLM from the checkpoint of a model trained on another task or with another architecture (e.g. initializing a BertForSequenceClassification model from a BertForPreTraining model).\n",
      "- This IS NOT expected if you are initializing BertForMaskedLM from the checkpoint of a model that you expect to be exactly identical (initializing a BertForSequenceClassification model from a BertForSequenceClassification model).\n"
     ]
    },
    {
     "name": "stdout",
     "output_type": "stream",
     "text": [
      "\n"
     ]
    }
   ],
   "source": [
    "device = torch.device('cuda') if torch.cuda.is_available() else torch.device('cpu')\n",
    "model = BertForMaskedLM.from_pretrained('bert-base-uncased')\n",
    "model.to(device)\n",
    "model.train()\n",
    "print()"
   ]
  },
  {
   "cell_type": "code",
   "execution_count": 11,
   "metadata": {},
   "outputs": [],
   "source": [
    "from transformers import AdamW\n",
    "# initialize optimizer\n",
    "optim = AdamW(model.parameters(), lr=5e-5)"
   ]
  },
  {
   "cell_type": "markdown",
   "metadata": {
    "tags": []
   },
   "source": [
    "Run training"
   ]
  },
  {
   "cell_type": "code",
   "execution_count": 12,
   "metadata": {},
   "outputs": [
    {
     "name": "stderr",
     "output_type": "stream",
     "text": [
      "Step number 99: 100%|████████████████████████████████████████████████████| 100/100 [00:21<00:00,  4.58it/s, loss=0.031]\n"
     ]
    }
   ],
   "source": [
    "from tqdm import tqdm  # for our progress bar\n",
    "\n",
    "num_steps = 100\n",
    "loss_log = {\"train\":[], \"val\":[]}\n",
    "optim.zero_grad()\n",
    "with tqdm(total=num_steps) as pbar:\n",
    "    for step in range(num_steps):\n",
    "        # setup loop with TQDM and dataloader\n",
    "        # loop = tqdm(num_steps, leave=True)\n",
    "        for phase in [\"train\", \"val\"]:\n",
    "            model = model.train() if phase == 'train' else model.eval()\n",
    "            input_ids, attention_mask, labels = next(iter(dataloaders[phase]))\n",
    "            input_ids = input_ids.to(device)\n",
    "            attention_mask = attention_mask.to(device)\n",
    "            labels = labels.to(device)\n",
    "            with torch.set_grad_enabled(phase == 'train'):\n",
    "                outputs = model(input_ids, attention_mask=attention_mask,\n",
    "                            labels=labels)\n",
    "                loss = outputs.loss\n",
    "                if phase == 'train':\n",
    "                    loss.backward()\n",
    "                    optim.step()\n",
    "                    optim.zero_grad()\n",
    "            loss_log[phase].append(loss.item()/len(input_ids))\n",
    "        # Print relevant info to progress bar\n",
    "        pbar.update(1)\n",
    "        pbar.set_description(f'Step number {step}')\n",
    "        pbar.set_postfix(loss=loss_log[\"val\"][-1])"
   ]
  },
  {
   "cell_type": "code",
   "execution_count": 13,
   "metadata": {},
   "outputs": [],
   "source": [
    "model_file = os.path.join(\"models\", 'Bert_Finetuned_MTSamples.pt')\n",
    "torch.save(model.state_dict(), model_file)"
   ]
  },
  {
   "cell_type": "code",
   "execution_count": 14,
   "metadata": {},
   "outputs": [
    {
     "data": {
      "text/plain": [
       "Text(0.5, 0, 'Num Steps')"
      ]
     },
     "execution_count": 14,
     "metadata": {},
     "output_type": "execute_result"
    },
    {
     "data": {
      "image/png": "[encoded data removed]",
      "text/plain": [
       "<Figure size 432x288 with 1 Axes>"
      ]
     },
     "metadata": {
      "needs_background": "light"
     },
     "output_type": "display_data"
    }
   ],
   "source": [
    "import matplotlib.pyplot as plt\n",
    "for phase, loss in loss_log.items():\n",
    "    plt.plot(loss[:100], label=phase)\n",
    "plt.legend()\n",
    "plt.ylabel(\"Loss\")\n",
    "plt.xlabel(\"Num Steps\")"
   ]
  },
  {
   "cell_type": "code",
   "execution_count": 15,
   "metadata": {
    "tags": []
   },
   "outputs": [],
   "source": [
    "def extract_text_from_annotations(annotations, plaintext_directory, window_size): \n",
    "    extracts = {\"text\": [], \"idxs\":[], \"labels\":[], \"anno\":[]}\n",
    "    for _, anno in annotations.iterrows():\n",
    "        anno_filepath = os.path.join(plaintext_directory, anno.file)\n",
    "        anno_start = anno.start\n",
    "        anno_length = anno.end - anno.start\n",
    "        with open(anno_filepath, 'r', encoding=\"utf8\") as plaintext_file:\n",
    "            plaintext = plaintext_file.read()\n",
    "            preprocessed_start = preprocess_text(plaintext[:anno_start])\n",
    "            preprocessed_end = preprocess_text(plaintext[anno_start:])\n",
    "            offset = len(plaintext[:anno_start]) - len(preprocessed_start)\n",
    "            \n",
    "            anno_start_pre = anno_start - offset\n",
    "            plaintext = preprocessed_start + preprocessed_end\n",
    "            extract, start_idx = extract_centred_string(plaintext, anno_start_pre, window_size)\n",
    "            extracts[\"text\"] += [extract]\n",
    "            extracts[\"idxs\"] += [[start_idx, start_idx+anno_length]]\n",
    "            extracts[\"labels\"] += [anno[\"class\"]]\n",
    "            extracts[\"anno\"] += [extract[start_idx: start_idx+anno_length]]\n",
    "    return extracts"
   ]
  },
  {
   "cell_type": "code",
   "execution_count": 16,
   "metadata": {},
   "outputs": [
    {
     "name": "stdout",
     "output_type": "stream",
     "text": [
      "[12694, 12694, 12694, 12694]\n",
      "[2962, 2962, 2962, 2962]\n"
     ]
    }
   ],
   "source": [
    "import pandas as pd\n",
    "\n",
    "annotations = pd.read_csv(os.path.join(\"amlh_nlp_dataset\", \"amlh_nlp_dataset\",\"amlh_coursework_annotated.csv\"))\n",
    "annotations_train = annotations[annotations.file.isin(fnames_train+fnames_val)]\n",
    "annotations_test = annotations[annotations.file.isin(fnames_test)]\n",
    "\n",
    "extracts_train = extract_text_from_annotations(annotations_train, plaintext_directory, window_size)\n",
    "extracts_test = extract_text_from_annotations(annotations_test, plaintext_directory, window_size)\n",
    "\n",
    "print([len(feature) for feature in extracts_train.values()])\n",
    "print([len(feature) for feature in extracts_test.values()])"
   ]
  },
  {
   "cell_type": "code",
   "execution_count": 17,
   "metadata": {
    "tags": []
   },
   "outputs": [
    {
     "name": "stdout",
     "output_type": "stream",
     "text": [
      "torch.Size([12694, 128]) torch.Size([2962, 128])\n"
     ]
    }
   ],
   "source": [
    "inputs_train = tokenizer(extracts_train[\"text\"], return_tensors='pt', padding='max_length', max_length=128, return_offsets_mapping=True)\n",
    "inputs_test = tokenizer(extracts_test[\"text\"], return_tensors='pt', padding='max_length', max_length=128, return_offsets_mapping=True)\n",
    "\n",
    "extracts_train = {**extracts_train, **inputs_train}\n",
    "extracts_test = {**extracts_test, **inputs_test}\n",
    "\n",
    "print(inputs_train.input_ids.size(), inputs_test.input_ids.size())"
   ]
  },
  {
   "cell_type": "code",
   "execution_count": 18,
   "metadata": {
    "tags": []
   },
   "outputs": [
    {
     "name": "stdout",
     "output_type": "stream",
     "text": [
      "[[28, 30], [28, 32], [43, 44], [26, 28], [24, 26], [37, 39], [36, 38], [7, 8], [11, 17], [20, 22]]\n",
      "12694 2962\n"
     ]
    }
   ],
   "source": [
    "import numpy as np\n",
    "\n",
    "def get_tokens_of_interest_idxs(offset_mapping_list, idxs_list, text, annos):\n",
    "    toi_idxs = []\n",
    "    for offset_mapping, idxs, text, anno in zip(offset_mapping_list, idxs_list, text, annos):\n",
    "        try:\n",
    "            token_start = np.where(offset_mapping[:, 0]==idxs[0])[0][0]\n",
    "            token_end = np.where(offset_mapping[:, 1]==idxs[1])[0][0]\n",
    "            toi_idxs.append([token_start, token_end+1])\n",
    "        except:\n",
    "            # Incorrect annoation of cannot as can\n",
    "            if text[idxs[0]:idxs[1]] == \"can\":\n",
    "                toi_idxs.append([token_start, token_start+1])\n",
    "                idxs[1] += 3\n",
    "    return toi_idxs\n",
    "extracts_train[\"toi_idxs\"] = get_tokens_of_interest_idxs(extracts_train[\"offset_mapping\"], extracts_train[\"idxs\"], extracts_train[\"text\"], extracts_train[\"anno\"])\n",
    "extracts_test[\"toi_idxs\"] = get_tokens_of_interest_idxs(extracts_test[\"offset_mapping\"], extracts_test[\"idxs\"], extracts_test[\"text\"], extracts_test[\"anno\"])\n",
    "print(extracts_train[\"toi_idxs\"][:10])\n",
    "print(len(extracts_train[\"toi_idxs\"]), len(extracts_test[\"toi_idxs\"]))"
   ]
  },
  {
   "cell_type": "code",
   "execution_count": 19,
   "metadata": {},
   "outputs": [],
   "source": [
    "class MT_NERSamplesDataset(torch.utils.data.Dataset):\n",
    "    def __init__(self, extracts):\n",
    "        self.extracts = extracts\n",
    "    def __getitem__(self, idx):\n",
    "        return {key: value[idx] for key, value in self.extracts.items()}\n",
    "    def __len__(self):\n",
    "        return len(self.extracts[\"input_ids\"])\n",
    "    def get_phrase(sample):\n",
    "        text = sample[\"text\"]\n",
    "        idxs = sample[\"idxs\"]\n",
    "        return text[idxs[0]:idxs[1]]\n",
    "    def get_decode_tokens(sample, tokenizer):\n",
    "        input_ids = sample[\"input_ids\"]\n",
    "        toi_idxs = sample[\"toi_idxs\"]\n",
    "        return tokenizer.decode(input_ids[toi_idxs[0]:toi_idxs[1]])\n",
    "    def sample_to_string(sample, tokenizer):\n",
    "        string = \"Label: \"+ sample[\"labels\"] + \",\"\n",
    "        string += \" Orginal anno: \"+ sample[\"anno\"] + \",\"\n",
    "        string += \" Indexed anno: \"+ MT_NERSamplesDataset.get_phrase(sample) + \",\"\n",
    "        string += \" Tokenised anno: \"+ MT_NERSamplesDataset.get_decode_tokens(sample, tokenizer)\n",
    "        return string"
   ]
  },
  {
   "cell_type": "code",
   "execution_count": 20,
   "metadata": {
    "tags": []
   },
   "outputs": [
    {
     "name": "stdout",
     "output_type": "stream",
     "text": [
      "[12694, 2962]\n",
      "[1587, 371]\n",
      "dict_keys(['text', 'idxs', 'labels', 'anno', 'input_ids', 'token_type_ids', 'attention_mask', 'offset_mapping', 'toi_idxs'])\n",
      "Label: Disease_Syndrome, Orginal anno: colon cancer, Indexed anno: colon cancer, Tokenised anno: colon cancer\n"
     ]
    }
   ],
   "source": [
    "datasets = {\"train\": MT_NERSamplesDataset(extracts_train), \"test\": MT_NERSamplesDataset(extracts_test)}\n",
    "dataloaders = {key: torch.utils.data.DataLoader(dataset, batch_size=8) for key, dataset in datasets.items()}\n",
    "\n",
    "print([len(dataset) for dataset in datasets.values()])\n",
    "print([len(dataloader) for dataloader in dataloaders.values()])\n",
    "sample = datasets[\"train\"][0]\n",
    "print(sample.keys())\n",
    "print(MT_NERSamplesDataset.sample_to_string(sample, tokenizer))"
   ]
  },
  {
   "cell_type": "code",
   "execution_count": 27,
   "metadata": {
    "tags": []
   },
   "outputs": [],
   "source": [
    "def get_hidden_layer_reps(model, dataloader, device, max_token_length, layer):\n",
    "    hidden_layer_reps = torch.zeros(len(dataloader.dataset), max_token_length, model.config.hidden_size)\n",
    "    idx = 0\n",
    "    for batch in dataloader:\n",
    "        input_ids = batch[\"input_ids\"].to(device)\n",
    "        attention_mask = batch[\"attention_mask\"].to(device)\n",
    "        with torch.set_grad_enabled(False):\n",
    "            outputs = model(input_ids, attention_mask=attention_mask, output_hidden_states=True)\n",
    "        batch_size = input_ids.size(0)\n",
    "        hidden_layer_reps[idx:idx+batch_size] = outputs.hidden_states[layer]\n",
    "        idx += batch_size\n",
    "    return hidden_layer_reps.cpu()\n",
    "\n",
    "def get_av_hidden_layer_rep_for_toi_layer(hidden_layer_reps, toi_idxs):\n",
    "    av_hidden_layer_rep_toi = torch.zeros(hidden_layer_reps.size(0), hidden_layer_reps.size(2))\n",
    "    for i, (hidden_layer_rep, toi_idx) in enumerate(zip(hidden_layer_reps, toi_idxs)):\n",
    "        hidden_layer_rep_oi = hidden_layer_rep[toi_idx[0]:toi_idx[1]]\n",
    "        av_hidden_layer_rep_toi[i] = hidden_layer_rep_oi.mean(dim=0)\n",
    "    return av_hidden_layer_rep_toi"
   ]
  },
  {
   "cell_type": "code",
   "execution_count": 28,
   "metadata": {},
   "outputs": [
    {
     "data": {
      "text/plain": [
       "BertForMaskedLM(\n",
       "  (bert): BertModel(\n",
       "    (embeddings): BertEmbeddings(\n",
       "      (word_embeddings): Embedding(30522, 768, padding_idx=0)\n",
       "      (position_embeddings): Embedding(512, 768)\n",
       "      (token_type_embeddings): Embedding(2, 768)\n",
       "      (LayerNorm): LayerNorm((768,), eps=1e-12, elementwise_affine=True)\n",
       "      (dropout): Dropout(p=0.1, inplace=False)\n",
       "    )\n",
       "    (encoder): BertEncoder(\n",
       "      (layer): ModuleList(\n",
       "        (0): BertLayer(\n",
       "          (attention): BertAttention(\n",
       "            (self): BertSelfAttention(\n",
       "              (query): Linear(in_features=768, out_features=768, bias=True)\n",
       "              (key): Linear(in_features=768, out_features=768, bias=True)\n",
       "              (value): Linear(in_features=768, out_features=768, bias=True)\n",
       "              (dropout): Dropout(p=0.1, inplace=False)\n",
       "            )\n",
       "            (output): BertSelfOutput(\n",
       "              (dense): Linear(in_features=768, out_features=768, bias=True)\n",
       "              (LayerNorm): LayerNorm((768,), eps=1e-12, elementwise_affine=True)\n",
       "              (dropout): Dropout(p=0.1, inplace=False)\n",
       "            )\n",
       "          )\n",
       "          (intermediate): BertIntermediate(\n",
       "            (dense): Linear(in_features=768, out_features=3072, bias=True)\n",
       "          )\n",
       "          (output): BertOutput(\n",
       "            (dense): Linear(in_features=3072, out_features=768, bias=True)\n",
       "            (LayerNorm): LayerNorm((768,), eps=1e-12, elementwise_affine=True)\n",
       "            (dropout): Dropout(p=0.1, inplace=False)\n",
       "          )\n",
       "        )\n",
       "        (1): BertLayer(\n",
       "          (attention): BertAttention(\n",
       "            (self): BertSelfAttention(\n",
       "              (query): Linear(in_features=768, out_features=768, bias=True)\n",
       "              (key): Linear(in_features=768, out_features=768, bias=True)\n",
       "              (value): Linear(in_features=768, out_features=768, bias=True)\n",
       "              (dropout): Dropout(p=0.1, inplace=False)\n",
       "            )\n",
       "            (output): BertSelfOutput(\n",
       "              (dense): Linear(in_features=768, out_features=768, bias=True)\n",
       "              (LayerNorm): LayerNorm((768,), eps=1e-12, elementwise_affine=True)\n",
       "              (dropout): Dropout(p=0.1, inplace=False)\n",
       "            )\n",
       "          )\n",
       "          (intermediate): BertIntermediate(\n",
       "            (dense): Linear(in_features=768, out_features=3072, bias=True)\n",
       "          )\n",
       "          (output): BertOutput(\n",
       "            (dense): Linear(in_features=3072, out_features=768, bias=True)\n",
       "            (LayerNorm): LayerNorm((768,), eps=1e-12, elementwise_affine=True)\n",
       "            (dropout): Dropout(p=0.1, inplace=False)\n",
       "          )\n",
       "        )\n",
       "        (2): BertLayer(\n",
       "          (attention): BertAttention(\n",
       "            (self): BertSelfAttention(\n",
       "              (query): Linear(in_features=768, out_features=768, bias=True)\n",
       "              (key): Linear(in_features=768, out_features=768, bias=True)\n",
       "              (value): Linear(in_features=768, out_features=768, bias=True)\n",
       "              (dropout): Dropout(p=0.1, inplace=False)\n",
       "            )\n",
       "            (output): BertSelfOutput(\n",
       "              (dense): Linear(in_features=768, out_features=768, bias=True)\n",
       "              (LayerNorm): LayerNorm((768,), eps=1e-12, elementwise_affine=True)\n",
       "              (dropout): Dropout(p=0.1, inplace=False)\n",
       "            )\n",
       "          )\n",
       "          (intermediate): BertIntermediate(\n",
       "            (dense): Linear(in_features=768, out_features=3072, bias=True)\n",
       "          )\n",
       "          (output): BertOutput(\n",
       "            (dense): Linear(in_features=3072, out_features=768, bias=True)\n",
       "            (LayerNorm): LayerNorm((768,), eps=1e-12, elementwise_affine=True)\n",
       "            (dropout): Dropout(p=0.1, inplace=False)\n",
       "          )\n",
       "        )\n",
       "        (3): BertLayer(\n",
       "          (attention): BertAttention(\n",
       "            (self): BertSelfAttention(\n",
       "              (query): Linear(in_features=768, out_features=768, bias=True)\n",
       "              (key): Linear(in_features=768, out_features=768, bias=True)\n",
       "              (value): Linear(in_features=768, out_features=768, bias=True)\n",
       "              (dropout): Dropout(p=0.1, inplace=False)\n",
       "            )\n",
       "            (output): BertSelfOutput(\n",
       "              (dense): Linear(in_features=768, out_features=768, bias=True)\n",
       "              (LayerNorm): LayerNorm((768,), eps=1e-12, elementwise_affine=True)\n",
       "              (dropout): Dropout(p=0.1, inplace=False)\n",
       "            )\n",
       "          )\n",
       "          (intermediate): BertIntermediate(\n",
       "            (dense): Linear(in_features=768, out_features=3072, bias=True)\n",
       "          )\n",
       "          (output): BertOutput(\n",
       "            (dense): Linear(in_features=3072, out_features=768, bias=True)\n",
       "            (LayerNorm): LayerNorm((768,), eps=1e-12, elementwise_affine=True)\n",
       "            (dropout): Dropout(p=0.1, inplace=False)\n",
       "          )\n",
       "        )\n",
       "        (4): BertLayer(\n",
       "          (attention): BertAttention(\n",
       "            (self): BertSelfAttention(\n",
       "              (query): Linear(in_features=768, out_features=768, bias=True)\n",
       "              (key): Linear(in_features=768, out_features=768, bias=True)\n",
       "              (value): Linear(in_features=768, out_features=768, bias=True)\n",
       "              (dropout): Dropout(p=0.1, inplace=False)\n",
       "            )\n",
       "            (output): BertSelfOutput(\n",
       "              (dense): Linear(in_features=768, out_features=768, bias=True)\n",
       "              (LayerNorm): LayerNorm((768,), eps=1e-12, elementwise_affine=True)\n",
       "              (dropout): Dropout(p=0.1, inplace=False)\n",
       "            )\n",
       "          )\n",
       "          (intermediate): BertIntermediate(\n",
       "            (dense): Linear(in_features=768, out_features=3072, bias=True)\n",
       "          )\n",
       "          (output): BertOutput(\n",
       "            (dense): Linear(in_features=3072, out_features=768, bias=True)\n",
       "            (LayerNorm): LayerNorm((768,), eps=1e-12, elementwise_affine=True)\n",
       "            (dropout): Dropout(p=0.1, inplace=False)\n",
       "          )\n",
       "        )\n",
       "        (5): BertLayer(\n",
       "          (attention): BertAttention(\n",
       "            (self): BertSelfAttention(\n",
       "              (query): Linear(in_features=768, out_features=768, bias=True)\n",
       "              (key): Linear(in_features=768, out_features=768, bias=True)\n",
       "              (value): Linear(in_features=768, out_features=768, bias=True)\n",
       "              (dropout): Dropout(p=0.1, inplace=False)\n",
       "            )\n",
       "            (output): BertSelfOutput(\n",
       "              (dense): Linear(in_features=768, out_features=768, bias=True)\n",
       "              (LayerNorm): LayerNorm((768,), eps=1e-12, elementwise_affine=True)\n",
       "              (dropout): Dropout(p=0.1, inplace=False)\n",
       "            )\n",
       "          )\n",
       "          (intermediate): BertIntermediate(\n",
       "            (dense): Linear(in_features=768, out_features=3072, bias=True)\n",
       "          )\n",
       "          (output): BertOutput(\n",
       "            (dense): Linear(in_features=3072, out_features=768, bias=True)\n",
       "            (LayerNorm): LayerNorm((768,), eps=1e-12, elementwise_affine=True)\n",
       "            (dropout): Dropout(p=0.1, inplace=False)\n",
       "          )\n",
       "        )\n",
       "        (6): BertLayer(\n",
       "          (attention): BertAttention(\n",
       "            (self): BertSelfAttention(\n",
       "              (query): Linear(in_features=768, out_features=768, bias=True)\n",
       "              (key): Linear(in_features=768, out_features=768, bias=True)\n",
       "              (value): Linear(in_features=768, out_features=768, bias=True)\n",
       "              (dropout): Dropout(p=0.1, inplace=False)\n",
       "            )\n",
       "            (output): BertSelfOutput(\n",
       "              (dense): Linear(in_features=768, out_features=768, bias=True)\n",
       "              (LayerNorm): LayerNorm((768,), eps=1e-12, elementwise_affine=True)\n",
       "              (dropout): Dropout(p=0.1, inplace=False)\n",
       "            )\n",
       "          )\n",
       "          (intermediate): BertIntermediate(\n",
       "            (dense): Linear(in_features=768, out_features=3072, bias=True)\n",
       "          )\n",
       "          (output): BertOutput(\n",
       "            (dense): Linear(in_features=3072, out_features=768, bias=True)\n",
       "            (LayerNorm): LayerNorm((768,), eps=1e-12, elementwise_affine=True)\n",
       "            (dropout): Dropout(p=0.1, inplace=False)\n",
       "          )\n",
       "        )\n",
       "        (7): BertLayer(\n",
       "          (attention): BertAttention(\n",
       "            (self): BertSelfAttention(\n",
       "              (query): Linear(in_features=768, out_features=768, bias=True)\n",
       "              (key): Linear(in_features=768, out_features=768, bias=True)\n",
       "              (value): Linear(in_features=768, out_features=768, bias=True)\n",
       "              (dropout): Dropout(p=0.1, inplace=False)\n",
       "            )\n",
       "            (output): BertSelfOutput(\n",
       "              (dense): Linear(in_features=768, out_features=768, bias=True)\n",
       "              (LayerNorm): LayerNorm((768,), eps=1e-12, elementwise_affine=True)\n",
       "              (dropout): Dropout(p=0.1, inplace=False)\n",
       "            )\n",
       "          )\n",
       "          (intermediate): BertIntermediate(\n",
       "            (dense): Linear(in_features=768, out_features=3072, bias=True)\n",
       "          )\n",
       "          (output): BertOutput(\n",
       "            (dense): Linear(in_features=3072, out_features=768, bias=True)\n",
       "            (LayerNorm): LayerNorm((768,), eps=1e-12, elementwise_affine=True)\n",
       "            (dropout): Dropout(p=0.1, inplace=False)\n",
       "          )\n",
       "        )\n",
       "        (8): BertLayer(\n",
       "          (attention): BertAttention(\n",
       "            (self): BertSelfAttention(\n",
       "              (query): Linear(in_features=768, out_features=768, bias=True)\n",
       "              (key): Linear(in_features=768, out_features=768, bias=True)\n",
       "              (value): Linear(in_features=768, out_features=768, bias=True)\n",
       "              (dropout): Dropout(p=0.1, inplace=False)\n",
       "            )\n",
       "            (output): BertSelfOutput(\n",
       "              (dense): Linear(in_features=768, out_features=768, bias=True)\n",
       "              (LayerNorm): LayerNorm((768,), eps=1e-12, elementwise_affine=True)\n",
       "              (dropout): Dropout(p=0.1, inplace=False)\n",
       "            )\n",
       "          )\n",
       "          (intermediate): BertIntermediate(\n",
       "            (dense): Linear(in_features=768, out_features=3072, bias=True)\n",
       "          )\n",
       "          (output): BertOutput(\n",
       "            (dense): Linear(in_features=3072, out_features=768, bias=True)\n",
       "            (LayerNorm): LayerNorm((768,), eps=1e-12, elementwise_affine=True)\n",
       "            (dropout): Dropout(p=0.1, inplace=False)\n",
       "          )\n",
       "        )\n",
       "        (9): BertLayer(\n",
       "          (attention): BertAttention(\n",
       "            (self): BertSelfAttention(\n",
       "              (query): Linear(in_features=768, out_features=768, bias=True)\n",
       "              (key): Linear(in_features=768, out_features=768, bias=True)\n",
       "              (value): Linear(in_features=768, out_features=768, bias=True)\n",
       "              (dropout): Dropout(p=0.1, inplace=False)\n",
       "            )\n",
       "            (output): BertSelfOutput(\n",
       "              (dense): Linear(in_features=768, out_features=768, bias=True)\n",
       "              (LayerNorm): LayerNorm((768,), eps=1e-12, elementwise_affine=True)\n",
       "              (dropout): Dropout(p=0.1, inplace=False)\n",
       "            )\n",
       "          )\n",
       "          (intermediate): BertIntermediate(\n",
       "            (dense): Linear(in_features=768, out_features=3072, bias=True)\n",
       "          )\n",
       "          (output): BertOutput(\n",
       "            (dense): Linear(in_features=3072, out_features=768, bias=True)\n",
       "            (LayerNorm): LayerNorm((768,), eps=1e-12, elementwise_affine=True)\n",
       "            (dropout): Dropout(p=0.1, inplace=False)\n",
       "          )\n",
       "        )\n",
       "        (10): BertLayer(\n",
       "          (attention): BertAttention(\n",
       "            (self): BertSelfAttention(\n",
       "              (query): Linear(in_features=768, out_features=768, bias=True)\n",
       "              (key): Linear(in_features=768, out_features=768, bias=True)\n",
       "              (value): Linear(in_features=768, out_features=768, bias=True)\n",
       "              (dropout): Dropout(p=0.1, inplace=False)\n",
       "            )\n",
       "            (output): BertSelfOutput(\n",
       "              (dense): Linear(in_features=768, out_features=768, bias=True)\n",
       "              (LayerNorm): LayerNorm((768,), eps=1e-12, elementwise_affine=True)\n",
       "              (dropout): Dropout(p=0.1, inplace=False)\n",
       "            )\n",
       "          )\n",
       "          (intermediate): BertIntermediate(\n",
       "            (dense): Linear(in_features=768, out_features=3072, bias=True)\n",
       "          )\n",
       "          (output): BertOutput(\n",
       "            (dense): Linear(in_features=3072, out_features=768, bias=True)\n",
       "            (LayerNorm): LayerNorm((768,), eps=1e-12, elementwise_affine=True)\n",
       "            (dropout): Dropout(p=0.1, inplace=False)\n",
       "          )\n",
       "        )\n",
       "        (11): BertLayer(\n",
       "          (attention): BertAttention(\n",
       "            (self): BertSelfAttention(\n",
       "              (query): Linear(in_features=768, out_features=768, bias=True)\n",
       "              (key): Linear(in_features=768, out_features=768, bias=True)\n",
       "              (value): Linear(in_features=768, out_features=768, bias=True)\n",
       "              (dropout): Dropout(p=0.1, inplace=False)\n",
       "            )\n",
       "            (output): BertSelfOutput(\n",
       "              (dense): Linear(in_features=768, out_features=768, bias=True)\n",
       "              (LayerNorm): LayerNorm((768,), eps=1e-12, elementwise_affine=True)\n",
       "              (dropout): Dropout(p=0.1, inplace=False)\n",
       "            )\n",
       "          )\n",
       "          (intermediate): BertIntermediate(\n",
       "            (dense): Linear(in_features=768, out_features=3072, bias=True)\n",
       "          )\n",
       "          (output): BertOutput(\n",
       "            (dense): Linear(in_features=3072, out_features=768, bias=True)\n",
       "            (LayerNorm): LayerNorm((768,), eps=1e-12, elementwise_affine=True)\n",
       "            (dropout): Dropout(p=0.1, inplace=False)\n",
       "          )\n",
       "        )\n",
       "      )\n",
       "    )\n",
       "  )\n",
       "  (cls): BertOnlyMLMHead(\n",
       "    (predictions): BertLMPredictionHead(\n",
       "      (transform): BertPredictionHeadTransform(\n",
       "        (dense): Linear(in_features=768, out_features=768, bias=True)\n",
       "        (LayerNorm): LayerNorm((768,), eps=1e-12, elementwise_affine=True)\n",
       "      )\n",
       "      (decoder): Linear(in_features=768, out_features=30522, bias=True)\n",
       "    )\n",
       "  )\n",
       ")"
      ]
     },
     "execution_count": 28,
     "metadata": {},
     "output_type": "execute_result"
    }
   ],
   "source": [
    "model.to(device)\n",
    "model.eval()\n",
    "hidden_final_layer_train = get_hidden_layer_reps(model, dataloaders[\"train\"], device, max_token_length, -1)\n",
    "hidden_final_layer_toi_train = get_av_hidden_layer_rep_for_toi_layer(hidden_final_layer_train, extracts_train[\"toi_idxs\"])\n",
    "\n",
    "hidden_final_layer_test = get_hidden_layer_reps(model, dataloaders[\"test\"], device, max_token_length, -1)\n",
    "hidden_final_layer_toi_test = get_av_hidden_layer_rep_for_toi_layer(hidden_final_layer_test, extracts_test[\"toi_idxs\"])\n",
    "model.to(\"cpu\")"
   ]
  },
  {
   "cell_type": "code",
   "execution_count": 31,
   "metadata": {},
   "outputs": [
    {
     "data": {
      "image/png": "[encoded data removed]",
      "text/plain": [
       "<Figure size 432x288 with 1 Axes>"
      ]
     },
     "metadata": {},
     "output_type": "display_data"
    }
   ],
   "source": [
    "import matplotlib.pyplot as plt\n",
    "from sklearn.cluster import KMeans\n",
    "from sklearn.decomposition import PCA\n",
    "from sklearn.preprocessing import StandardScaler\n",
    "\n",
    "labels = extracts_train[\"labels\"]\n",
    "scaled_data = StandardScaler().fit_transform(hidden_final_layer_toi_train)\n",
    "reduced_data = PCA(n_components=2).fit_transform(scaled_data)\n",
    "kmeans = KMeans(init=\"k-means++\", n_clusters=2, n_init=4)\n",
    "kmeans.fit(reduced_data)\n",
    "\n",
    "# Step size of the mesh. Decrease to increase the quality of the VQ.\n",
    "h = .02     # point in the mesh [x_min, x_max]x[y_min, y_max].\n",
    "\n",
    "# Plot the decision boundary. For that, we will assign a color to each\n",
    "x_min, x_max = reduced_data[:, 0].min() - 1, reduced_data[:, 0].max() + 1\n",
    "y_min, y_max = reduced_data[:, 1].min() - 1, reduced_data[:, 1].max() + 1\n",
    "xx, yy = np.meshgrid(np.arange(x_min, x_max, h), np.arange(y_min, y_max, h))\n",
    "\n",
    "# Obtain labels for each point in mesh. Use last trained model.\n",
    "# Z = kmeans.predict(np.c_[xx.ravel(), yy.ravel()])\n",
    "\n",
    "# # Put the result into a color plot\n",
    "# Z = Z.reshape(xx.shape)\n",
    "# plt.figure(1)\n",
    "# plt.clf()\n",
    "# plt.imshow(Z, interpolation=\"nearest\",\n",
    "#            extent=(xx.min(), xx.max(), yy.min(), yy.max()),\n",
    "#            cmap=plt.cm.Paired, aspect=\"auto\", origin=\"lower\")\n",
    "\n",
    "colours = ['k' if label == \"Disease_Syndrome\" else \"r\" for label in labels]\n",
    "plt.scatter(reduced_data[:, 0], reduced_data[:, 1], c=colours, s=2)\n",
    "# Plot the centroids as a white X\n",
    "# centroids = kmeans.cluster_centers_\n",
    "# plt.scatter(centroids[:, 0], centroids[:, 1], marker=\"x\", s=169, linewidths=3,\n",
    "#             color=\"w\", zorder=10)\n",
    "plt.title(\"K-means clustering on the digits dataset (PCA-reduced data)\\n\"\n",
    "          \"Centroids are marked with white cross\")\n",
    "plt.xlim(x_min, x_max)\n",
    "plt.ylim(y_min, y_max)\n",
    "plt.xticks(())\n",
    "plt.yticks(())\n",
    "plt.show()"
   ]
  },
  {
   "cell_type": "code",
   "execution_count": null,
   "metadata": {},
   "outputs": [],
   "source": []
  }
 ],
 "metadata": {
  "kernelspec": {
   "display_name": "NLP",
   "language": "python",
   "name": "nlp"
  },
  "language_info": {
   "codemirror_mode": {
    "name": "ipython",
    "version": 3
   },
   "file_extension": ".py",
   "mimetype": "text/x-python",
   "name": "python",
   "nbconvert_exporter": "python",
   "pygments_lexer": "ipython3",
   "version": "3.9.2"
  }
 },
 "nbformat": 4,
 "nbformat_minor": 2
}
