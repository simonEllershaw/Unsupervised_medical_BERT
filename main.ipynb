{
 "metadata": {
  "language_info": {
   "codemirror_mode": {
    "name": "ipython",
    "version": 3
   },
   "file_extension": ".py",
   "mimetype": "text/x-python",
   "name": "python",
   "nbconvert_exporter": "python",
   "pygments_lexer": "ipython3",
   "version": "3.9.2"
  },
  "orig_nbformat": 2,
  "kernelspec": {
   "name": "nlp",
   "display_name": "Python 3.9.2  ('venv': venv)"
  }
 },
 "nbformat": 4,
 "nbformat_minor": 2,
 "cells": [
  {
   "source": [
    "Split plaintext files into test train and validation"
   ],
   "cell_type": "markdown",
   "metadata": {}
  },
  {
   "cell_type": "code",
   "execution_count": 1,
   "metadata": {
    "tags": []
   },
   "outputs": [
    {
     "output_type": "stream",
     "name": "stdout",
     "text": [
      "395 49 49\n"
     ]
    }
   ],
   "source": [
    "import os\n",
    "import random\n",
    "\n",
    "random.seed(13)\n",
    "plaintext_directory = os.path.join(\"amlh_nlp_dataset\", \"amlh_nlp_dataset\", \"plaintext_data\")\n",
    "plaintext_fnames = [fname for fname in os.listdir(plaintext_directory) if fname.endswith(\".txt\")]\n",
    "\n",
    "random.shuffle(plaintext_fnames)\n",
    "val_index = int(0.1*len(plaintext_fnames))\n",
    "test_index = val_index + int(0.2*len(plaintext_fnames))\n",
    "fnames_val = plaintext_fnames[:val_index]\n",
    "fnames_test = plaintext_fnames[val_index:test_index]\n",
    "fnames_train = plaintext_fnames[test_index:]\n",
    "print(len(fnames_train), len(fnames_val), len(fnames_test))"
   ]
  },
  {
   "cell_type": "code",
   "execution_count": 2,
   "metadata": {},
   "outputs": [],
   "source": [
    "def preprocess_text(text):\n",
    "    text = text.replace(\"\\n \", \"\\n\").replace(\"\\n\\n\", \" \").replace(\":\", \" \").replace(\"  \", \" \").lower()\n",
    "    return text\n",
    "\n",
    "def extract_centred_string(text, center_idx, length):\n",
    "    lower_bound = max(0, center_idx - int(length/2))\n",
    "    upper_bound = min(len(text), center_idx + int(length/2))\n",
    "    center_idx = int(length/2) if lower_bound > 0 else center_idx\n",
    "    return text[lower_bound:upper_bound], center_idx\n",
    "\n",
    "def read_in_and_preprocess_plaintext(plaintext_directory, fnames, window_size, n_samples=10):\n",
    "    text = []\n",
    "    for fname in fnames:\n",
    "        filepath = os.path.join(plaintext_directory, fname)\n",
    "        with open(filepath, 'r', encoding=\"utf8\") as plaintext_file:\n",
    "            # Read in file and strip extraneous whitespace\n",
    "            plaintext = plaintext_file.read()\n",
    "            plaintext = preprocess_text(plaintext)\n",
    "            # # Split by whitespace ~ roughly splits by word\n",
    "            # plaintext = plaintext.split()\n",
    "            # # Add entries of window size arrays of words to text list\n",
    "            # plaintext = [\" \".join(plaintext[i:i+window_size]) for i in range(0, len(plaintext), window_size)]\n",
    "            for _ in range(n_samples):\n",
    "                central_idx = random.randint(0, len(plaintext))\n",
    "                extract, _ = extract_centred_string(plaintext, central_idx, window_size)\n",
    "                text = text + [extract]\n",
    "                \n",
    "    return text\n"
   ]
  },
  {
   "cell_type": "code",
   "execution_count": 3,
   "metadata": {
    "tags": []
   },
   "outputs": [
    {
     "output_type": "stream",
     "name": "stdout",
     "text": [
      "3950 490 490\nnches, weight is 181.2, blood pressure is 126/80 in the right arm, 122/78 in the left arm, pulse rate is 68 and regular, and respirations are 16. skin  warm and dry. there is no pallor, cyanosis or icterus. heent  tympanic membranes benign. the pharynx is \n"
     ]
    }
   ],
   "source": [
    "window_size = 256\n",
    "text_train = read_in_and_preprocess_plaintext(plaintext_directory, fnames_train, window_size)\n",
    "text_val = read_in_and_preprocess_plaintext(plaintext_directory, fnames_val, window_size)\n",
    "text_test = read_in_and_preprocess_plaintext(plaintext_directory, fnames_test, window_size)\n",
    "\n",
    "print(len(text_train), len(text_val), len(text_test))\n",
    "print(text_train[0])"
   ]
  },
  {
   "source": [
    "Tokenise use Bert-Tokeniser"
   ],
   "cell_type": "markdown",
   "metadata": {}
  },
  {
   "cell_type": "code",
   "execution_count": 4,
   "metadata": {
    "tags": []
   },
   "outputs": [
    {
     "output_type": "stream",
     "name": "stdout",
     "text": [
      "torch.Size([3950, 128]) torch.Size([490, 128]) torch.Size([490, 128])\ntensor([  101, 13316, 15689,  1010,  3635,  2003, 18596,  1012,  1016,  1010,\n         2668,  3778,  2003, 14010,  1013,  3770,  1999,  1996,  2157,  2849,\n         1010, 13092,  1013,  6275,  1999,  1996,  2187,  2849,  1010,  8187,\n         3446,  2003,  6273,  1998,  3180,  1010,  1998, 24501, 16781,  2015,\n         2024,  2385,  1012,  3096,  4010,  1998,  4318,  1012,  2045,  2003,\n         2053, 14412, 10626,  1010, 22330,  6761,  6190,  2030, 25891, 21608,\n         1012, 18235,  3372,  5939,  8737,  7088,  2278, 24972, 28378,  1012,\n         1996,  6887,  5649, 26807,  2003,   102,     0,     0,     0,     0,\n            0,     0,     0,     0,     0,     0,     0,     0,     0,     0,\n            0,     0,     0,     0,     0,     0,     0,     0,     0,     0,\n            0,     0,     0,     0,     0,     0,     0,     0,     0,     0,\n            0,     0,     0,     0,     0,     0,     0,     0,     0,     0,\n            0,     0,     0,     0,     0,     0,     0,     0])\n"
     ]
    }
   ],
   "source": [
    "from transformers import BertTokenizer, BertForMaskedLM\n",
    "import torch\n",
    "\n",
    "tokenizer = BertTokenizer.from_pretrained('bert-base-uncased')\n",
    "inputs_train = tokenizer(text_train, return_tensors='pt', padding='max_length', max_length=128)\n",
    "inputs_val = tokenizer(text_val, return_tensors='pt', padding='max_length', max_length=128)\n",
    "inputs_test = tokenizer(text_test, return_tensors='pt', padding='max_length', max_length=128)\n",
    "\n",
    "print(inputs_train.input_ids.size(), inputs_val.input_ids.size(), inputs_test.input_ids.size())\n",
    "print(inputs_train.input_ids[0])"
   ]
  },
  {
   "source": [
    "Create masked labels"
   ],
   "cell_type": "markdown",
   "metadata": {}
  },
  {
   "cell_type": "code",
   "execution_count": 5,
   "metadata": {},
   "outputs": [],
   "source": [
    "def add_masked_labels_to_inputs(inputs):\n",
    "    inputs['labels'] = inputs.input_ids.detach().clone()\n",
    "    # create random array of floats with equal dimensions to input_ids tensor\n",
    "    rand = torch.rand(inputs.input_ids.shape)\n",
    "    # create mask array excluding masking special tokens\n",
    "    mask_arr = (rand < 0.15) * (inputs.input_ids != 101) * \\\n",
    "            (inputs.input_ids != 102) * (inputs.input_ids != 0)\n",
    "    # Extract indicies to be masked\n",
    "    selection = []\n",
    "    for i in range(inputs.input_ids.shape[0]):\n",
    "        selection.append(\n",
    "            torch.flatten(mask_arr[i].nonzero()).tolist()\n",
    "        )\n",
    "    # Mask them\n",
    "    for i in range(inputs.input_ids.shape[0]):\n",
    "        inputs.input_ids[i, selection[i]] = 103\n",
    "    return inputs"
   ]
  },
  {
   "cell_type": "code",
   "execution_count": 6,
   "metadata": {},
   "outputs": [],
   "source": [
    "inputs_train = add_masked_labels_to_inputs(inputs_train)\n",
    "inputs_val = add_masked_labels_to_inputs(inputs_val)\n",
    "inputs_val = add_masked_labels_to_inputs(inputs_test)"
   ]
  },
  {
   "cell_type": "code",
   "execution_count": 7,
   "metadata": {},
   "outputs": [
    {
     "output_type": "stream",
     "name": "stdout",
     "text": [
      "torch.Size([3950, 128]) torch.Size([490, 128]) torch.Size([490, 128])\ntensor([  101, 13316, 15689,  1010,  3635,  2003, 18596,  1012,  1016,  1010,\n         2668,  3778,  2003, 14010,  1013,  3770,  1999,  1996,  2157,  2849,\n         1010, 13092,  1013,  6275,  1999,  1996,  2187,  2849,  1010,  8187,\n         3446,  2003,  6273,  1998,  3180,  1010,  1998, 24501, 16781,  2015,\n         2024,  2385,  1012,  3096,  4010,  1998,  4318,  1012,  2045,  2003,\n         2053, 14412, 10626,  1010, 22330,  6761,  6190,  2030, 25891, 21608,\n         1012, 18235,  3372,  5939,  8737,  7088,  2278, 24972, 28378,  1012,\n         1996,  6887,  5649, 26807,  2003,   102,     0,     0,     0,     0,\n            0,     0,     0,     0,     0,     0,     0,     0,     0,     0,\n            0,     0,     0,     0,     0,     0,     0,     0,     0,     0,\n            0,     0,     0,     0,     0,     0,     0,     0,     0,     0,\n            0,     0,     0,     0,     0,     0,     0,     0,     0,     0,\n            0,     0,     0,     0,     0,     0,     0,     0])\n"
     ]
    }
   ],
   "source": [
    "print(inputs_train.labels.size(), inputs_val.labels.size(), inputs_test.labels.size())\n",
    "print(inputs_train.labels[0])"
   ]
  },
  {
   "source": [
    "Load into datasets and dataloaders"
   ],
   "cell_type": "markdown",
   "metadata": {}
  },
  {
   "cell_type": "code",
   "execution_count": 8,
   "metadata": {},
   "outputs": [],
   "source": [
    "class MTSamplesDataset(torch.utils.data.Dataset):\n",
    "    def __init__(self, encodings):\n",
    "        self.encodings = encodings\n",
    "    def __getitem__(self, idx):\n",
    "        return self.encodings.input_ids[idx], self.encodings.attention_mask[idx], self.encodings.labels[idx]\n",
    "    def __len__(self):\n",
    "        return len(self.encodings.input_ids)"
   ]
  },
  {
   "cell_type": "code",
   "execution_count": 9,
   "metadata": {},
   "outputs": [
    {
     "output_type": "stream",
     "name": "stdout",
     "text": [
      "[3950, 490, 490]\n[494, 62, 62]\n"
     ]
    }
   ],
   "source": [
    "datasets = {\"train\": MTSamplesDataset(inputs_train), \"val\": MTSamplesDataset(inputs_val), \"test\": MTSamplesDataset(inputs_test)}\n",
    "dataloaders = {key: torch.utils.data.DataLoader(dataset, batch_size=8) for key, dataset in datasets.items()}\n",
    "dataloaders[\"train\"].shuffle = True\n",
    "\n",
    "print([len(dataset) for dataset in datasets.values()])\n",
    "print([len(dataloader) for dataloader in dataloaders.values()])"
   ]
  },
  {
   "source": [
    "Load model and optimiser"
   ],
   "cell_type": "markdown",
   "metadata": {}
  },
  {
   "cell_type": "code",
   "execution_count": 10,
   "metadata": {},
   "outputs": [
    {
     "output_type": "stream",
     "name": "stderr",
     "text": [
      "Some weights of the model checkpoint at bert-base-uncased were not used when initializing BertForMaskedLM: ['cls.seq_relationship.weight', 'cls.seq_relationship.bias']\n",
      "- This IS expected if you are initializing BertForMaskedLM from the checkpoint of a model trained on another task or with another architecture (e.g. initializing a BertForSequenceClassification model from a BertForPreTraining model).\n",
      "- This IS NOT expected if you are initializing BertForMaskedLM from the checkpoint of a model that you expect to be exactly identical (initializing a BertForSequenceClassification model from a BertForSequenceClassification model).\n",
      "\n"
     ]
    }
   ],
   "source": [
    "device = torch.device('cuda') if torch.cuda.is_available() else torch.device('cpu')\n",
    "model = BertForMaskedLM.from_pretrained('bert-base-uncased')\n",
    "model.to(device)\n",
    "model.train()\n",
    "print()"
   ]
  },
  {
   "cell_type": "code",
   "execution_count": 11,
   "metadata": {},
   "outputs": [],
   "source": [
    "from transformers import AdamW\n",
    "# initialize optimizer\n",
    "optim = AdamW(model.parameters(), lr=5e-5)"
   ]
  },
  {
   "source": [
    "Run training"
   ],
   "cell_type": "markdown",
   "metadata": {
    "tags": []
   }
  },
  {
   "cell_type": "code",
   "execution_count": 12,
   "metadata": {},
   "outputs": [
    {
     "output_type": "stream",
     "name": "stderr",
     "text": [
      "Step number 99: 100%|██████████| 100/100 [00:20<00:00,  4.82it/s, loss=0.0371]\n"
     ]
    }
   ],
   "source": [
    "from tqdm import tqdm  # for our progress bar\n",
    "\n",
    "num_steps = 100\n",
    "loss_log = {\"train\":[], \"val\":[]}\n",
    "optim.zero_grad()\n",
    "with tqdm(total=num_steps) as pbar:\n",
    "    for step in range(num_steps):\n",
    "        # setup loop with TQDM and dataloader\n",
    "        # loop = tqdm(num_steps, leave=True)\n",
    "        for phase in [\"train\", \"val\"]:\n",
    "            model = model.train() if phase == 'train' else model.eval()\n",
    "            input_ids, attention_mask, labels = next(iter(dataloaders[phase]))\n",
    "            input_ids = input_ids.to(device)\n",
    "            attention_mask = attention_mask.to(device)\n",
    "            labels = labels.to(device)\n",
    "            with torch.set_grad_enabled(phase == 'train'):\n",
    "                outputs = model(input_ids, attention_mask=attention_mask,\n",
    "                            labels=labels)\n",
    "                loss = outputs.loss\n",
    "                if phase == 'train':\n",
    "                    loss.backward()\n",
    "                    optim.step()\n",
    "                    optim.zero_grad()\n",
    "            loss_log[phase].append(loss.item()/len(input_ids))\n",
    "        # Print relevant info to progress bar\n",
    "        pbar.update(1)\n",
    "        pbar.set_description(f'Step number {step}')\n",
    "        pbar.set_postfix(loss=loss_log[\"val\"][-1])"
   ]
  },
  {
   "cell_type": "code",
   "execution_count": 13,
   "metadata": {},
   "outputs": [],
   "source": [
    "model_file = os.path.join(\"models\", 'Bert_Finetuned_MTSamples.pt')\n",
    "torch.save(model.state_dict(), model_file)"
   ]
  },
  {
   "cell_type": "code",
   "execution_count": 14,
   "metadata": {},
   "outputs": [
    {
     "output_type": "execute_result",
     "data": {
      "text/plain": [
       "Text(0.5, 0, 'Num Steps')"
      ]
     },
     "metadata": {},
     "execution_count": 14
    },
    {
     "output_type": "display_data",
     "data": {
      "text/plain": "<Figure size 432x288 with 1 Axes>",
      "image/svg+xml": "<?xml version=\"1.0\" encoding=\"utf-8\" standalone=\"no\"?>\r\n<!DOCTYPE svg PUBLIC \"-//W3C//DTD SVG 1.1//EN\"\r\n  \"http://www.w3.org/Graphics/SVG/1.1/DTD/svg11.dtd\">\r\n<svg height=\"262.19625pt\" version=\"1.1\" viewBox=\"0 0 385.78125 262.19625\" width=\"385.78125pt\" xmlns=\"http://www.w3.org/2000/svg\" xmlns:xlink=\"http://www.w3.org/1999/xlink\">\r\n <metadata>\r\n  <rdf:RDF xmlns:cc=\"http://creativecommons.org/ns#\" xmlns:dc=\"http://purl.org/dc/elements/1.1/\" xmlns:rdf=\"http://www.w3.org/1999/02/22-rdf-syntax-ns#\">\r\n   <cc:Work>\r\n    <dc:type rdf:resource=\"http://purl.org/dc/dcmitype/StillImage\"/>\r\n    <dc:date>2021-06-30T12:36:42.500970</dc:date>\r\n    <dc:format>image/svg+xml</dc:format>\r\n    <dc:creator>\r\n     <cc:Agent>\r\n      <dc:title>Matplotlib v3.4.2, https://matplotlib.org/</dc:title>\r\n     </cc:Agent>\r\n    </dc:creator>\r\n   </cc:Work>\r\n  </rdf:RDF>\r\n </metadata>\r\n <defs>\r\n  <style type=\"text/css\">*{stroke-linecap:butt;stroke-linejoin:round;}</style>\r\n </defs>\r\n <g id=\"figure_1\">\r\n  <g id=\"patch_1\">\r\n   <path d=\"M 0 262.19625 \r\nL 385.78125 262.19625 \r\nL 385.78125 0 \r\nL 0 0 \r\nz\r\n\" style=\"fill:none;\"/>\r\n  </g>\r\n  <g id=\"axes_1\">\r\n   <g id=\"patch_2\">\r\n    <path d=\"M 43.78125 224.64 \r\nL 378.58125 224.64 \r\nL 378.58125 7.2 \r\nL 43.78125 7.2 \r\nz\r\n\" style=\"fill:#ffffff;\"/>\r\n   </g>\r\n   <g id=\"matplotlib.axis_1\">\r\n    <g id=\"xtick_1\">\r\n     <g id=\"line2d_1\">\r\n      <defs>\r\n       <path d=\"M 0 0 \r\nL 0 3.5 \r\n\" id=\"m39b2d20793\" style=\"stroke:#000000;stroke-width:0.8;\"/>\r\n      </defs>\r\n      <g>\r\n       <use style=\"stroke:#000000;stroke-width:0.8;\" x=\"58.999432\" xlink:href=\"#m39b2d20793\" y=\"224.64\"/>\r\n      </g>\r\n     </g>\r\n     <g id=\"text_1\">\r\n      <!-- 0 -->\r\n      <g transform=\"translate(55.818182 239.238437)scale(0.1 -0.1)\">\r\n       <defs>\r\n        <path d=\"M 2034 4250 \r\nQ 1547 4250 1301 3770 \r\nQ 1056 3291 1056 2328 \r\nQ 1056 1369 1301 889 \r\nQ 1547 409 2034 409 \r\nQ 2525 409 2770 889 \r\nQ 3016 1369 3016 2328 \r\nQ 3016 3291 2770 3770 \r\nQ 2525 4250 2034 4250 \r\nz\r\nM 2034 4750 \r\nQ 2819 4750 3233 4129 \r\nQ 3647 3509 3647 2328 \r\nQ 3647 1150 3233 529 \r\nQ 2819 -91 2034 -91 \r\nQ 1250 -91 836 529 \r\nQ 422 1150 422 2328 \r\nQ 422 3509 836 4129 \r\nQ 1250 4750 2034 4750 \r\nz\r\n\" id=\"DejaVuSans-30\" transform=\"scale(0.015625)\"/>\r\n       </defs>\r\n       <use xlink:href=\"#DejaVuSans-30\"/>\r\n      </g>\r\n     </g>\r\n    </g>\r\n    <g id=\"xtick_2\">\r\n     <g id=\"line2d_2\">\r\n      <g>\r\n       <use style=\"stroke:#000000;stroke-width:0.8;\" x=\"120.487035\" xlink:href=\"#m39b2d20793\" y=\"224.64\"/>\r\n      </g>\r\n     </g>\r\n     <g id=\"text_2\">\r\n      <!-- 20 -->\r\n      <g transform=\"translate(114.124535 239.238437)scale(0.1 -0.1)\">\r\n       <defs>\r\n        <path d=\"M 1228 531 \r\nL 3431 531 \r\nL 3431 0 \r\nL 469 0 \r\nL 469 531 \r\nQ 828 903 1448 1529 \r\nQ 2069 2156 2228 2338 \r\nQ 2531 2678 2651 2914 \r\nQ 2772 3150 2772 3378 \r\nQ 2772 3750 2511 3984 \r\nQ 2250 4219 1831 4219 \r\nQ 1534 4219 1204 4116 \r\nQ 875 4013 500 3803 \r\nL 500 4441 \r\nQ 881 4594 1212 4672 \r\nQ 1544 4750 1819 4750 \r\nQ 2544 4750 2975 4387 \r\nQ 3406 4025 3406 3419 \r\nQ 3406 3131 3298 2873 \r\nQ 3191 2616 2906 2266 \r\nQ 2828 2175 2409 1742 \r\nQ 1991 1309 1228 531 \r\nz\r\n\" id=\"DejaVuSans-32\" transform=\"scale(0.015625)\"/>\r\n       </defs>\r\n       <use xlink:href=\"#DejaVuSans-32\"/>\r\n       <use x=\"63.623047\" xlink:href=\"#DejaVuSans-30\"/>\r\n      </g>\r\n     </g>\r\n    </g>\r\n    <g id=\"xtick_3\">\r\n     <g id=\"line2d_3\">\r\n      <g>\r\n       <use style=\"stroke:#000000;stroke-width:0.8;\" x=\"181.974638\" xlink:href=\"#m39b2d20793\" y=\"224.64\"/>\r\n      </g>\r\n     </g>\r\n     <g id=\"text_3\">\r\n      <!-- 40 -->\r\n      <g transform=\"translate(175.612138 239.238437)scale(0.1 -0.1)\">\r\n       <defs>\r\n        <path d=\"M 2419 4116 \r\nL 825 1625 \r\nL 2419 1625 \r\nL 2419 4116 \r\nz\r\nM 2253 4666 \r\nL 3047 4666 \r\nL 3047 1625 \r\nL 3713 1625 \r\nL 3713 1100 \r\nL 3047 1100 \r\nL 3047 0 \r\nL 2419 0 \r\nL 2419 1100 \r\nL 313 1100 \r\nL 313 1709 \r\nL 2253 4666 \r\nz\r\n\" id=\"DejaVuSans-34\" transform=\"scale(0.015625)\"/>\r\n       </defs>\r\n       <use xlink:href=\"#DejaVuSans-34\"/>\r\n       <use x=\"63.623047\" xlink:href=\"#DejaVuSans-30\"/>\r\n      </g>\r\n     </g>\r\n    </g>\r\n    <g id=\"xtick_4\">\r\n     <g id=\"line2d_4\">\r\n      <g>\r\n       <use style=\"stroke:#000000;stroke-width:0.8;\" x=\"243.462242\" xlink:href=\"#m39b2d20793\" y=\"224.64\"/>\r\n      </g>\r\n     </g>\r\n     <g id=\"text_4\">\r\n      <!-- 60 -->\r\n      <g transform=\"translate(237.099742 239.238437)scale(0.1 -0.1)\">\r\n       <defs>\r\n        <path d=\"M 2113 2584 \r\nQ 1688 2584 1439 2293 \r\nQ 1191 2003 1191 1497 \r\nQ 1191 994 1439 701 \r\nQ 1688 409 2113 409 \r\nQ 2538 409 2786 701 \r\nQ 3034 994 3034 1497 \r\nQ 3034 2003 2786 2293 \r\nQ 2538 2584 2113 2584 \r\nz\r\nM 3366 4563 \r\nL 3366 3988 \r\nQ 3128 4100 2886 4159 \r\nQ 2644 4219 2406 4219 \r\nQ 1781 4219 1451 3797 \r\nQ 1122 3375 1075 2522 \r\nQ 1259 2794 1537 2939 \r\nQ 1816 3084 2150 3084 \r\nQ 2853 3084 3261 2657 \r\nQ 3669 2231 3669 1497 \r\nQ 3669 778 3244 343 \r\nQ 2819 -91 2113 -91 \r\nQ 1303 -91 875 529 \r\nQ 447 1150 447 2328 \r\nQ 447 3434 972 4092 \r\nQ 1497 4750 2381 4750 \r\nQ 2619 4750 2861 4703 \r\nQ 3103 4656 3366 4563 \r\nz\r\n\" id=\"DejaVuSans-36\" transform=\"scale(0.015625)\"/>\r\n       </defs>\r\n       <use xlink:href=\"#DejaVuSans-36\"/>\r\n       <use x=\"63.623047\" xlink:href=\"#DejaVuSans-30\"/>\r\n      </g>\r\n     </g>\r\n    </g>\r\n    <g id=\"xtick_5\">\r\n     <g id=\"line2d_5\">\r\n      <g>\r\n       <use style=\"stroke:#000000;stroke-width:0.8;\" x=\"304.949845\" xlink:href=\"#m39b2d20793\" y=\"224.64\"/>\r\n      </g>\r\n     </g>\r\n     <g id=\"text_5\">\r\n      <!-- 80 -->\r\n      <g transform=\"translate(298.587345 239.238437)scale(0.1 -0.1)\">\r\n       <defs>\r\n        <path d=\"M 2034 2216 \r\nQ 1584 2216 1326 1975 \r\nQ 1069 1734 1069 1313 \r\nQ 1069 891 1326 650 \r\nQ 1584 409 2034 409 \r\nQ 2484 409 2743 651 \r\nQ 3003 894 3003 1313 \r\nQ 3003 1734 2745 1975 \r\nQ 2488 2216 2034 2216 \r\nz\r\nM 1403 2484 \r\nQ 997 2584 770 2862 \r\nQ 544 3141 544 3541 \r\nQ 544 4100 942 4425 \r\nQ 1341 4750 2034 4750 \r\nQ 2731 4750 3128 4425 \r\nQ 3525 4100 3525 3541 \r\nQ 3525 3141 3298 2862 \r\nQ 3072 2584 2669 2484 \r\nQ 3125 2378 3379 2068 \r\nQ 3634 1759 3634 1313 \r\nQ 3634 634 3220 271 \r\nQ 2806 -91 2034 -91 \r\nQ 1263 -91 848 271 \r\nQ 434 634 434 1313 \r\nQ 434 1759 690 2068 \r\nQ 947 2378 1403 2484 \r\nz\r\nM 1172 3481 \r\nQ 1172 3119 1398 2916 \r\nQ 1625 2713 2034 2713 \r\nQ 2441 2713 2670 2916 \r\nQ 2900 3119 2900 3481 \r\nQ 2900 3844 2670 4047 \r\nQ 2441 4250 2034 4250 \r\nQ 1625 4250 1398 4047 \r\nQ 1172 3844 1172 3481 \r\nz\r\n\" id=\"DejaVuSans-38\" transform=\"scale(0.015625)\"/>\r\n       </defs>\r\n       <use xlink:href=\"#DejaVuSans-38\"/>\r\n       <use x=\"63.623047\" xlink:href=\"#DejaVuSans-30\"/>\r\n      </g>\r\n     </g>\r\n    </g>\r\n    <g id=\"xtick_6\">\r\n     <g id=\"line2d_6\">\r\n      <g>\r\n       <use style=\"stroke:#000000;stroke-width:0.8;\" x=\"366.437448\" xlink:href=\"#m39b2d20793\" y=\"224.64\"/>\r\n      </g>\r\n     </g>\r\n     <g id=\"text_6\">\r\n      <!-- 100 -->\r\n      <g transform=\"translate(356.893698 239.238437)scale(0.1 -0.1)\">\r\n       <defs>\r\n        <path d=\"M 794 531 \r\nL 1825 531 \r\nL 1825 4091 \r\nL 703 3866 \r\nL 703 4441 \r\nL 1819 4666 \r\nL 2450 4666 \r\nL 2450 531 \r\nL 3481 531 \r\nL 3481 0 \r\nL 794 0 \r\nL 794 531 \r\nz\r\n\" id=\"DejaVuSans-31\" transform=\"scale(0.015625)\"/>\r\n       </defs>\r\n       <use xlink:href=\"#DejaVuSans-31\"/>\r\n       <use x=\"63.623047\" xlink:href=\"#DejaVuSans-30\"/>\r\n       <use x=\"127.246094\" xlink:href=\"#DejaVuSans-30\"/>\r\n      </g>\r\n     </g>\r\n    </g>\r\n    <g id=\"text_7\">\r\n     <!-- Num Steps -->\r\n     <g transform=\"translate(183.822656 252.916562)scale(0.1 -0.1)\">\r\n      <defs>\r\n       <path d=\"M 628 4666 \r\nL 1478 4666 \r\nL 3547 763 \r\nL 3547 4666 \r\nL 4159 4666 \r\nL 4159 0 \r\nL 3309 0 \r\nL 1241 3903 \r\nL 1241 0 \r\nL 628 0 \r\nL 628 4666 \r\nz\r\n\" id=\"DejaVuSans-4e\" transform=\"scale(0.015625)\"/>\r\n       <path d=\"M 544 1381 \r\nL 544 3500 \r\nL 1119 3500 \r\nL 1119 1403 \r\nQ 1119 906 1312 657 \r\nQ 1506 409 1894 409 \r\nQ 2359 409 2629 706 \r\nQ 2900 1003 2900 1516 \r\nL 2900 3500 \r\nL 3475 3500 \r\nL 3475 0 \r\nL 2900 0 \r\nL 2900 538 \r\nQ 2691 219 2414 64 \r\nQ 2138 -91 1772 -91 \r\nQ 1169 -91 856 284 \r\nQ 544 659 544 1381 \r\nz\r\nM 1991 3584 \r\nL 1991 3584 \r\nz\r\n\" id=\"DejaVuSans-75\" transform=\"scale(0.015625)\"/>\r\n       <path d=\"M 3328 2828 \r\nQ 3544 3216 3844 3400 \r\nQ 4144 3584 4550 3584 \r\nQ 5097 3584 5394 3201 \r\nQ 5691 2819 5691 2113 \r\nL 5691 0 \r\nL 5113 0 \r\nL 5113 2094 \r\nQ 5113 2597 4934 2840 \r\nQ 4756 3084 4391 3084 \r\nQ 3944 3084 3684 2787 \r\nQ 3425 2491 3425 1978 \r\nL 3425 0 \r\nL 2847 0 \r\nL 2847 2094 \r\nQ 2847 2600 2669 2842 \r\nQ 2491 3084 2119 3084 \r\nQ 1678 3084 1418 2786 \r\nQ 1159 2488 1159 1978 \r\nL 1159 0 \r\nL 581 0 \r\nL 581 3500 \r\nL 1159 3500 \r\nL 1159 2956 \r\nQ 1356 3278 1631 3431 \r\nQ 1906 3584 2284 3584 \r\nQ 2666 3584 2933 3390 \r\nQ 3200 3197 3328 2828 \r\nz\r\n\" id=\"DejaVuSans-6d\" transform=\"scale(0.015625)\"/>\r\n       <path id=\"DejaVuSans-20\" transform=\"scale(0.015625)\"/>\r\n       <path d=\"M 3425 4513 \r\nL 3425 3897 \r\nQ 3066 4069 2747 4153 \r\nQ 2428 4238 2131 4238 \r\nQ 1616 4238 1336 4038 \r\nQ 1056 3838 1056 3469 \r\nQ 1056 3159 1242 3001 \r\nQ 1428 2844 1947 2747 \r\nL 2328 2669 \r\nQ 3034 2534 3370 2195 \r\nQ 3706 1856 3706 1288 \r\nQ 3706 609 3251 259 \r\nQ 2797 -91 1919 -91 \r\nQ 1588 -91 1214 -16 \r\nQ 841 59 441 206 \r\nL 441 856 \r\nQ 825 641 1194 531 \r\nQ 1563 422 1919 422 \r\nQ 2459 422 2753 634 \r\nQ 3047 847 3047 1241 \r\nQ 3047 1584 2836 1778 \r\nQ 2625 1972 2144 2069 \r\nL 1759 2144 \r\nQ 1053 2284 737 2584 \r\nQ 422 2884 422 3419 \r\nQ 422 4038 858 4394 \r\nQ 1294 4750 2059 4750 \r\nQ 2388 4750 2728 4690 \r\nQ 3069 4631 3425 4513 \r\nz\r\n\" id=\"DejaVuSans-53\" transform=\"scale(0.015625)\"/>\r\n       <path d=\"M 1172 4494 \r\nL 1172 3500 \r\nL 2356 3500 \r\nL 2356 3053 \r\nL 1172 3053 \r\nL 1172 1153 \r\nQ 1172 725 1289 603 \r\nQ 1406 481 1766 481 \r\nL 2356 481 \r\nL 2356 0 \r\nL 1766 0 \r\nQ 1100 0 847 248 \r\nQ 594 497 594 1153 \r\nL 594 3053 \r\nL 172 3053 \r\nL 172 3500 \r\nL 594 3500 \r\nL 594 4494 \r\nL 1172 4494 \r\nz\r\n\" id=\"DejaVuSans-74\" transform=\"scale(0.015625)\"/>\r\n       <path d=\"M 3597 1894 \r\nL 3597 1613 \r\nL 953 1613 \r\nQ 991 1019 1311 708 \r\nQ 1631 397 2203 397 \r\nQ 2534 397 2845 478 \r\nQ 3156 559 3463 722 \r\nL 3463 178 \r\nQ 3153 47 2828 -22 \r\nQ 2503 -91 2169 -91 \r\nQ 1331 -91 842 396 \r\nQ 353 884 353 1716 \r\nQ 353 2575 817 3079 \r\nQ 1281 3584 2069 3584 \r\nQ 2775 3584 3186 3129 \r\nQ 3597 2675 3597 1894 \r\nz\r\nM 3022 2063 \r\nQ 3016 2534 2758 2815 \r\nQ 2500 3097 2075 3097 \r\nQ 1594 3097 1305 2825 \r\nQ 1016 2553 972 2059 \r\nL 3022 2063 \r\nz\r\n\" id=\"DejaVuSans-65\" transform=\"scale(0.015625)\"/>\r\n       <path d=\"M 1159 525 \r\nL 1159 -1331 \r\nL 581 -1331 \r\nL 581 3500 \r\nL 1159 3500 \r\nL 1159 2969 \r\nQ 1341 3281 1617 3432 \r\nQ 1894 3584 2278 3584 \r\nQ 2916 3584 3314 3078 \r\nQ 3713 2572 3713 1747 \r\nQ 3713 922 3314 415 \r\nQ 2916 -91 2278 -91 \r\nQ 1894 -91 1617 61 \r\nQ 1341 213 1159 525 \r\nz\r\nM 3116 1747 \r\nQ 3116 2381 2855 2742 \r\nQ 2594 3103 2138 3103 \r\nQ 1681 3103 1420 2742 \r\nQ 1159 2381 1159 1747 \r\nQ 1159 1113 1420 752 \r\nQ 1681 391 2138 391 \r\nQ 2594 391 2855 752 \r\nQ 3116 1113 3116 1747 \r\nz\r\n\" id=\"DejaVuSans-70\" transform=\"scale(0.015625)\"/>\r\n       <path d=\"M 2834 3397 \r\nL 2834 2853 \r\nQ 2591 2978 2328 3040 \r\nQ 2066 3103 1784 3103 \r\nQ 1356 3103 1142 2972 \r\nQ 928 2841 928 2578 \r\nQ 928 2378 1081 2264 \r\nQ 1234 2150 1697 2047 \r\nL 1894 2003 \r\nQ 2506 1872 2764 1633 \r\nQ 3022 1394 3022 966 \r\nQ 3022 478 2636 193 \r\nQ 2250 -91 1575 -91 \r\nQ 1294 -91 989 -36 \r\nQ 684 19 347 128 \r\nL 347 722 \r\nQ 666 556 975 473 \r\nQ 1284 391 1588 391 \r\nQ 1994 391 2212 530 \r\nQ 2431 669 2431 922 \r\nQ 2431 1156 2273 1281 \r\nQ 2116 1406 1581 1522 \r\nL 1381 1569 \r\nQ 847 1681 609 1914 \r\nQ 372 2147 372 2553 \r\nQ 372 3047 722 3315 \r\nQ 1072 3584 1716 3584 \r\nQ 2034 3584 2315 3537 \r\nQ 2597 3491 2834 3397 \r\nz\r\n\" id=\"DejaVuSans-73\" transform=\"scale(0.015625)\"/>\r\n      </defs>\r\n      <use xlink:href=\"#DejaVuSans-4e\"/>\r\n      <use x=\"74.804688\" xlink:href=\"#DejaVuSans-75\"/>\r\n      <use x=\"138.183594\" xlink:href=\"#DejaVuSans-6d\"/>\r\n      <use x=\"235.595703\" xlink:href=\"#DejaVuSans-20\"/>\r\n      <use x=\"267.382812\" xlink:href=\"#DejaVuSans-53\"/>\r\n      <use x=\"330.859375\" xlink:href=\"#DejaVuSans-74\"/>\r\n      <use x=\"370.068359\" xlink:href=\"#DejaVuSans-65\"/>\r\n      <use x=\"431.591797\" xlink:href=\"#DejaVuSans-70\"/>\r\n      <use x=\"495.068359\" xlink:href=\"#DejaVuSans-73\"/>\r\n     </g>\r\n    </g>\r\n   </g>\r\n   <g id=\"matplotlib.axis_2\">\r\n    <g id=\"ytick_1\">\r\n     <g id=\"line2d_7\">\r\n      <defs>\r\n       <path d=\"M 0 0 \r\nL -3.5 0 \r\n\" id=\"md4b5f26c12\" style=\"stroke:#000000;stroke-width:0.8;\"/>\r\n      </defs>\r\n      <g>\r\n       <use style=\"stroke:#000000;stroke-width:0.8;\" x=\"43.78125\" xlink:href=\"#md4b5f26c12\" y=\"214.959493\"/>\r\n      </g>\r\n     </g>\r\n     <g id=\"text_8\">\r\n      <!-- 0.0 -->\r\n      <g transform=\"translate(20.878125 218.758712)scale(0.1 -0.1)\">\r\n       <defs>\r\n        <path d=\"M 684 794 \r\nL 1344 794 \r\nL 1344 0 \r\nL 684 0 \r\nL 684 794 \r\nz\r\n\" id=\"DejaVuSans-2e\" transform=\"scale(0.015625)\"/>\r\n       </defs>\r\n       <use xlink:href=\"#DejaVuSans-30\"/>\r\n       <use x=\"63.623047\" xlink:href=\"#DejaVuSans-2e\"/>\r\n       <use x=\"95.410156\" xlink:href=\"#DejaVuSans-30\"/>\r\n      </g>\r\n     </g>\r\n    </g>\r\n    <g id=\"ytick_2\">\r\n     <g id=\"line2d_8\">\r\n      <g>\r\n       <use style=\"stroke:#000000;stroke-width:0.8;\" x=\"43.78125\" xlink:href=\"#md4b5f26c12\" y=\"184.155816\"/>\r\n      </g>\r\n     </g>\r\n     <g id=\"text_9\">\r\n      <!-- 0.2 -->\r\n      <g transform=\"translate(20.878125 187.955034)scale(0.1 -0.1)\">\r\n       <use xlink:href=\"#DejaVuSans-30\"/>\r\n       <use x=\"63.623047\" xlink:href=\"#DejaVuSans-2e\"/>\r\n       <use x=\"95.410156\" xlink:href=\"#DejaVuSans-32\"/>\r\n      </g>\r\n     </g>\r\n    </g>\r\n    <g id=\"ytick_3\">\r\n     <g id=\"line2d_9\">\r\n      <g>\r\n       <use style=\"stroke:#000000;stroke-width:0.8;\" x=\"43.78125\" xlink:href=\"#md4b5f26c12\" y=\"153.352138\"/>\r\n      </g>\r\n     </g>\r\n     <g id=\"text_10\">\r\n      <!-- 0.4 -->\r\n      <g transform=\"translate(20.878125 157.151357)scale(0.1 -0.1)\">\r\n       <use xlink:href=\"#DejaVuSans-30\"/>\r\n       <use x=\"63.623047\" xlink:href=\"#DejaVuSans-2e\"/>\r\n       <use x=\"95.410156\" xlink:href=\"#DejaVuSans-34\"/>\r\n      </g>\r\n     </g>\r\n    </g>\r\n    <g id=\"ytick_4\">\r\n     <g id=\"line2d_10\">\r\n      <g>\r\n       <use style=\"stroke:#000000;stroke-width:0.8;\" x=\"43.78125\" xlink:href=\"#md4b5f26c12\" y=\"122.54846\"/>\r\n      </g>\r\n     </g>\r\n     <g id=\"text_11\">\r\n      <!-- 0.6 -->\r\n      <g transform=\"translate(20.878125 126.347679)scale(0.1 -0.1)\">\r\n       <use xlink:href=\"#DejaVuSans-30\"/>\r\n       <use x=\"63.623047\" xlink:href=\"#DejaVuSans-2e\"/>\r\n       <use x=\"95.410156\" xlink:href=\"#DejaVuSans-36\"/>\r\n      </g>\r\n     </g>\r\n    </g>\r\n    <g id=\"ytick_5\">\r\n     <g id=\"line2d_11\">\r\n      <g>\r\n       <use style=\"stroke:#000000;stroke-width:0.8;\" x=\"43.78125\" xlink:href=\"#md4b5f26c12\" y=\"91.744782\"/>\r\n      </g>\r\n     </g>\r\n     <g id=\"text_12\">\r\n      <!-- 0.8 -->\r\n      <g transform=\"translate(20.878125 95.544001)scale(0.1 -0.1)\">\r\n       <use xlink:href=\"#DejaVuSans-30\"/>\r\n       <use x=\"63.623047\" xlink:href=\"#DejaVuSans-2e\"/>\r\n       <use x=\"95.410156\" xlink:href=\"#DejaVuSans-38\"/>\r\n      </g>\r\n     </g>\r\n    </g>\r\n    <g id=\"ytick_6\">\r\n     <g id=\"line2d_12\">\r\n      <g>\r\n       <use style=\"stroke:#000000;stroke-width:0.8;\" x=\"43.78125\" xlink:href=\"#md4b5f26c12\" y=\"60.941105\"/>\r\n      </g>\r\n     </g>\r\n     <g id=\"text_13\">\r\n      <!-- 1.0 -->\r\n      <g transform=\"translate(20.878125 64.740323)scale(0.1 -0.1)\">\r\n       <use xlink:href=\"#DejaVuSans-31\"/>\r\n       <use x=\"63.623047\" xlink:href=\"#DejaVuSans-2e\"/>\r\n       <use x=\"95.410156\" xlink:href=\"#DejaVuSans-30\"/>\r\n      </g>\r\n     </g>\r\n    </g>\r\n    <g id=\"ytick_7\">\r\n     <g id=\"line2d_13\">\r\n      <g>\r\n       <use style=\"stroke:#000000;stroke-width:0.8;\" x=\"43.78125\" xlink:href=\"#md4b5f26c12\" y=\"30.137427\"/>\r\n      </g>\r\n     </g>\r\n     <g id=\"text_14\">\r\n      <!-- 1.2 -->\r\n      <g transform=\"translate(20.878125 33.936646)scale(0.1 -0.1)\">\r\n       <use xlink:href=\"#DejaVuSans-31\"/>\r\n       <use x=\"63.623047\" xlink:href=\"#DejaVuSans-2e\"/>\r\n       <use x=\"95.410156\" xlink:href=\"#DejaVuSans-32\"/>\r\n      </g>\r\n     </g>\r\n    </g>\r\n    <g id=\"text_15\">\r\n     <!-- Loss -->\r\n     <g transform=\"translate(14.798438 126.887187)rotate(-90)scale(0.1 -0.1)\">\r\n      <defs>\r\n       <path d=\"M 628 4666 \r\nL 1259 4666 \r\nL 1259 531 \r\nL 3531 531 \r\nL 3531 0 \r\nL 628 0 \r\nL 628 4666 \r\nz\r\n\" id=\"DejaVuSans-4c\" transform=\"scale(0.015625)\"/>\r\n       <path d=\"M 1959 3097 \r\nQ 1497 3097 1228 2736 \r\nQ 959 2375 959 1747 \r\nQ 959 1119 1226 758 \r\nQ 1494 397 1959 397 \r\nQ 2419 397 2687 759 \r\nQ 2956 1122 2956 1747 \r\nQ 2956 2369 2687 2733 \r\nQ 2419 3097 1959 3097 \r\nz\r\nM 1959 3584 \r\nQ 2709 3584 3137 3096 \r\nQ 3566 2609 3566 1747 \r\nQ 3566 888 3137 398 \r\nQ 2709 -91 1959 -91 \r\nQ 1206 -91 779 398 \r\nQ 353 888 353 1747 \r\nQ 353 2609 779 3096 \r\nQ 1206 3584 1959 3584 \r\nz\r\n\" id=\"DejaVuSans-6f\" transform=\"scale(0.015625)\"/>\r\n      </defs>\r\n      <use xlink:href=\"#DejaVuSans-4c\"/>\r\n      <use x=\"53.962891\" xlink:href=\"#DejaVuSans-6f\"/>\r\n      <use x=\"115.144531\" xlink:href=\"#DejaVuSans-73\"/>\r\n      <use x=\"167.244141\" xlink:href=\"#DejaVuSans-73\"/>\r\n     </g>\r\n    </g>\r\n   </g>\r\n   <g id=\"line2d_14\">\r\n    <path clip-path=\"url(#p493fb81ddb)\" d=\"M 58.999432 31.631407 \r\nL 62.073812 67.162001 \r\nL 65.148192 90.379683 \r\nL 68.222572 107.339518 \r\nL 71.296952 118.283257 \r\nL 74.371333 128.110113 \r\nL 77.445713 135.770274 \r\nL 80.520093 141.360183 \r\nL 83.594473 146.821247 \r\nL 86.668853 152.922994 \r\nL 89.743233 159.35908 \r\nL 92.817614 166.13689 \r\nL 95.891994 171.335905 \r\nL 98.966374 176.186724 \r\nL 102.040754 180.993205 \r\nL 105.115134 185.9364 \r\nL 108.189514 189.943298 \r\nL 111.263895 193.506104 \r\nL 114.338275 196.258102 \r\nL 117.412655 198.854938 \r\nL 120.487035 200.595161 \r\nL 123.561415 202.562685 \r\nL 126.635795 204.412671 \r\nL 129.710176 205.563284 \r\nL 132.784556 206.251112 \r\nL 135.858936 207.865771 \r\nL 138.933316 208.714484 \r\nL 142.007696 209.435674 \r\nL 145.082076 210.080278 \r\nL 148.156457 210.694133 \r\nL 151.230837 211.28793 \r\nL 154.305217 211.661836 \r\nL 157.379597 211.852429 \r\nL 160.453977 212.369605 \r\nL 163.528357 212.711079 \r\nL 166.602738 213.011591 \r\nL 169.677118 212.784027 \r\nL 172.751498 213.106805 \r\nL 175.825878 213.384581 \r\nL 178.900258 213.635898 \r\nL 181.974638 213.652625 \r\nL 185.049019 213.750904 \r\nL 188.123399 213.856103 \r\nL 191.197779 214.006728 \r\nL 194.272159 214.044236 \r\nL 197.346539 214.123157 \r\nL 200.420919 214.171692 \r\nL 203.4953 214.213805 \r\nL 206.56968 214.270996 \r\nL 209.64406 214.298004 \r\nL 212.71844 214.234343 \r\nL 215.79282 214.175122 \r\nL 218.8672 214.339573 \r\nL 221.941581 214.41711 \r\nL 225.015961 214.357843 \r\nL 228.090341 214.45026 \r\nL 231.164721 214.439141 \r\nL 234.239101 214.44833 \r\nL 237.313481 214.467443 \r\nL 240.387862 214.451265 \r\nL 243.462242 214.542224 \r\nL 246.536622 214.52078 \r\nL 249.611002 214.527253 \r\nL 252.685382 214.55633 \r\nL 255.759762 214.584933 \r\nL 258.834143 214.576807 \r\nL 261.908523 214.528561 \r\nL 264.982903 214.571678 \r\nL 268.057283 214.592298 \r\nL 271.131663 214.630689 \r\nL 274.206043 214.635373 \r\nL 277.280424 214.622411 \r\nL 280.354804 214.654817 \r\nL 283.429184 214.654667 \r\nL 286.503564 214.657704 \r\nL 289.577944 214.652813 \r\nL 292.652324 214.631452 \r\nL 295.726705 214.619438 \r\nL 298.801085 214.685939 \r\nL 301.875465 214.687349 \r\nL 304.949845 214.68147 \r\nL 308.024225 214.703381 \r\nL 311.098605 214.672897 \r\nL 314.172986 214.708072 \r\nL 317.247366 214.705754 \r\nL 320.321746 214.713695 \r\nL 323.396126 214.701414 \r\nL 326.470506 214.721241 \r\nL 329.544886 214.724586 \r\nL 332.619267 214.73052 \r\nL 335.693647 214.722333 \r\nL 338.768027 214.729028 \r\nL 341.842407 214.713527 \r\nL 344.916787 214.723172 \r\nL 347.991167 214.744397 \r\nL 351.065548 214.738857 \r\nL 354.139928 214.735863 \r\nL 357.214308 214.756364 \r\nL 360.288688 214.752577 \r\nL 363.363068 214.756069 \r\n\" style=\"fill:none;stroke:#1f77b4;stroke-linecap:square;stroke-width:1.5;\"/>\r\n   </g>\r\n   <g id=\"line2d_15\">\r\n    <path clip-path=\"url(#p493fb81ddb)\" d=\"M 58.999432 17.083636 \r\nL 62.073812 49.9028 \r\nL 65.148192 75.613836 \r\nL 68.222572 95.655578 \r\nL 71.296952 109.095637 \r\nL 74.371333 117.918802 \r\nL 77.445713 124.556701 \r\nL 80.520093 130.89684 \r\nL 83.594473 137.811008 \r\nL 86.668853 145.447383 \r\nL 89.743233 152.937563 \r\nL 92.817614 160.054733 \r\nL 95.891994 166.321696 \r\nL 98.966374 172.182008 \r\nL 102.040754 177.649912 \r\nL 105.115134 182.529825 \r\nL 108.189514 186.613727 \r\nL 111.263895 189.997053 \r\nL 114.338275 192.814552 \r\nL 117.412655 195.18228 \r\nL 120.487035 197.226894 \r\nL 123.561415 198.944243 \r\nL 126.635795 200.401968 \r\nL 129.710176 201.653564 \r\nL 132.784556 202.71545 \r\nL 135.858936 203.602451 \r\nL 138.933316 204.340956 \r\nL 142.007696 204.956848 \r\nL 145.082076 205.481322 \r\nL 148.156457 205.956135 \r\nL 151.230837 206.385578 \r\nL 154.305217 206.769943 \r\nL 157.379597 207.105532 \r\nL 160.453977 207.391149 \r\nL 163.528357 207.631624 \r\nL 166.602738 207.83362 \r\nL 169.677118 208.005653 \r\nL 172.751498 208.157305 \r\nL 175.825878 208.294562 \r\nL 178.900258 208.41412 \r\nL 181.974638 208.51518 \r\nL 185.049019 208.601372 \r\nL 188.123399 208.676456 \r\nL 191.197779 208.740885 \r\nL 194.272159 208.798568 \r\nL 197.346539 208.851172 \r\nL 200.420919 208.898368 \r\nL 203.4953 208.940576 \r\nL 206.56968 208.975381 \r\nL 209.64406 209.008363 \r\nL 212.71844 209.037965 \r\nL 215.79282 209.063285 \r\nL 218.8672 209.085301 \r\nL 221.941581 209.104854 \r\nL 225.015961 209.122088 \r\nL 228.090341 209.135863 \r\nL 231.164721 209.148132 \r\nL 234.239101 209.158905 \r\nL 237.313481 209.169049 \r\nL 240.387862 209.178313 \r\nL 243.462242 209.186427 \r\nL 246.536622 209.193595 \r\nL 249.611002 209.19985 \r\nL 252.685382 209.205439 \r\nL 255.759762 209.211237 \r\nL 258.834143 209.214896 \r\nL 261.908523 209.218041 \r\nL 264.982903 209.221023 \r\nL 268.057283 209.224059 \r\nL 271.131663 209.226895 \r\nL 274.206043 209.229502 \r\nL 277.280424 209.231876 \r\nL 280.354804 209.234238 \r\nL 283.429184 209.236821 \r\nL 286.503564 209.239273 \r\nL 289.577944 209.241646 \r\nL 292.652324 209.243764 \r\nL 295.726705 209.245364 \r\nL 298.801085 209.246981 \r\nL 301.875465 209.248583 \r\nL 304.949845 209.250015 \r\nL 308.024225 209.251379 \r\nL 311.098605 209.25271 \r\nL 314.172986 209.253858 \r\nL 317.247366 209.255234 \r\nL 320.321746 209.256265 \r\nL 323.396126 209.256981 \r\nL 326.470506 209.257661 \r\nL 329.544886 209.257956 \r\nL 332.619267 209.258162 \r\nL 335.693647 209.25854 \r\nL 338.768027 209.258916 \r\nL 341.842407 209.258862 \r\nL 344.916787 209.259026 \r\nL 347.991167 209.258901 \r\nL 351.065548 209.259055 \r\nL 354.139928 209.257854 \r\nL 357.214308 209.255678 \r\nL 360.288688 209.252523 \r\nL 363.363068 209.250807 \r\n\" style=\"fill:none;stroke:#ff7f0e;stroke-linecap:square;stroke-width:1.5;\"/>\r\n   </g>\r\n   <g id=\"patch_3\">\r\n    <path d=\"M 43.78125 224.64 \r\nL 43.78125 7.2 \r\n\" style=\"fill:none;stroke:#000000;stroke-linecap:square;stroke-linejoin:miter;stroke-width:0.8;\"/>\r\n   </g>\r\n   <g id=\"patch_4\">\r\n    <path d=\"M 378.58125 224.64 \r\nL 378.58125 7.2 \r\n\" style=\"fill:none;stroke:#000000;stroke-linecap:square;stroke-linejoin:miter;stroke-width:0.8;\"/>\r\n   </g>\r\n   <g id=\"patch_5\">\r\n    <path d=\"M 43.78125 224.64 \r\nL 378.58125 224.64 \r\n\" style=\"fill:none;stroke:#000000;stroke-linecap:square;stroke-linejoin:miter;stroke-width:0.8;\"/>\r\n   </g>\r\n   <g id=\"patch_6\">\r\n    <path d=\"M 43.78125 7.2 \r\nL 378.58125 7.2 \r\n\" style=\"fill:none;stroke:#000000;stroke-linecap:square;stroke-linejoin:miter;stroke-width:0.8;\"/>\r\n   </g>\r\n   <g id=\"legend_1\">\r\n    <g id=\"patch_7\">\r\n     <path d=\"M 316.30625 44.55625 \r\nL 371.58125 44.55625 \r\nQ 373.58125 44.55625 373.58125 42.55625 \r\nL 373.58125 14.2 \r\nQ 373.58125 12.2 371.58125 12.2 \r\nL 316.30625 12.2 \r\nQ 314.30625 12.2 314.30625 14.2 \r\nL 314.30625 42.55625 \r\nQ 314.30625 44.55625 316.30625 44.55625 \r\nz\r\n\" style=\"fill:#ffffff;opacity:0.8;stroke:#cccccc;stroke-linejoin:miter;\"/>\r\n    </g>\r\n    <g id=\"line2d_16\">\r\n     <path d=\"M 318.30625 20.298437 \r\nL 338.30625 20.298437 \r\n\" style=\"fill:none;stroke:#1f77b4;stroke-linecap:square;stroke-width:1.5;\"/>\r\n    </g>\r\n    <g id=\"line2d_17\"/>\r\n    <g id=\"text_16\">\r\n     <!-- train -->\r\n     <g transform=\"translate(346.30625 23.798437)scale(0.1 -0.1)\">\r\n      <defs>\r\n       <path d=\"M 2631 2963 \r\nQ 2534 3019 2420 3045 \r\nQ 2306 3072 2169 3072 \r\nQ 1681 3072 1420 2755 \r\nQ 1159 2438 1159 1844 \r\nL 1159 0 \r\nL 581 0 \r\nL 581 3500 \r\nL 1159 3500 \r\nL 1159 2956 \r\nQ 1341 3275 1631 3429 \r\nQ 1922 3584 2338 3584 \r\nQ 2397 3584 2469 3576 \r\nQ 2541 3569 2628 3553 \r\nL 2631 2963 \r\nz\r\n\" id=\"DejaVuSans-72\" transform=\"scale(0.015625)\"/>\r\n       <path d=\"M 2194 1759 \r\nQ 1497 1759 1228 1600 \r\nQ 959 1441 959 1056 \r\nQ 959 750 1161 570 \r\nQ 1363 391 1709 391 \r\nQ 2188 391 2477 730 \r\nQ 2766 1069 2766 1631 \r\nL 2766 1759 \r\nL 2194 1759 \r\nz\r\nM 3341 1997 \r\nL 3341 0 \r\nL 2766 0 \r\nL 2766 531 \r\nQ 2569 213 2275 61 \r\nQ 1981 -91 1556 -91 \r\nQ 1019 -91 701 211 \r\nQ 384 513 384 1019 \r\nQ 384 1609 779 1909 \r\nQ 1175 2209 1959 2209 \r\nL 2766 2209 \r\nL 2766 2266 \r\nQ 2766 2663 2505 2880 \r\nQ 2244 3097 1772 3097 \r\nQ 1472 3097 1187 3025 \r\nQ 903 2953 641 2809 \r\nL 641 3341 \r\nQ 956 3463 1253 3523 \r\nQ 1550 3584 1831 3584 \r\nQ 2591 3584 2966 3190 \r\nQ 3341 2797 3341 1997 \r\nz\r\n\" id=\"DejaVuSans-61\" transform=\"scale(0.015625)\"/>\r\n       <path d=\"M 603 3500 \r\nL 1178 3500 \r\nL 1178 0 \r\nL 603 0 \r\nL 603 3500 \r\nz\r\nM 603 4863 \r\nL 1178 4863 \r\nL 1178 4134 \r\nL 603 4134 \r\nL 603 4863 \r\nz\r\n\" id=\"DejaVuSans-69\" transform=\"scale(0.015625)\"/>\r\n       <path d=\"M 3513 2113 \r\nL 3513 0 \r\nL 2938 0 \r\nL 2938 2094 \r\nQ 2938 2591 2744 2837 \r\nQ 2550 3084 2163 3084 \r\nQ 1697 3084 1428 2787 \r\nQ 1159 2491 1159 1978 \r\nL 1159 0 \r\nL 581 0 \r\nL 581 3500 \r\nL 1159 3500 \r\nL 1159 2956 \r\nQ 1366 3272 1645 3428 \r\nQ 1925 3584 2291 3584 \r\nQ 2894 3584 3203 3211 \r\nQ 3513 2838 3513 2113 \r\nz\r\n\" id=\"DejaVuSans-6e\" transform=\"scale(0.015625)\"/>\r\n      </defs>\r\n      <use xlink:href=\"#DejaVuSans-74\"/>\r\n      <use x=\"39.208984\" xlink:href=\"#DejaVuSans-72\"/>\r\n      <use x=\"80.322266\" xlink:href=\"#DejaVuSans-61\"/>\r\n      <use x=\"141.601562\" xlink:href=\"#DejaVuSans-69\"/>\r\n      <use x=\"169.384766\" xlink:href=\"#DejaVuSans-6e\"/>\r\n     </g>\r\n    </g>\r\n    <g id=\"line2d_18\">\r\n     <path d=\"M 318.30625 34.976562 \r\nL 338.30625 34.976562 \r\n\" style=\"fill:none;stroke:#ff7f0e;stroke-linecap:square;stroke-width:1.5;\"/>\r\n    </g>\r\n    <g id=\"line2d_19\"/>\r\n    <g id=\"text_17\">\r\n     <!-- val -->\r\n     <g transform=\"translate(346.30625 38.476562)scale(0.1 -0.1)\">\r\n      <defs>\r\n       <path d=\"M 191 3500 \r\nL 800 3500 \r\nL 1894 563 \r\nL 2988 3500 \r\nL 3597 3500 \r\nL 2284 0 \r\nL 1503 0 \r\nL 191 3500 \r\nz\r\n\" id=\"DejaVuSans-76\" transform=\"scale(0.015625)\"/>\r\n       <path d=\"M 603 4863 \r\nL 1178 4863 \r\nL 1178 0 \r\nL 603 0 \r\nL 603 4863 \r\nz\r\n\" id=\"DejaVuSans-6c\" transform=\"scale(0.015625)\"/>\r\n      </defs>\r\n      <use xlink:href=\"#DejaVuSans-76\"/>\r\n      <use x=\"59.179688\" xlink:href=\"#DejaVuSans-61\"/>\r\n      <use x=\"120.458984\" xlink:href=\"#DejaVuSans-6c\"/>\r\n     </g>\r\n    </g>\r\n   </g>\r\n  </g>\r\n </g>\r\n <defs>\r\n  <clipPath id=\"p493fb81ddb\">\r\n   <rect height=\"217.44\" width=\"334.8\" x=\"43.78125\" y=\"7.2\"/>\r\n  </clipPath>\r\n </defs>\r\n</svg>\r\n",
      "image/png": "[encoded data removed]"
     },
     "metadata": {
      "needs_background": "light"
     }
    }
   ],
   "source": [
    "import matplotlib.pyplot as plt\n",
    "for phase, loss in loss_log.items():\n",
    "    plt.plot(loss[:100], label=phase)\n",
    "plt.legend()\n",
    "plt.ylabel(\"Loss\")\n",
    "plt.xlabel(\"Num Steps\")"
   ]
  },
  {
   "cell_type": "code",
   "execution_count": 55,
   "metadata": {
    "tags": []
   },
   "outputs": [],
   "source": [
    "def extract_text_from_annotations(annotations, plaintext_directory, window_size): \n",
    "    extracts = {\"text\": [], \"idxs\":[], \"labels\":[]}\n",
    "    for _, anno in annotations.iterrows():\n",
    "        anno_filepath = os.path.join(plaintext_directory, anno.file)\n",
    "        anno_start = anno.start\n",
    "        anno_length = anno.end - anno.start\n",
    "        with open(anno_filepath, 'r', encoding=\"utf8\") as plaintext_file:\n",
    "            plaintext = plaintext_file.read()\n",
    "            preprocessed_start = preprocess_text(plaintext[:anno_start])\n",
    "            preprocessed_end = preprocess_text(plaintext[anno_start:])\n",
    "            offset = len(plaintext[:anno_start]) - len(preprocessed_start)\n",
    "            \n",
    "            anno_start_pre = anno_start - offset\n",
    "            plaintext = preprocessed_start + preprocessed_end\n",
    "            extract, start_idx = extract_centred_string(plaintext, anno_start_pre, window_size)\n",
    "            extracts[\"text\"] += [extract]\n",
    "            extracts[\"idxs\"] += [[start_idx, start_idx+anno_length]]\n",
    "            extracts[\"labels\"] += [anno[\"class\"]]\n",
    "    return extracts"
   ]
  },
  {
   "cell_type": "code",
   "execution_count": 61,
   "metadata": {},
   "outputs": [
    {
     "output_type": "stream",
     "name": "stdout",
     "text": [
      "[14218, 14218, 14218]\n[1438, 1438, 1438]\n"
     ]
    }
   ],
   "source": [
    "import pandas as pd\n",
    "\n",
    "annotations = pd.read_csv(os.path.join(\"amlh_nlp_dataset\", \"amlh_nlp_dataset\",\"amlh_coursework_annotated.csv\"))\n",
    "annotations_train = annotations[annotations.file.isin(fnames_train+fnames_val)]\n",
    "annotations_test = annotations[annotations.file.isin(fnames_test)]\n",
    "\n",
    "extracts_train = extract_text_from_annotations(annotations_train, plaintext_directory, window_size)\n",
    "extracts_test = extract_text_from_annotations(annotations_test, plaintext_directory, window_size)\n",
    "\n",
    "print([len(feature) for feature in extracts_train.values()])\n",
    "print([len(feature) for feature in extracts_test.values()])"
   ]
  },
  {
   "cell_type": "code",
   "execution_count": 80,
   "metadata": {
    "tags": []
   },
   "outputs": [
    {
     "output_type": "stream",
     "name": "stdout",
     "text": [
      "torch.Size([14218, 128]) torch.Size([1438, 128])\n"
     ]
    }
   ],
   "source": [
    "tokenizer = BertTokenizer.from_pretrained('bert-base-uncased')\n",
    "inputs_train = tokenizer(extracts_train[\"text\"], return_tensors='pt', padding='max_length', max_length=128)\n",
    "inputs_test = tokenizer(extracts_test[\"text\"], return_tensors='pt', padding='max_length', max_length=128)\n",
    "\n",
    "extracts_train = {**extracts_train, **inputs_train}\n",
    "extracts_test = {**extracts_test, **inputs_test}\n",
    "\n",
    "print(inputs_train.input_ids.size(), inputs_test.input_ids.size())"
   ]
  },
  {
   "cell_type": "code",
   "execution_count": 99,
   "metadata": {},
   "outputs": [],
   "source": [
    "class MT_NERSamplesDataset(torch.utils.data.Dataset):\n",
    "    def __init__(self, extracts):\n",
    "        self.extracts = extracts\n",
    "    def __getitem__(self, idx):\n",
    "        return {key: value[idx] for key, value in self.extracts.items()}\n",
    "    def __len__(self):\n",
    "        return len(self.extracts[\"input_ids\"])\n",
    "    def get_phrase(sample):\n",
    "        text = sample[\"text\"]\n",
    "        idxs = sample[\"idxs\"]\n",
    "        return text[idxs[0]:idxs[1]]"
   ]
  },
  {
   "cell_type": "code",
   "execution_count": 102,
   "metadata": {
    "tags": []
   },
   "outputs": [
    {
     "output_type": "stream",
     "name": "stdout",
     "text": [
      "[14218, 1438]\n[1778, 180]\ndict_keys(['text', 'idxs', 'labels', 'input_ids', 'token_type_ids', 'attention_mask'])\ncolon cancer\n"
     ]
    }
   ],
   "source": [
    "datasets = {\"train\": MT_NERSamplesDataset(extracts_train), \"test\": MT_NERSamplesDataset(extracts_test)}\n",
    "dataloaders = {key: torch.utils.data.DataLoader(dataset, batch_size=8) for key, dataset in datasets.items()}\n",
    "\n",
    "print([len(dataset) for dataset in datasets.values()])\n",
    "print([len(dataloader) for dataloader in dataloaders.values()])\n",
    "sample = datasets[\"train\"][0]\n",
    "print(sample.keys())\n",
    "print(MT_NERSamplesDataset.get_phrase(sample))"
   ]
  },
  {
   "cell_type": "code",
   "execution_count": 126,
   "metadata": {
    "tags": []
   },
   "outputs": [
    {
     "output_type": "stream",
     "name": "stdout",
     "text": [
      "8\ntorch.Size([8, 128, 768])\n"
     ]
    }
   ],
   "source": [
    "# feature_vectors = torch.zeros()\n",
    "# for phase in [\"train\", \"test\"]:\n",
    "model = model.eval()\n",
    "batch = next(iter(dataloaders[\"train\"]))\n",
    "input_ids = batch[\"input_ids\"].to(device)\n",
    "print(len(input_ids))\n",
    "attention_mask = batch[\"attention_mask\"].to(device)\n",
    "with torch.set_grad_enabled(False):\n",
    "    outputs = model(input_ids, attention_mask=attention_mask, output_hidden_states=True)\n",
    "print(outputs.hidden_states[-1].size())"
   ]
  },
  {
   "cell_type": "code",
   "execution_count": null,
   "metadata": {},
   "outputs": [],
   "source": []
  }
 ]
}